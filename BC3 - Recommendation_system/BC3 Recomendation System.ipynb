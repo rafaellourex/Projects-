{
 "cells": [
  {
   "cell_type": "markdown",
   "id": "32aa4aed",
   "metadata": {},
   "source": [
    "__Group E - Datalin__\n",
    "- Alice Vale R20181074  \n",
    "- Eva Ferrer R20181110  \n",
    "- Rafael Sequeira R20181128  \n",
    "- Raquel Sousa R20181102"
   ]
  },
  {
   "cell_type": "markdown",
   "id": "94762e78",
   "metadata": {},
   "source": [
    "#### Install Missing Libraries"
   ]
  },
  {
   "cell_type": "code",
   "execution_count": null,
   "id": "0c39e5a3",
   "metadata": {},
   "outputs": [],
   "source": [
    "# ! pip install mixtend\n",
    "# ! pip install LibRecommender\n",
    "# ! pip install lightfm\n",
    "# !pip install implicit"
   ]
  },
  {
   "cell_type": "code",
   "execution_count": 1,
   "id": "e1f8efbc",
   "metadata": {},
   "outputs": [
    {
     "name": "stderr",
     "output_type": "stream",
     "text": [
      "D:\\Rafael\\Anaconda_Setup\\envs\\Personal\\lib\\site-packages\\lightfm\\_lightfm_fast.py:9: UserWarning: LightFM was compiled without OpenMP support. Only a single thread will be used.\n",
      "  warnings.warn(\n"
     ]
    }
   ],
   "source": [
    "import datetime\n",
    "\n",
    "import numpy as np\n",
    "import pandas as pd \n",
    "import matplotlib.pyplot as plt\n",
    "import seaborn as sns\n",
    "from scipy.sparse import coo_matrix, csr_matrix\n",
    "\n",
    "import lightfm\n",
    "import implicit \n",
    "from implicit.nearest_neighbours import bm25_weight\n",
    "\n",
    "from mlxtend.frequent_patterns import apriori, association_rules"
   ]
  },
  {
   "cell_type": "markdown",
   "id": "2fd94ec7",
   "metadata": {},
   "source": [
    "#### Set graphs style"
   ]
  },
  {
   "cell_type": "code",
   "execution_count": 104,
   "id": "94d0f976",
   "metadata": {},
   "outputs": [],
   "source": [
    "sns.set_style('whitegrid')"
   ]
  },
  {
   "cell_type": "markdown",
   "id": "aea80cbe",
   "metadata": {},
   "source": [
    "### Import data"
   ]
  },
  {
   "cell_type": "code",
   "execution_count": 2,
   "id": "83e7a1f2",
   "metadata": {},
   "outputs": [],
   "source": [
    "data = pd.read_csv('retail.csv')"
   ]
  },
  {
   "cell_type": "code",
   "execution_count": 156,
   "id": "f1e29807",
   "metadata": {},
   "outputs": [
    {
     "name": "stdout",
     "output_type": "stream",
     "text": [
      "<class 'pandas.core.frame.DataFrame'>\n",
      "Int64Index: 536641 entries, 0 to 541908\n",
      "Data columns (total 8 columns):\n",
      " #   Column       Non-Null Count   Dtype  \n",
      "---  ------       --------------   -----  \n",
      " 0   InvoiceNo    536641 non-null  object \n",
      " 1   StockCode    536641 non-null  object \n",
      " 2   Description  535187 non-null  object \n",
      " 3   Quantity     536641 non-null  int64  \n",
      " 4   InvoiceDate  536641 non-null  object \n",
      " 5   UnitPrice    536641 non-null  float64\n",
      " 6   CustomerID   401604 non-null  float64\n",
      " 7   Country      536641 non-null  object \n",
      "dtypes: float64(2), int64(1), object(5)\n",
      "memory usage: 36.8+ MB\n"
     ]
    }
   ],
   "source": [
    "#information about the data\n",
    "data.info()"
   ]
  },
  {
   "cell_type": "code",
   "execution_count": 160,
   "id": "beb7f368",
   "metadata": {
    "scrolled": true
   },
   "outputs": [
    {
     "data": {
      "text/html": [
       "<div>\n",
       "<style scoped>\n",
       "    .dataframe tbody tr th:only-of-type {\n",
       "        vertical-align: middle;\n",
       "    }\n",
       "\n",
       "    .dataframe tbody tr th {\n",
       "        vertical-align: top;\n",
       "    }\n",
       "\n",
       "    .dataframe thead th {\n",
       "        text-align: right;\n",
       "    }\n",
       "</style>\n",
       "<table border=\"1\" class=\"dataframe\">\n",
       "  <thead>\n",
       "    <tr style=\"text-align: right;\">\n",
       "      <th></th>\n",
       "      <th>count</th>\n",
       "      <th>unique</th>\n",
       "      <th>top</th>\n",
       "      <th>freq</th>\n",
       "      <th>mean</th>\n",
       "      <th>std</th>\n",
       "      <th>min</th>\n",
       "      <th>25%</th>\n",
       "      <th>50%</th>\n",
       "      <th>75%</th>\n",
       "      <th>max</th>\n",
       "    </tr>\n",
       "  </thead>\n",
       "  <tbody>\n",
       "    <tr>\n",
       "      <th>InvoiceNo</th>\n",
       "      <td>536641</td>\n",
       "      <td>25900</td>\n",
       "      <td>573585</td>\n",
       "      <td>1114</td>\n",
       "      <td>NaN</td>\n",
       "      <td>NaN</td>\n",
       "      <td>NaN</td>\n",
       "      <td>NaN</td>\n",
       "      <td>NaN</td>\n",
       "      <td>NaN</td>\n",
       "      <td>NaN</td>\n",
       "    </tr>\n",
       "    <tr>\n",
       "      <th>StockCode</th>\n",
       "      <td>536641</td>\n",
       "      <td>4070</td>\n",
       "      <td>85123A</td>\n",
       "      <td>2301</td>\n",
       "      <td>NaN</td>\n",
       "      <td>NaN</td>\n",
       "      <td>NaN</td>\n",
       "      <td>NaN</td>\n",
       "      <td>NaN</td>\n",
       "      <td>NaN</td>\n",
       "      <td>NaN</td>\n",
       "    </tr>\n",
       "    <tr>\n",
       "      <th>Description</th>\n",
       "      <td>535187</td>\n",
       "      <td>4223</td>\n",
       "      <td>WHITE HANGING HEART T-LIGHT HOLDER</td>\n",
       "      <td>2357</td>\n",
       "      <td>NaN</td>\n",
       "      <td>NaN</td>\n",
       "      <td>NaN</td>\n",
       "      <td>NaN</td>\n",
       "      <td>NaN</td>\n",
       "      <td>NaN</td>\n",
       "      <td>NaN</td>\n",
       "    </tr>\n",
       "    <tr>\n",
       "      <th>Quantity</th>\n",
       "      <td>536641</td>\n",
       "      <td>NaN</td>\n",
       "      <td>NaN</td>\n",
       "      <td>NaN</td>\n",
       "      <td>9.62003</td>\n",
       "      <td>219.13</td>\n",
       "      <td>-80995</td>\n",
       "      <td>1</td>\n",
       "      <td>3</td>\n",
       "      <td>10</td>\n",
       "      <td>80995</td>\n",
       "    </tr>\n",
       "    <tr>\n",
       "      <th>InvoiceDate</th>\n",
       "      <td>536641</td>\n",
       "      <td>23260</td>\n",
       "      <td>10/31/2011 14:41</td>\n",
       "      <td>1114</td>\n",
       "      <td>NaN</td>\n",
       "      <td>NaN</td>\n",
       "      <td>NaN</td>\n",
       "      <td>NaN</td>\n",
       "      <td>NaN</td>\n",
       "      <td>NaN</td>\n",
       "      <td>NaN</td>\n",
       "    </tr>\n",
       "    <tr>\n",
       "      <th>UnitPrice</th>\n",
       "      <td>536641</td>\n",
       "      <td>NaN</td>\n",
       "      <td>NaN</td>\n",
       "      <td>NaN</td>\n",
       "      <td>4.63266</td>\n",
       "      <td>97.2331</td>\n",
       "      <td>-11062.1</td>\n",
       "      <td>1.25</td>\n",
       "      <td>2.08</td>\n",
       "      <td>4.13</td>\n",
       "      <td>38970</td>\n",
       "    </tr>\n",
       "    <tr>\n",
       "      <th>CustomerID</th>\n",
       "      <td>401604</td>\n",
       "      <td>NaN</td>\n",
       "      <td>NaN</td>\n",
       "      <td>NaN</td>\n",
       "      <td>15281.2</td>\n",
       "      <td>1714.01</td>\n",
       "      <td>12346</td>\n",
       "      <td>13939</td>\n",
       "      <td>15145</td>\n",
       "      <td>16784</td>\n",
       "      <td>18287</td>\n",
       "    </tr>\n",
       "    <tr>\n",
       "      <th>Country</th>\n",
       "      <td>536641</td>\n",
       "      <td>38</td>\n",
       "      <td>United Kingdom</td>\n",
       "      <td>490300</td>\n",
       "      <td>NaN</td>\n",
       "      <td>NaN</td>\n",
       "      <td>NaN</td>\n",
       "      <td>NaN</td>\n",
       "      <td>NaN</td>\n",
       "      <td>NaN</td>\n",
       "      <td>NaN</td>\n",
       "    </tr>\n",
       "  </tbody>\n",
       "</table>\n",
       "</div>"
      ],
      "text/plain": [
       "              count unique                                 top    freq  \\\n",
       "InvoiceNo    536641  25900                              573585    1114   \n",
       "StockCode    536641   4070                              85123A    2301   \n",
       "Description  535187   4223  WHITE HANGING HEART T-LIGHT HOLDER    2357   \n",
       "Quantity     536641    NaN                                 NaN     NaN   \n",
       "InvoiceDate  536641  23260                    10/31/2011 14:41    1114   \n",
       "UnitPrice    536641    NaN                                 NaN     NaN   \n",
       "CustomerID   401604    NaN                                 NaN     NaN   \n",
       "Country      536641     38                      United Kingdom  490300   \n",
       "\n",
       "                mean      std      min    25%    50%    75%    max  \n",
       "InvoiceNo        NaN      NaN      NaN    NaN    NaN    NaN    NaN  \n",
       "StockCode        NaN      NaN      NaN    NaN    NaN    NaN    NaN  \n",
       "Description      NaN      NaN      NaN    NaN    NaN    NaN    NaN  \n",
       "Quantity     9.62003   219.13   -80995      1      3     10  80995  \n",
       "InvoiceDate      NaN      NaN      NaN    NaN    NaN    NaN    NaN  \n",
       "UnitPrice    4.63266  97.2331 -11062.1   1.25   2.08   4.13  38970  \n",
       "CustomerID   15281.2  1714.01    12346  13939  15145  16784  18287  \n",
       "Country          NaN      NaN      NaN    NaN    NaN    NaN    NaN  "
      ]
     },
     "execution_count": 160,
     "metadata": {},
     "output_type": "execute_result"
    }
   ],
   "source": [
    "#statistical description\n",
    "data.describe(include='all').T"
   ]
  },
  {
   "cell_type": "markdown",
   "id": "6224d74c",
   "metadata": {},
   "source": [
    "###  Data Cleaning "
   ]
  },
  {
   "cell_type": "markdown",
   "id": "05485000",
   "metadata": {},
   "source": [
    "The data cleaning stage is composed by the following tasks:\n",
    "\n",
    "- Drop Duplicates  \n",
    "- Missing Value Examination\n",
    "- Fix wrong descriptions    \n",
    "- Incoherence Checking   \n",
    "- Feature Engineer  "
   ]
  },
  {
   "cell_type": "markdown",
   "id": "c2efda9d",
   "metadata": {},
   "source": [
    "#### Check for duplicates"
   ]
  },
  {
   "cell_type": "code",
   "execution_count": 4,
   "id": "76dbf648",
   "metadata": {
    "scrolled": true
   },
   "outputs": [
    {
     "name": "stdout",
     "output_type": "stream",
     "text": [
      "There are 5268 duplicated rows\n"
     ]
    }
   ],
   "source": [
    "print(f'There are {data.loc[data.duplicated()].shape[0]} duplicated rows')"
   ]
  },
  {
   "cell_type": "code",
   "execution_count": 6,
   "id": "4ac9f17a",
   "metadata": {},
   "outputs": [
    {
     "name": "stdout",
     "output_type": "stream",
     "text": [
      "0.01% of the data were duplicates and was removed.\n"
     ]
    }
   ],
   "source": [
    "#drop duplicates\n",
    "init_len0 = len(data)\n",
    "data = data.loc[~data.duplicated(keep='first')]\n",
    "fin_len0 = len(data)\n",
    "print(f'{np.round(1 - (fin_len0/init_len0),3)}% of the data were duplicates and was removed.')\n",
    "#create a copy of the original DF for data preparation/cleaning\n",
    "data_clean = data.copy()"
   ]
  },
  {
   "cell_type": "code",
   "execution_count": 8,
   "id": "bd535723",
   "metadata": {
    "scrolled": true
   },
   "outputs": [
    {
     "name": "stdout",
     "output_type": "stream",
     "text": [
      "The store has 4070 products and 4373 customers\n",
      "25900 transactions happened in the store.\n"
     ]
    }
   ],
   "source": [
    "products_list = data['StockCode'].unique()\n",
    "customers_list = data['CustomerID'].unique()\n",
    "nr_transaction = data['InvoiceNo'].unique()\n",
    "print(f'The store has {len(products_list)} products and {len(customers_list)} customers')\n",
    "print(f'{len(nr_transaction)} transactions happened in the store.')"
   ]
  },
  {
   "cell_type": "markdown",
   "id": "ebb9533b",
   "metadata": {},
   "source": [
    "#### Missing Values"
   ]
  },
  {
   "cell_type": "code",
   "execution_count": 109,
   "id": "76a77222",
   "metadata": {},
   "outputs": [
    {
     "data": {
      "text/plain": [
       "InvoiceNo           0\n",
       "StockCode           0\n",
       "Description      1454\n",
       "Quantity            0\n",
       "InvoiceDate         0\n",
       "UnitPrice           0\n",
       "CustomerID     135080\n",
       "Country             0\n",
       "dtype: int64"
      ]
     },
     "execution_count": 109,
     "metadata": {},
     "output_type": "execute_result"
    }
   ],
   "source": [
    "#checking missing values\n",
    "data_clean.isnull().sum()"
   ]
  },
  {
   "cell_type": "markdown",
   "id": "1f68855a",
   "metadata": {},
   "source": [
    "#### Create Stock Signature to match descriptions "
   ]
  },
  {
   "cell_type": "code",
   "execution_count": 3,
   "id": "a23722ef",
   "metadata": {},
   "outputs": [
    {
     "data": {
      "text/html": [
       "<div>\n",
       "<style scoped>\n",
       "    .dataframe tbody tr th:only-of-type {\n",
       "        vertical-align: middle;\n",
       "    }\n",
       "\n",
       "    .dataframe tbody tr th {\n",
       "        vertical-align: top;\n",
       "    }\n",
       "\n",
       "    .dataframe thead th {\n",
       "        text-align: right;\n",
       "    }\n",
       "</style>\n",
       "<table border=\"1\" class=\"dataframe\">\n",
       "  <thead>\n",
       "    <tr style=\"text-align: right;\">\n",
       "      <th></th>\n",
       "      <th>Unnamed: 0</th>\n",
       "      <th>StockCode</th>\n",
       "      <th>Description</th>\n",
       "    </tr>\n",
       "  </thead>\n",
       "  <tbody>\n",
       "    <tr>\n",
       "      <th>0</th>\n",
       "      <td>0</td>\n",
       "      <td>85123A</td>\n",
       "      <td>WHITE HANGING HEART T-LIGHT HOLDER</td>\n",
       "    </tr>\n",
       "    <tr>\n",
       "      <th>1</th>\n",
       "      <td>1</td>\n",
       "      <td>71053</td>\n",
       "      <td>WHITE METAL LANTERN</td>\n",
       "    </tr>\n",
       "    <tr>\n",
       "      <th>2</th>\n",
       "      <td>2</td>\n",
       "      <td>84406B</td>\n",
       "      <td>CREAM CUPID HEARTS COAT HANGER</td>\n",
       "    </tr>\n",
       "  </tbody>\n",
       "</table>\n",
       "</div>"
      ],
      "text/plain": [
       "   Unnamed: 0 StockCode                         Description\n",
       "0           0    85123A  WHITE HANGING HEART T-LIGHT HOLDER\n",
       "1           1     71053                 WHITE METAL LANTERN\n",
       "2           2    84406B      CREAM CUPID HEARTS COAT HANGER"
      ]
     },
     "execution_count": 3,
     "metadata": {},
     "output_type": "execute_result"
    }
   ],
   "source": [
    "#create signature \n",
    "# stock = pd.DataFrame()\n",
    "# description = []\n",
    "# stockid = []\n",
    "# for i in data['StockCode'].unique():\n",
    "#     #check all description names that occures with a single stockcode\n",
    "#     value_df = data.loc[(data['StockCode']==f'{i}') & (data['Description'].isnull()==False)]\n",
    "      \n",
    "#     if len(value_df)>0:\n",
    "          #get the most frequent description and associate it with the respective stockcode\n",
    "#         value = value_df['Description'].value_counts().index[0]\n",
    "#         stockid.append(i)\n",
    "#         description.append(value)\n",
    "    \n",
    "# stock['StockCode'] = stockid\n",
    "# stock['Description'] = description\n",
    "\n",
    "# stock.to_csv(r'Stock_description.csv')\n",
    "stock = pd.read_csv(r'Stock_description.csv')\n",
    "stock.head(3)"
   ]
  },
  {
   "cell_type": "code",
   "execution_count": 7,
   "id": "43cdc87b",
   "metadata": {},
   "outputs": [],
   "source": [
    "# drop old description and merge the new description from the stock df\n",
    "data_clean.drop(columns=['Description'],inplace=True)\n",
    "data_clean = pd.merge(data_clean,stock.reset_index()[['StockCode','Description']],how='left', on='StockCode')"
   ]
  },
  {
   "cell_type": "code",
   "execution_count": 337,
   "id": "3fd2791a",
   "metadata": {
    "scrolled": true
   },
   "outputs": [
    {
     "data": {
      "text/plain": [
       "InvoiceNo           0\n",
       "StockCode           0\n",
       "Quantity            0\n",
       "InvoiceDate         0\n",
       "UnitPrice           0\n",
       "CustomerID     135037\n",
       "Country             0\n",
       "Description       112\n",
       "dtype: int64"
      ]
     },
     "execution_count": 337,
     "metadata": {},
     "output_type": "execute_result"
    }
   ],
   "source": [
    "#check missing values\n",
    "# missing values dropped from 1454 to 112\n",
    "data_clean.isnull().sum()"
   ]
  },
  {
   "cell_type": "markdown",
   "id": "7d867444",
   "metadata": {},
   "source": [
    "#### Create invoice signature to match IDs"
   ]
  },
  {
   "cell_type": "code",
   "execution_count": null,
   "id": "245dc314",
   "metadata": {},
   "outputs": [],
   "source": [
    "#create signature \n",
    "# invoice = pd.DataFrame()\n",
    "# custid = []\n",
    "# invoiceid = []\n",
    "# for i in data['InvoiceNo'].unique():\n",
    "#     #check all customerIDs that occures with a single invoiceNo\n",
    "#     value_df = data.loc[(data['InvoiceNo']==f'{i}') & (data['CustomerID'].isnull()==False)]\n",
    "      #get the most frequent CustomerID and associate it with the respective Invoice\n",
    "#     if len(value_df)>0:\n",
    "#         value = value_df['CustomerID'].value_counts().index[0]\n",
    "#         invoiceid.append(i)\n",
    "#         custid.append(value)\n",
    "    \n",
    "# invoice['InvoiceNo'] = invoiceid\n",
    "# invoice['CustId'] = custid\n",
    "\n",
    "#invoice.to_csv('Invoice_Customer_Match.csv')\n",
    "invoice = pd.read_csv('Invoice_Customer_Match.csv')"
   ]
  },
  {
   "cell_type": "code",
   "execution_count": 8,
   "id": "0b038ca4",
   "metadata": {},
   "outputs": [],
   "source": [
    "data_clean['CustId'] = data_clean['CustomerID']\n",
    "data_clean.drop(columns=['CustomerID'],inplace=True)\n",
    "#data_clean__ = pd.merge(data_clean,invoice[['InvoiceNo','CustId']],how='left', on='InvoiceNo')"
   ]
  },
  {
   "cell_type": "code",
   "execution_count": 8,
   "id": "a12d240d",
   "metadata": {
    "scrolled": false
   },
   "outputs": [
    {
     "data": {
      "text/plain": [
       "InvoiceNo           0\n",
       "StockCode           0\n",
       "Quantity            0\n",
       "InvoiceDate         0\n",
       "UnitPrice           0\n",
       "Country             0\n",
       "Description       112\n",
       "CustId         135037\n",
       "dtype: int64"
      ]
     },
     "execution_count": 8,
     "metadata": {},
     "output_type": "execute_result"
    }
   ],
   "source": [
    "#Final Missing Values\n",
    "data_clean.isnull().sum()"
   ]
  },
  {
   "cell_type": "markdown",
   "id": "7e9daf72",
   "metadata": {},
   "source": [
    "#### Incoherences"
   ]
  },
  {
   "cell_type": "code",
   "execution_count": 10,
   "id": "e807299e",
   "metadata": {
    "collapsed": true
   },
   "outputs": [
    {
     "data": {
      "text/html": [
       "<div>\n",
       "<style scoped>\n",
       "    .dataframe tbody tr th:only-of-type {\n",
       "        vertical-align: middle;\n",
       "    }\n",
       "\n",
       "    .dataframe tbody tr th {\n",
       "        vertical-align: top;\n",
       "    }\n",
       "\n",
       "    .dataframe thead th {\n",
       "        text-align: right;\n",
       "    }\n",
       "</style>\n",
       "<table border=\"1\" class=\"dataframe\">\n",
       "  <thead>\n",
       "    <tr style=\"text-align: right;\">\n",
       "      <th></th>\n",
       "      <th>InvoiceNo</th>\n",
       "      <th>StockCode</th>\n",
       "      <th>Quantity</th>\n",
       "      <th>InvoiceDate</th>\n",
       "      <th>UnitPrice</th>\n",
       "      <th>Country</th>\n",
       "      <th>Description</th>\n",
       "      <th>CustId</th>\n",
       "    </tr>\n",
       "  </thead>\n",
       "  <tbody>\n",
       "    <tr>\n",
       "      <th>141</th>\n",
       "      <td>C536379</td>\n",
       "      <td>D</td>\n",
       "      <td>-1</td>\n",
       "      <td>12/1/2010 9:41</td>\n",
       "      <td>27.50</td>\n",
       "      <td>United Kingdom</td>\n",
       "      <td>Discount</td>\n",
       "      <td>14527.0</td>\n",
       "    </tr>\n",
       "    <tr>\n",
       "      <th>154</th>\n",
       "      <td>C536383</td>\n",
       "      <td>35004C</td>\n",
       "      <td>-1</td>\n",
       "      <td>12/1/2010 9:49</td>\n",
       "      <td>4.65</td>\n",
       "      <td>United Kingdom</td>\n",
       "      <td>SET OF 3 COLOURED  FLYING DUCKS</td>\n",
       "      <td>15311.0</td>\n",
       "    </tr>\n",
       "    <tr>\n",
       "      <th>235</th>\n",
       "      <td>C536391</td>\n",
       "      <td>22556</td>\n",
       "      <td>-12</td>\n",
       "      <td>12/1/2010 10:24</td>\n",
       "      <td>1.65</td>\n",
       "      <td>United Kingdom</td>\n",
       "      <td>PLASTERS IN TIN CIRCUS PARADE</td>\n",
       "      <td>17548.0</td>\n",
       "    </tr>\n",
       "    <tr>\n",
       "      <th>236</th>\n",
       "      <td>C536391</td>\n",
       "      <td>21984</td>\n",
       "      <td>-24</td>\n",
       "      <td>12/1/2010 10:24</td>\n",
       "      <td>0.29</td>\n",
       "      <td>United Kingdom</td>\n",
       "      <td>PACK OF 12 PINK PAISLEY TISSUES</td>\n",
       "      <td>17548.0</td>\n",
       "    </tr>\n",
       "    <tr>\n",
       "      <th>237</th>\n",
       "      <td>C536391</td>\n",
       "      <td>21983</td>\n",
       "      <td>-24</td>\n",
       "      <td>12/1/2010 10:24</td>\n",
       "      <td>0.29</td>\n",
       "      <td>United Kingdom</td>\n",
       "      <td>PACK OF 12 BLUE PAISLEY TISSUES</td>\n",
       "      <td>17548.0</td>\n",
       "    </tr>\n",
       "    <tr>\n",
       "      <th>...</th>\n",
       "      <td>...</td>\n",
       "      <td>...</td>\n",
       "      <td>...</td>\n",
       "      <td>...</td>\n",
       "      <td>...</td>\n",
       "      <td>...</td>\n",
       "      <td>...</td>\n",
       "      <td>...</td>\n",
       "    </tr>\n",
       "    <tr>\n",
       "      <th>535188</th>\n",
       "      <td>C581490</td>\n",
       "      <td>23144</td>\n",
       "      <td>-11</td>\n",
       "      <td>12/9/2011 9:57</td>\n",
       "      <td>0.83</td>\n",
       "      <td>United Kingdom</td>\n",
       "      <td>ZINC T-LIGHT HOLDER STARS SMALL</td>\n",
       "      <td>14397.0</td>\n",
       "    </tr>\n",
       "    <tr>\n",
       "      <th>536280</th>\n",
       "      <td>C581499</td>\n",
       "      <td>M</td>\n",
       "      <td>-1</td>\n",
       "      <td>12/9/2011 10:28</td>\n",
       "      <td>224.69</td>\n",
       "      <td>United Kingdom</td>\n",
       "      <td>Manual</td>\n",
       "      <td>15498.0</td>\n",
       "    </tr>\n",
       "    <tr>\n",
       "      <th>536447</th>\n",
       "      <td>C581568</td>\n",
       "      <td>21258</td>\n",
       "      <td>-5</td>\n",
       "      <td>12/9/2011 11:57</td>\n",
       "      <td>10.95</td>\n",
       "      <td>United Kingdom</td>\n",
       "      <td>VICTORIAN SEWING BOX LARGE</td>\n",
       "      <td>15311.0</td>\n",
       "    </tr>\n",
       "    <tr>\n",
       "      <th>536448</th>\n",
       "      <td>C581569</td>\n",
       "      <td>84978</td>\n",
       "      <td>-1</td>\n",
       "      <td>12/9/2011 11:58</td>\n",
       "      <td>1.25</td>\n",
       "      <td>United Kingdom</td>\n",
       "      <td>HANGING HEART JAR T-LIGHT HOLDER</td>\n",
       "      <td>17315.0</td>\n",
       "    </tr>\n",
       "    <tr>\n",
       "      <th>536449</th>\n",
       "      <td>C581569</td>\n",
       "      <td>20979</td>\n",
       "      <td>-5</td>\n",
       "      <td>12/9/2011 11:58</td>\n",
       "      <td>1.25</td>\n",
       "      <td>United Kingdom</td>\n",
       "      <td>36 PENCILS TUBE RED RETROSPOT</td>\n",
       "      <td>17315.0</td>\n",
       "    </tr>\n",
       "  </tbody>\n",
       "</table>\n",
       "<p>9251 rows × 8 columns</p>\n",
       "</div>"
      ],
      "text/plain": [
       "       InvoiceNo StockCode  Quantity      InvoiceDate  UnitPrice  \\\n",
       "141      C536379         D        -1   12/1/2010 9:41      27.50   \n",
       "154      C536383    35004C        -1   12/1/2010 9:49       4.65   \n",
       "235      C536391     22556       -12  12/1/2010 10:24       1.65   \n",
       "236      C536391     21984       -24  12/1/2010 10:24       0.29   \n",
       "237      C536391     21983       -24  12/1/2010 10:24       0.29   \n",
       "...          ...       ...       ...              ...        ...   \n",
       "535188   C581490     23144       -11   12/9/2011 9:57       0.83   \n",
       "536280   C581499         M        -1  12/9/2011 10:28     224.69   \n",
       "536447   C581568     21258        -5  12/9/2011 11:57      10.95   \n",
       "536448   C581569     84978        -1  12/9/2011 11:58       1.25   \n",
       "536449   C581569     20979        -5  12/9/2011 11:58       1.25   \n",
       "\n",
       "               Country                       Description   CustId  \n",
       "141     United Kingdom                          Discount  14527.0  \n",
       "154     United Kingdom   SET OF 3 COLOURED  FLYING DUCKS  15311.0  \n",
       "235     United Kingdom    PLASTERS IN TIN CIRCUS PARADE   17548.0  \n",
       "236     United Kingdom  PACK OF 12 PINK PAISLEY TISSUES   17548.0  \n",
       "237     United Kingdom  PACK OF 12 BLUE PAISLEY TISSUES   17548.0  \n",
       "...                ...                               ...      ...  \n",
       "535188  United Kingdom   ZINC T-LIGHT HOLDER STARS SMALL  14397.0  \n",
       "536280  United Kingdom                            Manual  15498.0  \n",
       "536447  United Kingdom        VICTORIAN SEWING BOX LARGE  15311.0  \n",
       "536448  United Kingdom  HANGING HEART JAR T-LIGHT HOLDER  17315.0  \n",
       "536449  United Kingdom     36 PENCILS TUBE RED RETROSPOT  17315.0  \n",
       "\n",
       "[9251 rows x 8 columns]"
      ]
     },
     "execution_count": 10,
     "metadata": {},
     "output_type": "execute_result"
    }
   ],
   "source": [
    "data_clean.loc[data_clean['InvoiceNo'].str.startswith('C'),:]"
   ]
  },
  {
   "cell_type": "code",
   "execution_count": 9,
   "id": "fc4fc82d",
   "metadata": {},
   "outputs": [
    {
     "name": "stdout",
     "output_type": "stream",
     "text": [
      "1.007% of the dataset was removed\n"
     ]
    }
   ],
   "source": [
    "init_len = len(data_clean)\n",
    "data_clean = data_clean.loc[data_clean['StockCode'].str.contains('POST') ==False]\n",
    "data_clean = data_clean.loc[data_clean['StockCode'].str.contains('DOT')==False]\n",
    "data_clean = data_clean.loc[data_clean['Description'].str.contains('Manual')==False]\n",
    "data_clean = data_clean.loc[data_clean['Description'].str.contains('SAMPLE')==False]\n",
    "data_clean = data_clean.loc[data_clean['Description'].str.contains('lost')==False]\n",
    "#transactions with negative units that arent' canceled\n",
    "index = data_clean.loc[(data_clean['Quantity']<0 )& (data_clean['InvoiceNo'].str.startswith('C')==False)].index\n",
    "data_clean = data_clean.loc[data_clean.index.isin(index)==False]\n",
    "data_clean = data_clean.loc[data_clean['StockCode'].isin(['CRUK','D','BANK CHARGES','B','AMAZONFEE'])==False]\n",
    "data_clean = data_clean.loc[(data_clean['Description'] == 'CARRIAGE')==False]\n",
    "data_clean = data_clean.loc[data_clean['UnitPrice']>0]\n",
    "\n",
    "#create variable to find the canceled invoices and respectives transactions\n",
    "# data_clean['Cust_Stock'] = data_clean['CustId'].astype(str) + data_clean['StockCode']\n",
    "#data_clean = data_clean.loc[data_clean['Cust_Stock'].isin(data_clean.loc[data_clean['InvoiceNo'].str.startswith('C'),'Cust_Stock'].unique())==False]\n",
    "\n",
    "fin_len = len(data_clean)\n",
    "removed = np.round((1- (fin_len/init_len))*100,3)\n",
    "print(f'{removed}% of the dataset was removed')"
   ]
  },
  {
   "cell_type": "code",
   "execution_count": 12,
   "id": "afbeec51",
   "metadata": {},
   "outputs": [
    {
     "data": {
      "text/html": [
       "<div>\n",
       "<style scoped>\n",
       "    .dataframe tbody tr th:only-of-type {\n",
       "        vertical-align: middle;\n",
       "    }\n",
       "\n",
       "    .dataframe tbody tr th {\n",
       "        vertical-align: top;\n",
       "    }\n",
       "\n",
       "    .dataframe thead th {\n",
       "        text-align: right;\n",
       "    }\n",
       "</style>\n",
       "<table border=\"1\" class=\"dataframe\">\n",
       "  <thead>\n",
       "    <tr style=\"text-align: right;\">\n",
       "      <th></th>\n",
       "      <th>InvoiceNo</th>\n",
       "      <th>StockCode</th>\n",
       "      <th>Quantity</th>\n",
       "      <th>InvoiceDate</th>\n",
       "      <th>UnitPrice</th>\n",
       "      <th>Country</th>\n",
       "      <th>Description</th>\n",
       "      <th>CustId</th>\n",
       "      <th>Cust_Stock</th>\n",
       "    </tr>\n",
       "  </thead>\n",
       "  <tbody>\n",
       "  </tbody>\n",
       "</table>\n",
       "</div>"
      ],
      "text/plain": [
       "Empty DataFrame\n",
       "Columns: [InvoiceNo, StockCode, Quantity, InvoiceDate, UnitPrice, Country, Description, CustId, Cust_Stock]\n",
       "Index: []"
      ]
     },
     "execution_count": 12,
     "metadata": {},
     "output_type": "execute_result"
    }
   ],
   "source": [
    "teste = data_clean.loc[data_clean['Cust_Stock'].isin(data_clean.loc[data_clean['InvoiceNo'].str.startswith('C'),'Cust_Stock'].unique())==False]\n",
    "teste.loc[teste['InvoiceNo']=='C581484']"
   ]
  },
  {
   "cell_type": "code",
   "execution_count": 10,
   "id": "881d4985",
   "metadata": {},
   "outputs": [],
   "source": [
    "#changing countries names to make the analysis more clear\n",
    "data_clean.loc[data_clean['Country']=='EIRE','Country'] = 'Ireland'\n",
    "data_clean.loc[data_clean['Country']=='RSA','Country'] = 'South_Africa'"
   ]
  },
  {
   "cell_type": "markdown",
   "id": "5d426df2",
   "metadata": {},
   "source": [
    "#### Note on outliers:\n",
    "Since it's a recommendation system we will not remove any outliers from the dataset "
   ]
  },
  {
   "cell_type": "markdown",
   "id": "ec163804",
   "metadata": {},
   "source": [
    "#### Feature Engineer"
   ]
  },
  {
   "cell_type": "code",
   "execution_count": 11,
   "id": "107dd75e",
   "metadata": {},
   "outputs": [],
   "source": [
    "#transform invoiceDate to Datetime\n",
    "data_clean['InvoiceDate'] = pd.to_datetime(data_clean['InvoiceDate'],dayfirst=True)\n",
    "#create month variable \n",
    "data_clean['Month'] = data_clean['InvoiceDate'].dt.month\n",
    "#create date variable\n",
    "data_clean['InvDate'] = data_clean['InvoiceDate'].dt.date\n",
    "\n",
    "# create transaction value \n",
    "data_clean['Transaction_Value'] = data_clean['Quantity'] * data_clean['UnitPrice']\n",
    "\n",
    "#indicates the hour of the transaction\n",
    "data_clean['hour'] = data_clean['InvoiceDate'].dt.hour\n",
    "\n",
    "#indicates the period of the day in which the transaction occured\n",
    "for i,ii,iii in zip([7,12,17],[12,17,24],['Morning','Afternoon','Noon']):\n",
    "    data_clean.loc[(data_clean['hour']>=i) & (data_clean['hour']<ii),'Day_Range'] = iii\n",
    "    \n",
    "#indicates the season of the year in which the transaction occured    \n",
    "data_clean.loc[data_clean['Month'].isin([12,1,2]),'Season'] = 'Winter'\n",
    "data_clean.loc[data_clean['Month'].isin([9,10,11]),'Season'] = 'Autumn'\n",
    "data_clean.loc[data_clean['Month'].isin([3,4,5]),'Season'] = 'Spring'\n",
    "data_clean.loc[data_clean['Month'].isin([6,7,8]),'Season'] = 'Summer'"
   ]
  },
  {
   "cell_type": "code",
   "execution_count": 105,
   "id": "ec026570",
   "metadata": {},
   "outputs": [
    {
     "data": {
      "text/plain": [
       "Text(0.5, 1.0, 'Number of Customers and Products')"
      ]
     },
     "execution_count": 105,
     "metadata": {},
     "output_type": "execute_result"
    },
    {
     "data": {
      "image/png": "[encoded data removed]",
      "text/plain": [
       "<Figure size 504x360 with 1 Axes>"
      ]
     },
     "metadata": {},
     "output_type": "display_data"
    }
   ],
   "source": [
    "plt.figure(figsize = (7,5))\n",
    "axis = sns.barplot(y= [len(data_clean['CustId'].unique()),len(data_clean['StockCode'].unique())],x = ['Nr Costomers', 'Nr Products'],palette=['Turquoise'])\n",
    "plt.title('Number of Customers and Products')"
   ]
  },
  {
   "cell_type": "code",
   "execution_count": 106,
   "id": "8cff4ab8",
   "metadata": {},
   "outputs": [
    {
     "data": {
      "text/plain": [
       "Text(0, 0.5, 'Total Sales')"
      ]
     },
     "execution_count": 106,
     "metadata": {},
     "output_type": "execute_result"
    },
    {
     "data": {
      "image/png": "[encoded data removed]",
      "text/plain": [
       "<Figure size 720x504 with 1 Axes>"
      ]
     },
     "metadata": {},
     "output_type": "display_data"
    }
   ],
   "source": [
    "(data_clean.groupby('Month').count()['Transaction_Value']).plot.bar(figsize = (10,7),color = 'Turquoise')\n",
    "plt.xticks(rotation = 0)\n",
    "plt.title('Number of transactions')\n",
    "plt.ylabel('Total Sales')"
   ]
  },
  {
   "cell_type": "code",
   "execution_count": 108,
   "id": "1f4ffd3c",
   "metadata": {},
   "outputs": [],
   "source": [
    "month_index = data_clean.groupby('Month').sum()['Transaction_Value'].index\n",
    "month_analysis = pd.DataFrame(index = month_index)\n",
    "total_month = data_clean.groupby('Month').sum()['Transaction_Value']\n",
    "count_month = data_clean.groupby(['Month','InvoiceNo']).count()['Transaction_Value'].groupby('Month').count()\n",
    "month_analysis['Total_Value'] = total_month\n",
    "month_analysis['Nr_Transactions'] = count_month"
   ]
  },
  {
   "cell_type": "code",
   "execution_count": 109,
   "id": "587a3b40",
   "metadata": {},
   "outputs": [
    {
     "data": {
      "image/png": "[encoded data removed]",
      "text/plain": [
       "<Figure size 720x504 with 2 Axes>"
      ]
     },
     "metadata": {},
     "output_type": "display_data"
    }
   ],
   "source": [
    "fig, ax1 = plt.subplots(figsize = (10,7))\n",
    "ax1.bar( x =month_analysis.index , height = month_analysis['Total_Value']/1000000,color = 'Turquoise')\n",
    "ax1.set_ylabel('Total value by month')\n",
    "\n",
    "ax2 = ax1.twinx()\n",
    "ax2.plot( month_analysis['Nr_Transactions'])\n",
    "ax2.set_ylabel('Nr of Transactions')\n",
    "plt.title('Transaction value by month considering nr of transactions')\n",
    "\n",
    "ax2.grid(False)"
   ]
  },
  {
   "cell_type": "code",
   "execution_count": 110,
   "id": "43cc7ab0",
   "metadata": {},
   "outputs": [
    {
     "data": {
      "text/plain": [
       "Text(0, 0.5, 'Total Sales')"
      ]
     },
     "execution_count": 110,
     "metadata": {},
     "output_type": "execute_result"
    },
    {
     "data": {
      "image/png": "[encoded data removed]",
      "text/plain": [
       "<Figure size 720x504 with 1 Axes>"
      ]
     },
     "metadata": {},
     "output_type": "display_data"
    }
   ],
   "source": [
    "(month_analysis['Total_Value'] / month_analysis['Nr_Transactions']).plot.bar(figsize = (10,7),color = 'Turquoise')\n",
    "plt.title('Average value per transictions in the different months')\n",
    "plt.ylabel('Total Sales')"
   ]
  },
  {
   "cell_type": "code",
   "execution_count": 111,
   "id": "9bdebb11",
   "metadata": {},
   "outputs": [
    {
     "data": {
      "text/plain": [
       "Text(0, 0.5, 'Total Sales')"
      ]
     },
     "execution_count": 111,
     "metadata": {},
     "output_type": "execute_result"
    },
    {
     "data": {
      "image/png": "[encoded data removed]",
      "text/plain": [
       "<Figure size 720x504 with 1 Axes>"
      ]
     },
     "metadata": {},
     "output_type": "display_data"
    }
   ],
   "source": [
    "(data_clean.groupby('hour').sum()['Transaction_Value']/1000000).plot.bar(figsize = (10,7),color = 'Turquoise')\n",
    "plt.xticks(rotation = 0)\n",
    "plt.title('Total Sales per hour, in millions')\n",
    "plt.ylabel('Total Sales')"
   ]
  },
  {
   "cell_type": "code",
   "execution_count": 112,
   "id": "a9ac833c",
   "metadata": {},
   "outputs": [
    {
     "data": {
      "text/plain": [
       "Text(0, 0.5, 'Number of transactions')"
      ]
     },
     "execution_count": 112,
     "metadata": {},
     "output_type": "execute_result"
    },
    {
     "data": {
      "image/png": "[encoded data removed]",
      "text/plain": [
       "<Figure size 720x504 with 1 Axes>"
      ]
     },
     "metadata": {},
     "output_type": "display_data"
    }
   ],
   "source": [
    "(data_clean.groupby('hour').count()['InvoiceNo']).plot.bar(figsize = (10,7),color = 'Turquoise')\n",
    "plt.xticks(rotation = 0)\n",
    "plt.title('Nr of Transactions per hour')\n",
    "plt.ylabel('Number of transactions')"
   ]
  },
  {
   "cell_type": "markdown",
   "id": "68debdd5",
   "metadata": {},
   "source": [
    "### Signatures"
   ]
  },
  {
   "cell_type": "markdown",
   "id": "976a4ea7",
   "metadata": {},
   "source": [
    "#### Create Customer Signature"
   ]
  },
  {
   "cell_type": "code",
   "execution_count": 12,
   "id": "258f2e79",
   "metadata": {},
   "outputs": [],
   "source": [
    "cust_sig = pd.DataFrame()\n",
    "country = data_clean.groupby(['CustId'])['Country'].agg(pd.Series.mode)\n",
    "nr_transactions = pd.Series(data_clean.groupby(['CustId','InvoiceNo']).count().groupby('CustId').count()['StockCode'],name='Nr_Purchases')\n",
    "total_value = data_clean.groupby(['CustId']).sum()['Transaction_Value']"
   ]
  },
  {
   "cell_type": "code",
   "execution_count": 13,
   "id": "5e2bea5e",
   "metadata": {},
   "outputs": [],
   "source": [
    "cust_sig['Country'] = country\n",
    "cust_sig['Nr_Transactions'] = nr_transactions\n",
    "cust_sig['Total_Value'] = total_value\n",
    "cust_sig['Avg_Value_Transcation'] = total_value/nr_transactions\n",
    "\n",
    "cust_sig['Products_Bough'] = pd.Series(data_clean.groupby(['CustId','StockCode']).count().groupby('CustId').count()['Quantity'],name = 'Products_Bought')\n",
    "cust_sig.sort_values(ascending=False,by='Total_Value',inplace=True)\n",
    "#cust_sig['Products_Bought'] = pd.Series(data_clean.groupby(['CustId','StockCode']).count().groupby('CustId').count()['Quantity'],name = 'Products_Bought')\n",
    "cust_sig['pct_value'] = cust_sig['Total_Value'] / cust_sig['Total_Value'].sum()\n",
    "cust_sig['pct_pop'] = 1 / len(cust_sig)\n",
    "cust_sig['New_Customer_ID'] = np.arange(1, len(cust_sig)+1)\n",
    "cust_sig['Cumulative_Value'] = cust_sig['pct_value'].cumsum()\n",
    "cust_sig['Cumulative_pop'] = cust_sig['pct_pop'].cumsum()"
   ]
  },
  {
   "cell_type": "code",
   "execution_count": 14,
   "id": "fc501316",
   "metadata": {},
   "outputs": [],
   "source": [
    "cust_leverage = pd.DataFrame(index = ['HighValue','MediumValue','LowValue'])\n",
    "high_value = cust_sig.loc[cust_sig['Cumulative_pop']<=0.3,'Total_Value'].sum()\n",
    "medium_value = cust_sig.loc[(cust_sig['Cumulative_pop']>0.3) & (cust_sig['Cumulative_pop']<=0.5),'Total_Value'].sum()\n",
    "low_value = cust_sig.loc[(cust_sig['Cumulative_pop']>0.5),'Total_Value'].sum()\n",
    "values = [high_value,medium_value,low_value]\n",
    "cust_leverage['Value'] = values\n",
    "cust_leverage['Pop_pct'] = [0.3,0.2,0.5]\n",
    "total_value = cust_sig.loc[:,'Total_Value'].sum()\n",
    "cust_leverage['Value_pct'] = cust_leverage['Value']/total_value"
   ]
  },
  {
   "cell_type": "code",
   "execution_count": 15,
   "id": "982f4997",
   "metadata": {},
   "outputs": [],
   "source": [
    "cust_leverage['Leverage'] = cust_leverage['Value_pct']/ cust_leverage['Pop_pct']"
   ]
  },
  {
   "cell_type": "code",
   "execution_count": 120,
   "id": "2ead6151",
   "metadata": {},
   "outputs": [
    {
     "data": {
      "text/plain": [
       "Text(0, 0.5, 'Leverage')"
      ]
     },
     "execution_count": 120,
     "metadata": {},
     "output_type": "execute_result"
    },
    {
     "data": {
      "image/png": "[encoded data removed]",
      "text/plain": [
       "<Figure size 720x504 with 2 Axes>"
      ]
     },
     "metadata": {},
     "output_type": "display_data"
    }
   ],
   "source": [
    "ax1 = cust_leverage[['Pop_pct','Value_pct']].plot.bar(figsize = (10,7),color = ['Turquoise','teal'])\n",
    "ax2= cust_leverage['Leverage'].plot.line(secondary_y=True,color = 'darkslategray',)\n",
    "plt.title('Leverage Analysis on customer value')\n",
    "ax2.grid(False)\n",
    "ax1.grid(True)\n",
    "ax1.set_ylabel('value in %')\n",
    "ax2.set_ylabel('Leverage')\n",
    "\n"
   ]
  },
  {
   "cell_type": "code",
   "execution_count": 104,
   "id": "c2acf2f9",
   "metadata": {},
   "outputs": [
    {
     "data": {
      "text/plain": [
       "Text(0.5, 1.0, 'Product Leverage')"
      ]
     },
     "execution_count": 104,
     "metadata": {},
     "output_type": "execute_result"
    },
    {
     "data": {
      "image/png": "[encoded data removed]",
      "text/plain": [
       "<Figure size 720x504 with 1 Axes>"
      ]
     },
     "metadata": {},
     "output_type": "display_data"
    }
   ],
   "source": [
    "plt.figure(figsize = (10,7))\n",
    "axis = sns.lineplot(y=cust_sig['Cumulative_Value'],x=cust_sig['Cumulative_pop'],color='Turquoise')\n",
    "axis.set_ylabel('% cuulative value')\n",
    "axis.set_xlabel('% of population')\n",
    "plt.title('Product Leverage')"
   ]
  },
  {
   "cell_type": "markdown",
   "id": "260b489d",
   "metadata": {},
   "source": [
    "#### Product Signature"
   ]
  },
  {
   "cell_type": "code",
   "execution_count": 16,
   "id": "395b12db",
   "metadata": {},
   "outputs": [],
   "source": [
    "#countring the nr of times a product is bought\n",
    "nr_times = data_clean.groupby(['StockCode','InvoiceNo']).count().groupby('StockCode').count()['Quantity']\n",
    "\n",
    "#getting the description of the products\n",
    "description = data_clean.groupby(['StockCode'])['Description'].agg(pd.Series.mode)\n",
    "\n",
    "#getting avg unit price of a product\n",
    "avg_price = data_clean.groupby(['StockCode'])['UnitPrice'].mean()\n",
    "\n",
    "#getting how many units were bought\n",
    "total_unit = data_clean.groupby(['StockCode'])['Quantity'].sum()\n",
    "\n",
    "#getting the avg nr of units per transaction \n",
    "avg_unit = data_clean.groupby(['StockCode'])['Quantity'].mean()\n",
    "\n",
    "#getting the total value generated by a product\n",
    "total_value = data_clean.groupby(['StockCode'])['Transaction_Value'].sum()"
   ]
  },
  {
   "cell_type": "code",
   "execution_count": 17,
   "id": "864c9c23",
   "metadata": {},
   "outputs": [],
   "source": [
    "#creating a DF with the data generated above \n",
    "product_sign = pd.DataFrame()\n",
    "product_sign['Description'] = description\n",
    "product_sign['Times_Bought'] = nr_times\n",
    "\n",
    "product_sign['Avg_price'] = avg_price\n",
    "product_sign['Total_Value'] = total_value\n",
    "product_sign['avg_units'] = avg_unit\n",
    "\n",
    "#create new product ID \n",
    "product_sign['New_Product_ID'] = np.arange(1,len(product_sign)+1)\n",
    "\n",
    "#Leverage Analysis\n",
    "#sorting product by most valuable\n",
    "product_sign.sort_values(ascending=False,by='Total_Value',inplace=True)\n",
    "\n",
    "#getting the percentage of value generated by a single product \n",
    "product_sign['pct_value'] = product_sign['Total_Value'] / product_sign['Total_Value'].sum()\n",
    "\n",
    "#getting the percentage of a single product in terms of the population of products\n",
    "product_sign['pct_pop'] = 1 / len(product_sign)\n",
    "\n",
    "#calculate cumulative sum\n",
    "product_sign['Cumulative_Value'] = product_sign['pct_value'].cumsum()\n",
    "product_sign['Cumulative_pop'] = product_sign['pct_pop'].cumsum()"
   ]
  },
  {
   "cell_type": "code",
   "execution_count": 17,
   "id": "44f5bb5a",
   "metadata": {},
   "outputs": [
    {
     "data": {
      "text/plain": [
       "Text(0.5, 1.0, 'Product Leverage')"
      ]
     },
     "execution_count": 17,
     "metadata": {},
     "output_type": "execute_result"
    },
    {
     "data": {
      "image/png": "[encoded data removed]",
      "text/plain": [
       "<Figure size 720x504 with 1 Axes>"
      ]
     },
     "metadata": {},
     "output_type": "display_data"
    }
   ],
   "source": [
    "plt.figure(figsize = (10,7))\n",
    "axis = sns.lineplot(y=product_sign['Cumulative_Value'],x=product_sign['Cumulative_pop'],color='Turquoise')\n",
    "axis.set_ylabel('% cuulative value')\n",
    "axis.set_xlabel('% of population')\n",
    "plt.title('Product Leverage')"
   ]
  },
  {
   "cell_type": "code",
   "execution_count": 202,
   "id": "57ea5500",
   "metadata": {},
   "outputs": [
    {
     "data": {
      "text/plain": [
       "Text(0.5, 0, 'Count')"
      ]
     },
     "execution_count": 202,
     "metadata": {},
     "output_type": "execute_result"
    },
    {
     "data": {
      "image/png": "[encoded data removed]",
      "text/plain": [
       "<Figure size 504x360 with 1 Axes>"
      ]
     },
     "metadata": {},
     "output_type": "display_data"
    }
   ],
   "source": [
    "product_sign[['Times_Bought','Description']].set_index(['Description']).sort_values(ascending=False,by='Times_Bought')[:10].sort_values(ascending=True,by='Times_Bought').plot.barh(figsize=(7,5),color='Turquoise')\n",
    "plt.title('Most bought products')\n",
    "plt.legend(['Nr of times bought'])\n",
    "plt.xlabel('Count')"
   ]
  },
  {
   "cell_type": "markdown",
   "id": "6a831e3f",
   "metadata": {},
   "source": [
    "### Create Train and Test"
   ]
  },
  {
   "cell_type": "markdown",
   "id": "27b1daf9",
   "metadata": {},
   "source": [
    "The data was split taking into consideration the order in which the transactions occurred, where the first 85% of the transactions of each customer were used for training and the last 15% for validation. By doing this we are making sure that the model is being tested in more recent transactions. For clients with less than 4 transactions, the rule was changed and the threshold went to 51%, meaning that, for clients with 3 transactions, transaction numbers 2 and 3 will be in validation, and for clients with 2 transactions, only transaction number 2 will be in validation. Note: clients with 1 or 0 transactions weren't used because of the split constraints.  \n",
    "__x_train_matrix_count -__ counts how many different times  a customer bought a specific product  \n",
    "__x_train_matrix_bought -__ represents if a customer has ever bought (1) a specific product  \n",
    "__invoice_train -__ represents the quantity of each product in each transaction  \n"
   ]
  },
  {
   "cell_type": "code",
   "execution_count": 18,
   "id": "9a92d6ab",
   "metadata": {},
   "outputs": [],
   "source": [
    "#getting IDs of clients with more than 1 transaction\n",
    "multiple_invoices = cust_sig.loc[cust_sig['Nr_Transactions']>1,:].index"
   ]
  },
  {
   "cell_type": "code",
   "execution_count": 19,
   "id": "87f7cb64",
   "metadata": {
    "scrolled": true
   },
   "outputs": [],
   "source": [
    "#creating a DF to order and count the invoices by cronological order\n",
    "\n",
    "custID = []\n",
    "invoicenr = []\n",
    "count = []\n",
    "date = []\n",
    "for i in multiple_invoices:\n",
    "    #getting the invoices of a specific customer i\n",
    "    df_count = data_clean.loc[(data_clean['CustId']==i) ,['InvoiceNo','InvDate','CustId']].sort_values(by='InvDate').drop_duplicates()\n",
    "    #iterate throught the df created and append the respective CustId, InvoiceNo, transaction count and date of transaction\n",
    "    for  index, invoice,value,Date in zip(df_count['CustId'], df_count['InvoiceNo'],np.arange(1,len(df_count)+1),df_count['InvDate']):\n",
    "        \n",
    "        custID.append(index)\n",
    "        invoicenr.append(invoice)\n",
    "        count.append(value)\n",
    "        date.append(Date)\n",
    "        \n",
    "#create a DF with the generated data   \n",
    "count_invoices = pd.DataFrame()\n",
    "count_invoices['CustId'] = custID\n",
    "count_invoices['InvoiceNo'] = invoicenr\n",
    "count_invoices['Count'] = count\n",
    "count_invoices['Date'] = date"
   ]
  },
  {
   "cell_type": "code",
   "execution_count": 20,
   "id": "e624ecfd",
   "metadata": {},
   "outputs": [],
   "source": [
    "#counting the nr of invoices per customer\n",
    "total_count = count_invoices.groupby('CustId')['Count'].agg('last').reset_index().rename(columns = {'Count':'Total_Count'})\n",
    "#merging with count_invoices created above \n",
    "count_invoices = pd.merge(count_invoices.copy(), total_count,on='CustId')"
   ]
  },
  {
   "cell_type": "code",
   "execution_count": 21,
   "id": "3e3d52d6",
   "metadata": {},
   "outputs": [],
   "source": [
    "#create a variable that represents the percentage of the respective invoice for the total of invoices\n",
    "count_invoices['pct_value'] = 1/ count_invoices['Total_Count']\n",
    "#cumsum the percentages to enable a smooth split\n",
    "split_ = count_invoices.set_index(['CustId','InvoiceNo']).groupby('CustId').cumsum()['pct_value'].reset_index()\n",
    "split_ = pd.merge(split_, total_count,on='CustId')\n",
    "split_.rename(columns = {'pct_value':'transaction_%'},inplace=True)\n",
    "\n",
    "data_split = pd.merge(data_clean.copy(),split_[['InvoiceNo','transaction_%','Total_Count']].copy(), on='InvoiceNo')"
   ]
  },
  {
   "cell_type": "code",
   "execution_count": 22,
   "id": "53838eb9",
   "metadata": {},
   "outputs": [],
   "source": [
    "def split_data (data,tresh):\n",
    "    x_train = data.loc[(data['transaction_%']<tresh) & (data['Total_Count']>3)]\n",
    "    x_val = data.loc[(data['transaction_%']>=tresh) & (data['Total_Count']>3)]\n",
    "    \n",
    "    #for clients with less than 4 invoices the split can't be performed on the 85%\n",
    "    x_train = pd.concat([x_train,data.loc[(data['transaction_%']<0.51) & (data['Total_Count']<=3)]])\n",
    "    x_val = pd.concat([x_val,data.loc[(data['transaction_%']>=0.51) & (data['Total_Count']<=3)]])\n",
    "    return(x_train,x_val)"
   ]
  },
  {
   "cell_type": "code",
   "execution_count": 23,
   "id": "35612b26",
   "metadata": {},
   "outputs": [],
   "source": [
    "x_train,x_val = split_data(data_split.copy(),0.85)"
   ]
  },
  {
   "cell_type": "code",
   "execution_count": 24,
   "id": "0d8fd784",
   "metadata": {},
   "outputs": [
    {
     "name": "stderr",
     "output_type": "stream",
     "text": [
      "C:\\Users\\rafae\\AppData\\Local\\Temp/ipykernel_14284/1262441276.py:6: FutureWarning: Passing a set as an indexer is deprecated and will raise in a future version. Use a list instead.\n",
      "  x_train_matrix_count = x_train.groupby(['CustId','StockCode']).count()['Quantity'].unstack(level ='StockCode').fillna(value=0).copy()[cols]\n",
      "C:\\Users\\rafae\\AppData\\Local\\Temp/ipykernel_14284/1262441276.py:10: FutureWarning: Passing a set as an indexer is deprecated and will raise in a future version. Use a list instead.\n",
      "  x_val_matrix_count = x_val.groupby(['CustId','StockCode']).count()['Quantity'].unstack(level ='StockCode').fillna(value=0).copy()[cols]\n"
     ]
    }
   ],
   "source": [
    "val_cols = x_val.groupby(['CustId','StockCode']).count()['Quantity'].unstack(level ='StockCode').fillna(value=0).columns\n",
    "train_cols = x_train.groupby(['CustId','StockCode']).count()['Quantity'].unstack(level ='StockCode').fillna(value=0).columns\n",
    "cols = set(set(val_cols) & set(train_cols))\n",
    "\n",
    "#create a m * n matrix to count how many times a customer bought a specific product (m = customers, n = products)\n",
    "x_train_matrix_count = x_train.groupby(['CustId','StockCode']).count()['Quantity'].unstack(level ='StockCode').fillna(value=0).copy()[cols]\n",
    "x_train_matrix_csr_count = csr_matrix(x_train_matrix_count)\n",
    "\n",
    "\n",
    "x_val_matrix_count = x_val.groupby(['CustId','StockCode']).count()['Quantity'].unstack(level ='StockCode').fillna(value=0).copy()[cols]\n",
    "x_val_matrix_csr_count = csr_matrix(x_val_matrix_count)"
   ]
  },
  {
   "cell_type": "code",
   "execution_count": 25,
   "id": "4f53bddb",
   "metadata": {},
   "outputs": [
    {
     "name": "stderr",
     "output_type": "stream",
     "text": [
      "C:\\Users\\rafae\\AppData\\Local\\Temp/ipykernel_14284/878260902.py:29: FutureWarning: Passing a set as an indexer is deprecated and will raise in a future version. Use a list instead.\n",
      "  x_train_matrix_bought = x_train_matrix_bought[cols]\n",
      "C:\\Users\\rafae\\AppData\\Local\\Temp/ipykernel_14284/878260902.py:30: FutureWarning: Passing a set as an indexer is deprecated and will raise in a future version. Use a list instead.\n",
      "  x_val_matrix_bought = x_val_matrix_bought[cols]\n"
     ]
    }
   ],
   "source": [
    "#create a training and validation set that indicates whether a customer ahas bought a specific product or not \n",
    "\n",
    "#count how many times a client has bought a specific product (similar to the datasets above)\n",
    "x_train_matrix_bought = x_train.groupby(['CustId','StockCode']).count()['Quantity'].copy()\n",
    "x_train_matrix_bought = x_train_matrix_bought.reset_index()\n",
    "\n",
    "#replace all the values with 1 because we just want to know if the customer bought the product or not\n",
    "x_train_matrix_bought.loc[:,'Quantity'] = 1\n",
    "\n",
    "#unstack to create a m * n matrix (m = customers, n = products)\n",
    "x_train_matrix_bought = x_train_matrix_bought.set_index(['CustId','StockCode']).unstack('StockCode').fillna(0)\n",
    "x_train_matrix_bought.columns.names = 'Quantity','StockCode'\n",
    "x_train_matrix_bought = x_train_matrix_bought.droplevel('Quantity',axis=1)\n",
    "\n",
    "\n",
    "x_val_matrix_bought = x_val.groupby(['CustId','StockCode']).count()['Quantity'].copy()\n",
    "x_val_matrix_bought = x_val_matrix_bought.reset_index()\n",
    "x_val_matrix_bought.loc[:,'Quantity'] = 1\n",
    "x_val_matrix_bought = x_val_matrix_bought.set_index(['CustId','StockCode']).unstack('StockCode').fillna(0)\n",
    "x_val_matrix_bought.columns.names = 'Quantity','StockCode'\n",
    "x_val_matrix_bought = x_val_matrix_bought.droplevel('Quantity',axis=1)\n",
    "\n",
    "#find columns (products) that intersect in both train and validation sets \n",
    "cols_train_bought = x_train_matrix_bought.columns\n",
    "cols_val_bought = x_val_matrix_bought.columns\n",
    "cols_bouught = set(set(cols_train_bought) & set(cols_val_bought))\n",
    "\n",
    "#filter both datasets with their intersecting columns\n",
    "x_train_matrix_bought = x_train_matrix_bought[cols]\n",
    "x_val_matrix_bought = x_val_matrix_bought[cols]\n",
    "\n",
    "#transform the datasets in a csr matrix\n",
    "x_train_matrix_csr_bought = csr_matrix(x_train_matrix_bought)\n",
    "x_val_matrix_csr_bought = csr_matrix(x_val_matrix_bought)"
   ]
  },
  {
   "cell_type": "code",
   "execution_count": 26,
   "id": "7be58432",
   "metadata": {},
   "outputs": [],
   "source": [
    "def create_csr (data_train,data_val):\n",
    "    #this function can be used to create a csr matrix by receiving a train and validation set \\\n",
    "    #in the format n * m \n",
    "    train_invoice_cols = data_train.columns\n",
    "    val_invoice_cols = data_val.columns\n",
    "    cols =set(set(train_invoice_cols) & set(val_invoice_cols))\n",
    "    \n",
    "    data_train = data_train[cols]\n",
    "    data_train_matrix_csr = csr_matrix(data_train)\n",
    "\n",
    "    data_val = data_val[cols]\n",
    "    data_val_matrix_csr = csr_matrix(data_val)\n",
    "    return(data_train_matrix_csr, data_train, data_val_matrix_csr, data_val)\n",
    "\n",
    "        \n",
    "    "
   ]
  },
  {
   "cell_type": "code",
   "execution_count": 27,
   "id": "44dba6e8",
   "metadata": {},
   "outputs": [],
   "source": [
    "invoice_train = x_train.groupby(['InvoiceNo','StockCode']).sum()['Quantity'].unstack('StockCode').fillna(value=0)\n",
    "invoice_val = x_val.groupby(['InvoiceNo','StockCode']).sum()['Quantity'].unstack('StockCode').fillna(value=0)"
   ]
  },
  {
   "cell_type": "code",
   "execution_count": 28,
   "id": "4f8140eb",
   "metadata": {},
   "outputs": [
    {
     "name": "stderr",
     "output_type": "stream",
     "text": [
      "C:\\Users\\rafae\\AppData\\Local\\Temp/ipykernel_14284/334918867.py:8: FutureWarning: Passing a set as an indexer is deprecated and will raise in a future version. Use a list instead.\n",
      "  data_train = data_train[cols]\n",
      "C:\\Users\\rafae\\AppData\\Local\\Temp/ipykernel_14284/334918867.py:11: FutureWarning: Passing a set as an indexer is deprecated and will raise in a future version. Use a list instead.\n",
      "  data_val = data_val[cols]\n"
     ]
    }
   ],
   "source": [
    "x_train_invoice_csr, x_train_invoice,x_val_invoice_csr, x_val_invoice = create_csr(invoice_train, \\\n",
    "                                                 invoice_val)"
   ]
  },
  {
   "cell_type": "code",
   "execution_count": 29,
   "id": "48c806a7",
   "metadata": {},
   "outputs": [],
   "source": [
    "train_invoice_cols = x_train.groupby(['InvoiceNo','StockCode']).sum()['Quantity'].unstack('StockCode').fillna(value=0).columns\n",
    "val_invoice_cols = x_val.groupby(['InvoiceNo','StockCode']).sum()['Quantity'].unstack('StockCode').fillna(value=0).columns\n"
   ]
  },
  {
   "cell_type": "markdown",
   "id": "ab88bc14",
   "metadata": {},
   "source": [
    "### Modelling\n",
    "The modeling stage can be divided into 4 parts, \n",
    "- 1st is a recommender addressing the cold start problem, where recommendations are performed taking into consideration the products bought by the most versatile customer in the country of the target customer. (For eg: if a new customer from Portugal arrives then we will look for the Portuguese customer that bought more products and recommend accordingly.\n",
    "- 2nd ALS model with 2 functions, ALS_recommender trains and performs validation and the recommend_ALS performs recommendations\n",
    "- 3rd, The  LightFM stage is divided into 3 parts, one for the cold start problem (where the model is trained with user features), the other, the model is trained without the user features, and another for item-item recommendations based on the cosine similarity. lighfm_recommender trains and validates the model, sample_recommendation_user recommends items using the lighfm model, recommend_with_items performs item-item recommendation and cold_start_rec performs recommendations for cold start customers.\n",
    "- 4th Association Rules using an invoice matrix (Association), where in each transaction a product gets the value 1 if it was bought. The goal here is to perform recommendations based on items present in the rules (eg: if a customer is in the checkout area and has an item-set in his basket that is part of good rule, then we would recommend the remaining items of the rule to the customers (the number of recommendation is then limited by s threshold with the goal of filtering the best recommendations and not overwhelming the customer with recommendations) \n",
    "\n"
   ]
  },
  {
   "cell_type": "markdown",
   "id": "34d63a47",
   "metadata": {},
   "source": [
    "### Cold Start"
   ]
  },
  {
   "cell_type": "markdown",
   "id": "ca932452",
   "metadata": {},
   "source": [
    "#### While applying cold start we cannot use the customer id to execute the code because the customer may not be in the database"
   ]
  },
  {
   "cell_type": "code",
   "execution_count": 185,
   "id": "0d248605",
   "metadata": {},
   "outputs": [],
   "source": [
    "custId = []\n",
    "nr_trans = []\n",
    "country = []\n",
    "for i in cust_sig['Country'].unique():\n",
    "    custId.append(cust_sig.loc[cust_sig['Country']==f'{i}'].sort_values(ascending=False,by='Products_Bough').iloc[0].name)\n",
    "    country.append(cust_sig.loc[cust_sig['Country']==f'{i}'].sort_values(ascending=False,by='Products_Bough').iloc[0]['Country'])\n",
    "    nr_trans.append(cust_sig.loc[cust_sig['Country']==f'{i}'].sort_values(ascending=False,by='Products_Bough').iloc[0]['Products_Bough'])\n",
    "    \n",
    "cold_start = pd.DataFrame()\n",
    "cold_start['CustID'] = custId\n",
    "cold_start['Country'] = country\n",
    "cold_start['Products_Bough'] = nr_trans"
   ]
  },
  {
   "cell_type": "code",
   "execution_count": 187,
   "id": "d4213804",
   "metadata": {},
   "outputs": [
    {
     "name": "stdout",
     "output_type": "stream",
     "text": [
      "[array(['LUNCH BAG VINTAGE DOILY ', 'LUNCH BAG PINK POLKADOT',\n",
      "       'PLASTERS IN TIN VINTAGE PAISLEY ', 'LUNCH BAG CARS BLUE',\n",
      "       'LUNCH BAG RED RETROSPOT'], dtype=object)]\n"
     ]
    },
    {
     "data": {
      "text/html": [
       "<div>\n",
       "<style scoped>\n",
       "    .dataframe tbody tr th:only-of-type {\n",
       "        vertical-align: middle;\n",
       "    }\n",
       "\n",
       "    .dataframe tbody tr th {\n",
       "        vertical-align: top;\n",
       "    }\n",
       "\n",
       "    .dataframe thead th {\n",
       "        text-align: right;\n",
       "    }\n",
       "</style>\n",
       "<table border=\"1\" class=\"dataframe\">\n",
       "  <thead>\n",
       "    <tr style=\"text-align: right;\">\n",
       "      <th></th>\n",
       "      <th>Products</th>\n",
       "      <th>Origin Country</th>\n",
       "    </tr>\n",
       "  </thead>\n",
       "  <tbody>\n",
       "    <tr>\n",
       "      <th>0</th>\n",
       "      <td>LUNCH BAG VINTAGE DOILY</td>\n",
       "      <td>Portugal</td>\n",
       "    </tr>\n",
       "    <tr>\n",
       "      <th>1</th>\n",
       "      <td>LUNCH BAG PINK POLKADOT</td>\n",
       "      <td>Portugal</td>\n",
       "    </tr>\n",
       "    <tr>\n",
       "      <th>2</th>\n",
       "      <td>PLASTERS IN TIN VINTAGE PAISLEY</td>\n",
       "      <td>Portugal</td>\n",
       "    </tr>\n",
       "    <tr>\n",
       "      <th>3</th>\n",
       "      <td>LUNCH BAG CARS BLUE</td>\n",
       "      <td>Portugal</td>\n",
       "    </tr>\n",
       "    <tr>\n",
       "      <th>4</th>\n",
       "      <td>LUNCH BAG RED RETROSPOT</td>\n",
       "      <td>Portugal</td>\n",
       "    </tr>\n",
       "  </tbody>\n",
       "</table>\n",
       "</div>"
      ],
      "text/plain": [
       "                           Products Origin Country\n",
       "0          LUNCH BAG VINTAGE DOILY        Portugal\n",
       "1           LUNCH BAG PINK POLKADOT       Portugal\n",
       "2  PLASTERS IN TIN VINTAGE PAISLEY        Portugal\n",
       "3               LUNCH BAG CARS BLUE       Portugal\n",
       "4           LUNCH BAG RED RETROSPOT       Portugal"
      ]
     },
     "metadata": {},
     "output_type": "display_data"
    }
   ],
   "source": [
    "country_name = 'Portugal'\n",
    "most_valuableID = cold_start.loc[cold_start['Country']==country_name,'CustID']\n",
    "lenght_products = len(data_clean.loc[data_clean['CustId'].isin(most_valuableID),'Description'].value_counts())\n",
    "to_recommend = []\n",
    "if lenght_products < 5:\n",
    "    to_recommend.append(data_clean.loc[data_clean['CustId'].isin(most_valuableID),'Description'].value_counts().index)\n",
    "    to_recommend.append(data_clean.loc[: ,'Description'].value_counts().iloc[:(5-lenght_products)])\n",
    "else:\n",
    "    to_recommend.append(data_clean.loc[data_clean['CustId'].isin(most_valuableID),'Description'].value_counts().index[:5].values)\n",
    "    \n",
    "cold_recomender = pd.DataFrame()\n",
    "recommend = []\n",
    "for i in to_recommend[0]:\n",
    "    \n",
    "    recommend.append(i)\n",
    "\n",
    "cold_recomender['Products'] = recommend\n",
    "cold_recomender['Origin Country'] = str(country_name)\n",
    "\n",
    "print(to_recommend)\n",
    "display(cold_recomender)"
   ]
  },
  {
   "cell_type": "markdown",
   "id": "8d778f98",
   "metadata": {},
   "source": [
    "### ALS Model for Users"
   ]
  },
  {
   "cell_type": "code",
   "execution_count": 30,
   "id": "808a4591",
   "metadata": {},
   "outputs": [],
   "source": [
    "from implicit.evaluation import precision_at_k, train_test_split,AUC_at_k,mean_average_precision_at_k"
   ]
  },
  {
   "cell_type": "code",
   "execution_count": 31,
   "id": "efc2240f",
   "metadata": {},
   "outputs": [],
   "source": [
    "def ALS_Recommender (model,alpha, data_train,data_val):\n",
    "    from implicit.als import AlternatingLeastSquares\n",
    "    from implicit.nearest_neighbours import bm25_weight\n",
    "\n",
    "    # weight the matrix, both to reduce impact of users that have played the same artist thousands of times\n",
    "    # and to reduce the weight given to popular items\n",
    "    data_train = bm25_weight(data_train, K1=100, B=0.8)\n",
    "    \n",
    "    from implicit.evaluation import precision_at_k, train_test_split,AUC_at_k,mean_average_precision_at_k\n",
    "    model_ALS = model\n",
    "    alpha_val = alpha\n",
    "    data_conf = (data_train * alpha_val).astype('double')\n",
    "    # Calculate the confidence by multiplying it by our alpha value.\n",
    "    # Fit the model\n",
    "    model_ALS.fit(data_conf,show_progress=False)\n",
    "    precision = precision_at_k(model_ALS, data_train, data_val, K=10, num_threads=4,show_progress=False)\n",
    "    AUC = AUC_at_k(model_ALS, data_train, data_val, K=10, num_threads=4,show_progress=False)\n",
    "    #mean average precision\n",
    "    MAP = mean_average_precision_at_k(model_ALS, data_train, data_val, K=10, num_threads=4,show_progress=False)\n",
    "    print(f'Precision at 10 Score : {precision}')\n",
    "    print(f'MAP at 10 Score : {MAP}')\n",
    "    print(f'AUC at 10 Score : {AUC}')\n",
    "    return(model_ALS)\n",
    "\n",
    "\n",
    "def recommend_ALS (model,user_id,data_matrix, data_train,index_name, N=10 ):\n",
    "    data_clean = data_train.copy()\n",
    "    us_id = np.argwhere(data_matrix.index == user_id)[0][0]\n",
    "    to_recommend_index , prod_scores = model.recommend(userid=us_id,user_items=x_train_matrix_csr_bought, N=N+30, filter_already_liked_items=False )\n",
    "\n",
    "\n",
    "    prod_indexes = []\n",
    "    for i in to_recommend_index:\n",
    "        prod_indexes.append(data_matrix.columns[i])\n",
    "\n",
    "    description = []\n",
    "    for i in prod_indexes:    \n",
    "        description.append(data_clean.loc[data_clean['StockCode']==i,'Description'].unique())\n",
    "\n",
    "    bought = data_clean.loc[data_clean[f'{index_name}']==user_id,'StockCode'].unique()\n",
    "    bought_description = data_clean.loc[data_clean[f'{index_name}']==user_id,'Description'].unique()\n",
    "    \n",
    "    rec_index = []\n",
    "    rec_description = []\n",
    "    for i,ii in zip(prod_indexes,description):\n",
    "        if len(rec_index)<10:\n",
    "            if i not in bought:\n",
    "                rec_index.append(i)\n",
    "                rec_description.append(ii[0])\n",
    "            \n",
    "            \n",
    "\n",
    "\n",
    "    print(f'The Customer {user_id} has bought:')\n",
    "    for index, i in enumerate(bought_description):\n",
    "        print(f'{index+1} - {i}')\n",
    "    counter =0\n",
    "\n",
    "    print('-'*125)\n",
    "\n",
    "    print(f'The top {10} recommendations are:')\n",
    "    for i,ii in zip(rec_description,rec_index):\n",
    "        counter = counter +1\n",
    "        print(f'{counter} - {i}, with category {ii[:2]}')\n",
    "    als_rec = pd.DataFrame()\n",
    "    als_rec['ItemID'] = rec_index\n",
    "    als_rec['Description'] = rec_description\n",
    "    return(als_rec.set_index('ItemID'))"
   ]
  },
  {
   "cell_type": "markdown",
   "id": "0ec51532",
   "metadata": {},
   "source": [
    "#### Performing ALS on the Invoice Dataframe"
   ]
  },
  {
   "cell_type": "code",
   "execution_count": 42,
   "id": "60085198",
   "metadata": {},
   "outputs": [],
   "source": [
    "ALL_USERS = data_clean['CustId'].unique().tolist()\n",
    "ALL_ITEMS = data_clean['StockCode'].unique().tolist()\n",
    "\n",
    "user_ids = dict(list(enumerate(ALL_USERS)))\n",
    "item_ids = dict(list(enumerate(ALL_ITEMS)))\n",
    "\n",
    "user_map = {u: uidx for uidx, u in user_ids.items()}\n",
    "item_map = {i: iidx for iidx, i in item_ids.items()}\n",
    "\n",
    "df = data_clean.copy()\n",
    "df['user_id'] = df['CustId'].map(user_map)\n",
    "df['item_id'] = df['StockCode'].map(item_map)"
   ]
  },
  {
   "cell_type": "code",
   "execution_count": 45,
   "id": "346fa0cc",
   "metadata": {},
   "outputs": [],
   "source": [
    "def to_user_item_coo(df):\n",
    "    \"\"\" Turn a dataframe with transactions into a COO sparse items x users matrix\"\"\"\n",
    "    row = df['user_id'].values\n",
    "    col = df['item_id'].values\n",
    "    data = np.ones(df.shape[0])\n",
    "    coo_train = coo_matrix((data, (row, col)), shape=(len(ALL_USERS), len(ALL_ITEMS)))\n",
    "    coo_train\n",
    "\n",
    "    return coo_train\n",
    "\n",
    "train_coo = to_user_item_coo(df.loc[df['InvoiceNo'].isin(x_train['InvoiceNo'].unique())])\n",
    "val_coo  = to_user_item_coo(df.loc[df['InvoiceNo'].isin(x_val['InvoiceNo'].unique())])"
   ]
  },
  {
   "cell_type": "code",
   "execution_count": 46,
   "id": "7ab35cb5",
   "metadata": {},
   "outputs": [],
   "source": [
    "csr_train = train_coo.tocsr()\n",
    "csr_val = val_coo.tocsr()"
   ]
  },
  {
   "cell_type": "code",
   "execution_count": 53,
   "id": "e2d6087a",
   "metadata": {},
   "outputs": [
    {
     "name": "stdout",
     "output_type": "stream",
     "text": [
      "Precision at 10 Score : 0.07696377696377696\n",
      "MAP at 10 Score : 0.03231946966046163\n",
      "AUC at 10 Score : 0.5144644165941307\n"
     ]
    }
   ],
   "source": [
    "als_model = implicit.als.AlternatingLeastSquares(factors=50, regularization=1, \\\n",
    "                                                     iterations=100,num_threads=2,\\\n",
    "                                                     random_state=10)\n",
    "model_ALS_invoice = ALS_Recommender(als_model,5,train_coo,csr_val,)"
   ]
  },
  {
   "cell_type": "code",
   "execution_count": 53,
   "id": "232c9c28",
   "metadata": {},
   "outputs": [
    {
     "name": "stderr",
     "output_type": "stream",
     "text": [
      "D:\\Rafael\\Anaconda_Setup\\envs\\Personal\\lib\\site-packages\\implicit\\utils.py:31: UserWarning: Intel MKL BLAS detected. Its highly recommend to set the environment variable 'export MKL_NUM_THREADS=1' to disable its internal multithreading\n",
      "  warnings.warn(\n"
     ]
    },
    {
     "name": "stdout",
     "output_type": "stream",
     "text": [
      "Precision at 10 Score : 0.02660355802187041\n",
      "MAP at 10 Score : 0.009342928985607967\n",
      "AUC at 10 Score : 0.5046988922739514\n"
     ]
    }
   ],
   "source": [
    "als_model = implicit.als.AlternatingLeastSquares(factors=20, regularization=1, \\\n",
    "                                                     iterations=100,num_threads=2,\\\n",
    "                                                     random_state=10)\n",
    "model_ALS_invoice = ALS_Recommender(als_model,2,x_train_invoice_csr,x_val_invoice_csr,)"
   ]
  },
  {
   "cell_type": "markdown",
   "id": "9210c7af",
   "metadata": {},
   "source": [
    "#### Performing ALS on the customer Dataframe"
   ]
  },
  {
   "cell_type": "markdown",
   "id": "4d4da1fa",
   "metadata": {},
   "source": [
    "##### Using Count Matrix"
   ]
  },
  {
   "cell_type": "code",
   "execution_count": 51,
   "id": "99c073d9",
   "metadata": {},
   "outputs": [
    {
     "name": "stdout",
     "output_type": "stream",
     "text": [
      "Precision at 10 Score : 0.07563606757581925\n",
      "MAP at 10 Score : 0.032605623696157576\n",
      "AUC at 10 Score : 0.513019024353505\n"
     ]
    }
   ],
   "source": [
    "als_model = implicit.als.AlternatingLeastSquares(factors=20, regularization=0.05, \\\n",
    "                                                     iterations=20,num_threads=0,\\\n",
    "                                                     random_state=10)\n",
    "model_ALS = ALS_Recommender(als_model,2,x_train_matrix_csr_count,x_val_matrix_csr_count)"
   ]
  },
  {
   "cell_type": "markdown",
   "id": "0e46dea0",
   "metadata": {},
   "source": [
    "##### Using Bough Matrix"
   ]
  },
  {
   "cell_type": "code",
   "execution_count": 55,
   "id": "3f849f0f",
   "metadata": {
    "scrolled": false
   },
   "outputs": [
    {
     "name": "stdout",
     "output_type": "stream",
     "text": [
      "Precision at 10 Score : 0.08080602483207816\n",
      "MAP at 10 Score : 0.034308977486416474\n",
      "AUC at 10 Score : 0.5136423740518087\n"
     ]
    }
   ],
   "source": [
    "als_model = implicit.als.AlternatingLeastSquares(factors=20, regularization=0.05, \\\n",
    "                                                     iterations=100,num_threads=0,\\\n",
    "                                                     random_state=10)\n",
    "model_ALS = ALS_Recommender(als_model,2,x_train_matrix_csr_bought,x_val_matrix_csr_bought)"
   ]
  },
  {
   "cell_type": "markdown",
   "id": "bb82eb2c",
   "metadata": {},
   "source": [
    "#### ALS Recomendation"
   ]
  },
  {
   "cell_type": "code",
   "execution_count": 56,
   "id": "d725ab7f",
   "metadata": {
    "collapsed": true
   },
   "outputs": [
    {
     "name": "stdout",
     "output_type": "stream",
     "text": [
      "The Customer 18272.0 has bought:\n",
      "1 - RETROSPOT RED WASHING UP GLOVES\n",
      "2 - RED HEART SHAPE LOVE BUCKET \n",
      "3 - HANGING JAM JAR T-LIGHT HOLDER\n",
      "4 - PLASTERS IN TIN VINTAGE PAISLEY \n",
      "5 - PANTRY WASHING UP BRUSH\n",
      "6 - PANTRY SCRUBBING BRUSH\n",
      "7 - BLUE POLKADOT WASHING UP GLOVES\n",
      "8 - FUNKY WASHING UP GLOVES ASSORTED\n",
      "9 - SET 2 PANTRY DESIGN TEA TOWELS\n",
      "10 - PANTRY ROLLING PIN\n",
      "11 - SET OF 4 PANTRY JELLY MOULDS\n",
      "12 - SET OF 4 JAM JAR MAGNETS\n",
      "13 - RED POLKADOT BEAKER \n",
      "14 - RED POLKADOT COFFEE  MUG\n",
      "15 - BLUE POLKADOT BEAKER \n",
      "16 - BLUE POLKADOT COFFEE MUG\n",
      "17 - RECIPE BOX PANTRY YELLOW DESIGN\n",
      "18 - JAM JAR WITH PINK LID\n",
      "19 - JAM JAR WITH GREEN LID\n",
      "20 - PACK OF 20 NAPKINS PANTRY DESIGN\n",
      "21 - 3 TRADITIONAl BISCUIT CUTTERS  SET\n",
      "22 - JAM MAKING SET WITH JARS\n",
      "23 - SET OF 6 SPICE TINS PANTRY DESIGN\n",
      "24 - GINGERBREAD MAN COOKIE CUTTER\n",
      "25 - HOMEMADE JAM SCENTED CANDLES\n",
      "26 - PLASTERS IN TIN WOODLAND ANIMALS\n",
      "27 - CHILDRENS CUTLERY RETROSPOT RED \n",
      "28 - CHILDRENS CUTLERY POLKADOT PINK\n",
      "29 - CHILDRENS CUTLERY POLKADOT GREEN \n",
      "30 - SET OF 3 BUTTERFLY COOKIE CUTTERS\n",
      "31 - SET OF 3 HEART COOKIE CUTTERS\n",
      "32 - SET OF 20 KIDS COOKIE CUTTERS\n",
      "33 - 75 GREEN PETIT FOUR CASES\n",
      "34 - PORCELAIN ROSE SMALL\n",
      "35 - DANISH ROSE DECORATIVE PLATE\n",
      "36 - PINK POT PLANT CANDLE\n",
      "37 - WHITE TALL PORCELAIN T-LIGHT HOLDER\n",
      "38 - CITRONELLA CANDLE FLOWERPOT\n",
      "39 - PANTRY PASTRY BRUSH\n",
      "40 - MILK PAN RED RETROSPOT\n",
      "41 - MILK PAN BLUE POLKADOT\n",
      "42 - PACK OF 72 RETROSPOT CAKE CASES\n",
      "43 - PACK OF 60 PINK PAISLEY CAKE CASES\n",
      "44 - RED STRIPE CERAMIC DRAWER KNOB\n",
      "45 - RED SPOT CERAMIC DRAWER KNOB\n",
      "46 - BLUE STRIPE CERAMIC DRAWER KNOB\n",
      "47 - WHITE SPOT BLUE CERAMIC DRAWER KNOB\n",
      "48 - SET OF 6 SNACK LOAF BAKING CASES\n",
      "49 - SET OF 12 MINI LOAF BAKING CASES\n",
      "50 - SET OF 12 FAIRY CAKE BAKING CASES\n",
      "51 - SET OF 6 TEA TIME BAKING CASES\n",
      "52 - SET OF 12 T-LIGHTS VINTAGE DOILY\n",
      "53 - STORAGE TIN VINTAGE DOILY \n",
      "54 - SET 40 HEART SHAPE PETIT FOUR CASES\n",
      "55 - RUSTIC STRAWBERRY JAM POT LARGE \n",
      "56 - HANGING MINI COLOURED BOTTLES\n",
      "57 - RED RETROSPOT TISSUE BOX\n",
      "58 - VINTAGE RED ENAMEL TRIM MUG \n",
      "59 - JAM MAKING SET PRINTED\n",
      "60 - PANTRY MAGNETIC  SHOPPING LIST\n",
      "61 - SPOTTY BUNTING\n",
      "62 - SET OF 36 DOILIES PANTRY DESIGN\n",
      "63 - RED SPOTTY BISCUIT TIN\n",
      "64 - RECIPE BOX RETROSPOT \n",
      "65 - CHRISTMAS PUDDING TRINKET POT \n",
      "66 - BOX OF 6 CHRISTMAS CAKE DECORATIONS\n",
      "67 - VINTAGE DOILY TRAVEL SEWING KIT\n",
      "68 - VINTAGE DOILY DELUXE SEWING KIT \n",
      "69 - WALL ART STOP FOR TEA \n",
      "70 - WALL ART VINTAGE HEART\n",
      "71 - WALL ART CLASSIC PUDDINGS \n",
      "72 - GIANT 50'S CHRISTMAS CRACKER\n",
      "73 - PORCELAIN T-LIGHT HOLDERS ASSORTED\n",
      "74 - SET OF 6 T-LIGHTS SANTA\n",
      "75 - SET OF 6 T-LIGHTS SNOWMEN\n",
      "76 - BOX OF 6 MINI VINTAGE CRACKERS\n",
      "77 - BOX OF 6 MINI 50'S CRACKERS\n",
      "78 - CINNAMON SCENTED VOTIVE CANDLE\n",
      "79 - PLAYING CARDS KEEP CALM & CARRY ON\n",
      "80 - RED METAL BOX TOP SECRET\n",
      "81 - GREEN METAL BOX ARMY SUPPLIES\n",
      "82 - 6 RIBBONS ELEGANT CHRISTMAS \n",
      "83 - 6 RIBBONS SHIMMERING PINKS \n",
      "84 - 6 RIBBONS EMPIRE  \n",
      "85 - HOT STUFF HOT WATER BOTTLE\n",
      "86 - PINK PILLAR CANDLE SILVER FLOCK\n",
      "87 - IVORY PILLAR CANDLE SILVER FLOCK\n",
      "88 - SET OF 3 PANTRY WOODEN SPOONS\n",
      "89 - PANTRY CHOPPING BOARD\n",
      "90 - SET OF 4 KNICK KNACK TINS DOILY \n",
      "91 - SET/5 RED RETROSPOT LID GLASS BOWLS\n",
      "-----------------------------------------------------------------------------------------------------------------------------\n",
      "The top 10 recommendations are:\n",
      "1 - SET OF 60 PANTRY DESIGN CAKE CASES , with category 23\n",
      "2 - SET OF 3 CAKE TINS PANTRY DESIGN , with category 22\n",
      "3 - IVORY KITCHEN SCALES, with category 22\n",
      "4 - SET OF TEA COFFEE SUGAR TINS PANTRY, with category 23\n",
      "5 - SET OF 60 VINTAGE LEAF CAKE CASES , with category 23\n",
      "6 - BREAD BIN DINER STYLE IVORY, with category 22\n",
      "7 - 60 CAKE CASES VINTAGE CHRISTMAS, with category 22\n",
      "8 - RED KITCHEN SCALES, with category 22\n",
      "9 - 36 FOIL HEART CAKE CASES, with category 22\n",
      "10 - LARGE CERAMIC TOP STORAGE JAR, with category 23\n"
     ]
    },
    {
     "data": {
      "text/html": [
       "<div>\n",
       "<style scoped>\n",
       "    .dataframe tbody tr th:only-of-type {\n",
       "        vertical-align: middle;\n",
       "    }\n",
       "\n",
       "    .dataframe tbody tr th {\n",
       "        vertical-align: top;\n",
       "    }\n",
       "\n",
       "    .dataframe thead th {\n",
       "        text-align: right;\n",
       "    }\n",
       "</style>\n",
       "<table border=\"1\" class=\"dataframe\">\n",
       "  <thead>\n",
       "    <tr style=\"text-align: right;\">\n",
       "      <th></th>\n",
       "      <th>Description</th>\n",
       "    </tr>\n",
       "    <tr>\n",
       "      <th>ItemID</th>\n",
       "      <th></th>\n",
       "    </tr>\n",
       "  </thead>\n",
       "  <tbody>\n",
       "    <tr>\n",
       "      <th>23307</th>\n",
       "      <td>SET OF 60 PANTRY DESIGN CAKE CASES</td>\n",
       "    </tr>\n",
       "    <tr>\n",
       "      <th>22720</th>\n",
       "      <td>SET OF 3 CAKE TINS PANTRY DESIGN</td>\n",
       "    </tr>\n",
       "    <tr>\n",
       "      <th>22624</th>\n",
       "      <td>IVORY KITCHEN SCALES</td>\n",
       "    </tr>\n",
       "    <tr>\n",
       "      <th>23243</th>\n",
       "      <td>SET OF TEA COFFEE SUGAR TINS PANTRY</td>\n",
       "    </tr>\n",
       "    <tr>\n",
       "      <th>23308</th>\n",
       "      <td>SET OF 60 VINTAGE LEAF CAKE CASES</td>\n",
       "    </tr>\n",
       "    <tr>\n",
       "      <th>22847</th>\n",
       "      <td>BREAD BIN DINER STYLE IVORY</td>\n",
       "    </tr>\n",
       "    <tr>\n",
       "      <th>22952</th>\n",
       "      <td>60 CAKE CASES VINTAGE CHRISTMAS</td>\n",
       "    </tr>\n",
       "    <tr>\n",
       "      <th>22625</th>\n",
       "      <td>RED KITCHEN SCALES</td>\n",
       "    </tr>\n",
       "    <tr>\n",
       "      <th>22956</th>\n",
       "      <td>36 FOIL HEART CAKE CASES</td>\n",
       "    </tr>\n",
       "    <tr>\n",
       "      <th>23165</th>\n",
       "      <td>LARGE CERAMIC TOP STORAGE JAR</td>\n",
       "    </tr>\n",
       "  </tbody>\n",
       "</table>\n",
       "</div>"
      ],
      "text/plain": [
       "                                Description\n",
       "ItemID                                     \n",
       "23307   SET OF 60 PANTRY DESIGN CAKE CASES \n",
       "22720     SET OF 3 CAKE TINS PANTRY DESIGN \n",
       "22624                  IVORY KITCHEN SCALES\n",
       "23243   SET OF TEA COFFEE SUGAR TINS PANTRY\n",
       "23308    SET OF 60 VINTAGE LEAF CAKE CASES \n",
       "22847           BREAD BIN DINER STYLE IVORY\n",
       "22952       60 CAKE CASES VINTAGE CHRISTMAS\n",
       "22625                    RED KITCHEN SCALES\n",
       "22956              36 FOIL HEART CAKE CASES\n",
       "23165         LARGE CERAMIC TOP STORAGE JAR"
      ]
     },
     "execution_count": 56,
     "metadata": {},
     "output_type": "execute_result"
    }
   ],
   "source": [
    "user_nr = 18272.0\n",
    "recommend_ALS(model_ALS,user_nr,x_val_matrix_bought,x_train,'CustId',N=20)"
   ]
  },
  {
   "cell_type": "markdown",
   "id": "0916bd2e",
   "metadata": {},
   "source": [
    "### LightFm Model "
   ]
  },
  {
   "cell_type": "code",
   "execution_count": 59,
   "id": "bcfd3352",
   "metadata": {},
   "outputs": [],
   "source": [
    "def create_id (data):\n",
    "    user = data.index     \n",
    "    product = data.columns\n",
    "    \n",
    "    user_ = {}\n",
    "    for i,ii in enumerate(user):\n",
    "        user_[i] = ii\n",
    "        \n",
    "    prod_2 = {}\n",
    "    for i , ii in zip(product_sign.index, product_sign['Description']):\n",
    "        prod_2[i] = ii\n",
    "    return(user_,prod_2)"
   ]
  },
  {
   "cell_type": "code",
   "execution_count": 60,
   "id": "a69925f6",
   "metadata": {},
   "outputs": [],
   "source": [
    "def lighfm_recommender (model,data_train_matrix, data_val_matrix,data_train,epochs,user_feat=None, k=10):\n",
    "    #this function receives 2 matirxes in csr format and a DF to create the item similarity matrix\n",
    "    from sklearn.metrics.pairwise import cosine_similarity\n",
    "    import lightfm\n",
    "    from scipy import sparse\n",
    "    from lightfm.evaluation import auc_score, precision_at_k, recall_at_k\n",
    "    #ceate and train model  \n",
    "    model_light=model\n",
    "    model_light.fit(data_train_matrix,num_threads=4,epochs=epochs,user_features = user_feat)\n",
    "    \n",
    "    #create similarity matrix between items\n",
    "    item_df = sparse.csr_matrix(model_light.item_embeddings)\n",
    "    item_distance = pd.DataFrame(cosine_similarity(item_df), columns =data_train.columns, index = data_train.columns )\n",
    "\n",
    "    # Model Assess\n",
    "    precision_test = precision_at_k(model=model_light,test_interactions=data_val_matrix,user_features=user_feat,k=k,).mean()\n",
    "    precision_train = precision_at_k(model=model_light,test_interactions=data_train_matrix,user_features=user_feat,k=k,).mean()\n",
    "    recall_test = recall_at_k(model=model_light,test_interactions=data_val_matrix,user_features=user_feat,k=k).mean()\n",
    "    recall_train = recall_at_k(model=model_light,test_interactions=data_train_matrix,user_features=user_feat,k=k,).mean()\n",
    "    auc_train = auc_score(model=model_light, test_interactions=data_train_matrix,user_features=user_feat).mean()\n",
    "    auc_test = auc_score(model=model_light,test_interactions=data_val_matrix,user_features=user_feat).mean()\n",
    "\n",
    "    print(f\"Train AUC Score: {auc_train}\")\n",
    "    print(f\"Test AUC Score: {auc_test}\")\n",
    "    print('-'*125)\n",
    "    print(f'Train Precision at {k} Score: {precision_train}')\n",
    "    print(f'Test Precision {k} Score: {precision_test}')\n",
    "    print('')\n",
    "    print(f'Train Recall {k} Score: {recall_train}')\n",
    "    print(f'Test Recall {k} Score: {recall_test}')\n",
    "    return(model_light,item_distance)\n",
    "\n",
    "\n",
    "#https://towardsdatascience.com/recommendation-system-in-python-lightfm-61c85010ce17\n",
    "def sample_recommendation_user(model, interactions, interaction_id, user_dict, \n",
    "                               item_dict,threshold = 0,nrec_items = 5, show = True,user_feat = None):\n",
    "    \n",
    "    n_users, n_items = interactions.shape\n",
    "    interaction_id = interaction_id\n",
    "    user_id = user_idx[interaction_id]\n",
    "    scores = pd.Series(model.predict(interaction_id,np.arange(n_items),user_features=user_feat))\n",
    "    scores.index = interactions.columns\n",
    "    \n",
    "    \n",
    "    known_items = list(pd.Series(interactions.loc[user_id,:] \\\n",
    "                                 [interactions.loc[user_id,:] > threshold].index).sort_values(ascending=False))\n",
    "    scores = scores.sort_values(ascending=False)\n",
    "    to_recommend = []\n",
    "    score = []\n",
    "    description = []\n",
    "    \n",
    "    appended = []\n",
    "    for i,ii in zip(scores.index, scores):\n",
    "        if len(appended)<15:\n",
    "            if i not in known_items:\n",
    "                to_recommend.append(i)\n",
    "                score.append(ii)\n",
    "                description.append(data_clean.loc[data_clean['StockCode'].isin([i]),'Description'].unique()[0])\n",
    "                appended.append(0)\n",
    "\n",
    "        \n",
    "    \n",
    "    lightRecom = pd.DataFrame()\n",
    "    lightRecom['ProductID'] = to_recommend\n",
    "    lightRecom['Description'] = description\n",
    "    lightRecom['Score'] = score\n",
    "    display(lightRecom.iloc[:10])\n",
    "    scores = list(pd.Series(scores.sort_values(ascending=False).index))\n",
    "    scores = [x for x in scores if x not in known_items]\n",
    "    return_score_list = scores[0:nrec_items]\n",
    "    known_items = list(pd.Series(known_items).apply(lambda x: item_dict[x]))\n",
    "    scores = list(pd.Series(return_score_list).apply(lambda x: item_dict[x]))\n",
    "    if show == True:\n",
    "        print (\"User: \" + str(user_id))\n",
    "        print(\"Has Previosly Bought:\")\n",
    "        counter = 1\n",
    "        for i in known_items:\n",
    "            print(str(counter) + '- ' + i)\n",
    "            counter+=1\n",
    "            \n",
    "            \n",
    "        print(\"\\n Recommended Items:\")\n",
    "        counter = 1\n",
    "        for i in scores:\n",
    "            print(str(counter) + '- ' + i)\n",
    "            counter+=1\n",
    "    return(lightRecom)\n",
    "\n",
    "\n",
    "def recommend_with_items (similarities, item_Id,k):\n",
    "    #this function receives a similarity matrix and recommends k items based on a target item_id\n",
    "    \n",
    "    target_item = data_clean.loc[data_clean['StockCode']==f'{item_Id}','Description'].unique()\n",
    "    scores = similarities[f'{item_Id}'].sort_values(ascending=False)[1:k+1]\n",
    "    scores_id = scores.index\n",
    "    description = []\n",
    "    for i in scores_id:\n",
    "        id_ = data_clean.loc[data_clean['StockCode']==f'{i}','Description'].unique()\n",
    "        description.append(id_[0])\n",
    "    to_recommend = pd.DataFrame(index = scores_id)\n",
    "    to_recommend['Description'] = description\n",
    "    to_recommend['Score'] = scores.values\n",
    "    print(f'The {k} most similar item to item {target_item[0]} are:')\n",
    "    for i,ii in enumerate(description):\n",
    "        print(f'{i+1} - {ii}')\n",
    "    return(to_recommend)\n",
    "    \n",
    "\n",
    "def cold_start_rec (model,user_id,item_dict, user_feature,nrec_items,columns):\n",
    "    scores= model.predict(user_id,item_ids=np.arange(len(columns)), user_features=user_feature)\n",
    "    products = columns\n",
    "    scores = pd.Series(scores)\n",
    "    scores.index = products\n",
    "    scores = scores.sort_values(ascending=False)\n",
    "    to_recommend = []\n",
    "    score = []\n",
    "    description = []\n",
    "    known_items = []\n",
    "\n",
    "    appended = []\n",
    "    for i,ii in zip(scores.index, scores):\n",
    "        if len(appended)<15:\n",
    "            if i not in known_items:\n",
    "                to_recommend.append(i)\n",
    "                score.append(ii)\n",
    "                description.append(data_clean.loc[data_clean['StockCode'].isin([i]),'Description'].unique()[0])\n",
    "                appended.append(0)\n",
    "\n",
    "\n",
    "\n",
    "    lightRecom = pd.DataFrame()\n",
    "    lightRecom['ProductID'] = to_recommend\n",
    "    lightRecom['Description'] = description\n",
    "    lightRecom['Score'] = score\n",
    "    display(lightRecom.iloc[:10])\n",
    "    scores = list(pd.Series(scores.sort_values(ascending=False).index))\n",
    "    scores = [x for x in scores if x not in known_items]\n",
    "    return_score_list = scores[0:nrec_items]\n",
    "    known_items = list(pd.Series(known_items).apply(lambda x: item_dict[x]))\n",
    "    scores = list(pd.Series(return_score_list).apply(lambda x: item_dict[x]))\n",
    "    \n",
    "    print (\"User: \" + str(user_id))\n",
    "    print(\"Has Previosly Bought:\")\n",
    "    counter = 1\n",
    "    for i in known_items:\n",
    "        print(str(counter) + '-' + i)\n",
    "        counter+=1\n",
    "\n",
    "\n",
    "    print(\"\\n Recommended Items:\")\n",
    "    counter = 1\n",
    "    for i in scores:\n",
    "        print(str(counter) + '-' + i)\n",
    "        counter+=1\n",
    "    return(lightRecom)"
   ]
  },
  {
   "cell_type": "code",
   "execution_count": 61,
   "id": "d40a2a58",
   "metadata": {
    "scrolled": true
   },
   "outputs": [],
   "source": [
    "user_idx, prod_idx2 = create_id(x_train_matrix_bought)"
   ]
  },
  {
   "cell_type": "markdown",
   "id": "0ed433fb",
   "metadata": {},
   "source": [
    "#### Modelling Training "
   ]
  },
  {
   "cell_type": "code",
   "execution_count": 62,
   "id": "01dc6f87",
   "metadata": {},
   "outputs": [],
   "source": [
    "def oneHotEncoder(data):\n",
    "    from sklearn.preprocessing import MinMaxScaler, StandardScaler, OneHotEncoder\n",
    "    non_metric_features =list(data.select_dtypes(exclude=np.number).set_index(data.index).columns)\n",
    "    ohc = OneHotEncoder(sparse=False)\n",
    "    ohc_feat = ohc.fit_transform(data[non_metric_features])\n",
    "    names = ohc.get_feature_names()\n",
    "    \n",
    "    ohc_cat = pd.DataFrame(data =ohc_feat ,columns = names, index = data.index)\n",
    "    return(ohc_cat)\n",
    "\n",
    "def create_feature_matrix (data,features):\n",
    "    user_feat = data.copy()\n",
    "    user_feat = user_feat[features]\n",
    "    user_feature = csr_matrix(oneHotEncoder_(user_feat))\n",
    "    return(user_feature)\n",
    "\n",
    "\n"
   ]
  },
  {
   "cell_type": "code",
   "execution_count": 63,
   "id": "0cbf201d",
   "metadata": {},
   "outputs": [],
   "source": [
    "user_feat = cust_sig.reset_index().copy()\n",
    "user_feat = user_feat.loc[user_feat['CustId'].isin(x_train_matrix_bought.index),['CustId','Country']]\n",
    "user_feature0 = csr_matrix(oneHotEncoder(user_feat))"
   ]
  },
  {
   "cell_type": "markdown",
   "id": "fadfa702",
   "metadata": {},
   "source": [
    "#### With User Features"
   ]
  },
  {
   "cell_type": "code",
   "execution_count": 73,
   "id": "c5783d3e",
   "metadata": {
    "scrolled": true
   },
   "outputs": [
    {
     "name": "stdout",
     "output_type": "stream",
     "text": [
      "Train AUC Score: 0.7921098470687866\n",
      "Test AUC Score: 0.7899875640869141\n",
      "-----------------------------------------------------------------------------------------------------------------------------\n",
      "Train Precision at 10 Score: 0.1612999141216278\n",
      "Test Precision 10 Score: 0.08569074422121048\n",
      "\n",
      "Train Recall 10 Score: 0.03954366978926895\n",
      "Test Recall 10 Score: 0.04198074349862535\n"
     ]
    }
   ],
   "source": [
    "model_fm = lightfm.LightFM(loss='warp',no_components=200,learning_rate=0.02,random_state=10)\n",
    "lightfm_model_features, item_sim = lighfm_recommender(model_fm,x_train_matrix_csr_bought \\\n",
    "                                                      ,x_val_matrix_csr_bought,x_train_matrix_bought \\\n",
    "                                                      ,user_feat = user_feature0,epochs=3)"
   ]
  },
  {
   "cell_type": "markdown",
   "id": "19f14577",
   "metadata": {},
   "source": [
    "#### Cold Start Recommendation"
   ]
  },
  {
   "cell_type": "markdown",
   "id": "e2387b52",
   "metadata": {},
   "source": [
    "The LightFM model can be used to perform cold start recommendations since it allows the introduction of user and item features, enabling the model to gain knowledge on customers or items without any interaction present.  In this example, the algorith is using country data to make predictions on recommended items. "
   ]
  },
  {
   "cell_type": "code",
   "execution_count": 74,
   "id": "8db4815e",
   "metadata": {},
   "outputs": [],
   "source": [
    "#create feature user of customers without customer id or with only 1 transaction\n",
    "user_feat = data_clean.loc[((data_clean['CustId'].isin(split_['CustId'])==False) | \\\n",
    "                           (data_clean['CustId'].isnull()==True)) & (data_clean['Country'].isin(x_train['Country'].unique()))].copy()\n",
    "\n",
    "user_feat = user_feat[['CustId','Country']].drop_duplicates()\n",
    "index_ = user_feat.index\n",
    "user_feature = csr_matrix(oneHotEncoder(user_feat))"
   ]
  },
  {
   "cell_type": "code",
   "execution_count": 75,
   "id": "4de0b9d5",
   "metadata": {
    "collapsed": true
   },
   "outputs": [
    {
     "data": {
      "text/html": [
       "<div>\n",
       "<style scoped>\n",
       "    .dataframe tbody tr th:only-of-type {\n",
       "        vertical-align: middle;\n",
       "    }\n",
       "\n",
       "    .dataframe tbody tr th {\n",
       "        vertical-align: top;\n",
       "    }\n",
       "\n",
       "    .dataframe thead th {\n",
       "        text-align: right;\n",
       "    }\n",
       "</style>\n",
       "<table border=\"1\" class=\"dataframe\">\n",
       "  <thead>\n",
       "    <tr style=\"text-align: right;\">\n",
       "      <th></th>\n",
       "      <th>ProductID</th>\n",
       "      <th>Description</th>\n",
       "      <th>Score</th>\n",
       "    </tr>\n",
       "  </thead>\n",
       "  <tbody>\n",
       "    <tr>\n",
       "      <th>0</th>\n",
       "      <td>22423</td>\n",
       "      <td>REGENCY CAKESTAND 3 TIER</td>\n",
       "      <td>1.295774</td>\n",
       "    </tr>\n",
       "    <tr>\n",
       "      <th>1</th>\n",
       "      <td>85123A</td>\n",
       "      <td>WHITE HANGING HEART T-LIGHT HOLDER</td>\n",
       "      <td>1.217632</td>\n",
       "    </tr>\n",
       "    <tr>\n",
       "      <th>2</th>\n",
       "      <td>47566</td>\n",
       "      <td>PARTY BUNTING</td>\n",
       "      <td>1.061069</td>\n",
       "    </tr>\n",
       "    <tr>\n",
       "      <th>3</th>\n",
       "      <td>85099B</td>\n",
       "      <td>JUMBO BAG RED RETROSPOT</td>\n",
       "      <td>0.979936</td>\n",
       "    </tr>\n",
       "    <tr>\n",
       "      <th>4</th>\n",
       "      <td>84879</td>\n",
       "      <td>ASSORTED COLOUR BIRD ORNAMENT</td>\n",
       "      <td>0.965192</td>\n",
       "    </tr>\n",
       "    <tr>\n",
       "      <th>5</th>\n",
       "      <td>21212</td>\n",
       "      <td>PACK OF 72 RETROSPOT CAKE CASES</td>\n",
       "      <td>0.948233</td>\n",
       "    </tr>\n",
       "    <tr>\n",
       "      <th>6</th>\n",
       "      <td>22720</td>\n",
       "      <td>SET OF 3 CAKE TINS PANTRY DESIGN</td>\n",
       "      <td>0.929359</td>\n",
       "    </tr>\n",
       "    <tr>\n",
       "      <th>7</th>\n",
       "      <td>22457</td>\n",
       "      <td>NATURAL SLATE HEART CHALKBOARD</td>\n",
       "      <td>0.883519</td>\n",
       "    </tr>\n",
       "    <tr>\n",
       "      <th>8</th>\n",
       "      <td>22086</td>\n",
       "      <td>PAPER CHAIN KIT 50'S CHRISTMAS</td>\n",
       "      <td>0.863836</td>\n",
       "    </tr>\n",
       "    <tr>\n",
       "      <th>9</th>\n",
       "      <td>23203</td>\n",
       "      <td>JUMBO BAG VINTAGE DOILY</td>\n",
       "      <td>0.808531</td>\n",
       "    </tr>\n",
       "  </tbody>\n",
       "</table>\n",
       "</div>"
      ],
      "text/plain": [
       "  ProductID                         Description     Score\n",
       "0     22423            REGENCY CAKESTAND 3 TIER  1.295774\n",
       "1    85123A  WHITE HANGING HEART T-LIGHT HOLDER  1.217632\n",
       "2     47566                       PARTY BUNTING  1.061069\n",
       "3    85099B             JUMBO BAG RED RETROSPOT  0.979936\n",
       "4     84879       ASSORTED COLOUR BIRD ORNAMENT  0.965192\n",
       "5     21212     PACK OF 72 RETROSPOT CAKE CASES  0.948233\n",
       "6     22720   SET OF 3 CAKE TINS PANTRY DESIGN   0.929359\n",
       "7     22457     NATURAL SLATE HEART CHALKBOARD   0.883519\n",
       "8     22086     PAPER CHAIN KIT 50'S CHRISTMAS   0.863836\n",
       "9     23203            JUMBO BAG VINTAGE DOILY   0.808531"
      ]
     },
     "metadata": {},
     "output_type": "display_data"
    },
    {
     "name": "stdout",
     "output_type": "stream",
     "text": [
      "User: 1\n",
      "Has Previosly Bought:\n",
      "\n",
      " Recommended Items:\n",
      "1- REGENCY CAKESTAND 3 TIER\n",
      "2- WHITE HANGING HEART T-LIGHT HOLDER\n",
      "3- PARTY BUNTING\n",
      "4- JUMBO BAG RED RETROSPOT\n",
      "5- ASSORTED COLOUR BIRD ORNAMENT\n",
      "6- PACK OF 72 RETROSPOT CAKE CASES\n",
      "7- SET OF 3 CAKE TINS PANTRY DESIGN \n",
      "8- NATURAL SLATE HEART CHALKBOARD \n",
      "9- PAPER CHAIN KIT 50'S CHRISTMAS \n",
      "10- JUMBO BAG VINTAGE DOILY \n"
     ]
    },
    {
     "name": "stderr",
     "output_type": "stream",
     "text": [
      "C:\\Users\\rafae\\AppData\\Local\\Temp/ipykernel_10912/990427466.py:139: FutureWarning: The default dtype for empty Series will be 'object' instead of 'float64' in a future version. Specify a dtype explicitly to silence this warning.\n",
      "  known_items = list(pd.Series(known_items).apply(lambda x: item_dict[x]))\n"
     ]
    },
    {
     "data": {
      "text/html": [
       "<div>\n",
       "<style scoped>\n",
       "    .dataframe tbody tr th:only-of-type {\n",
       "        vertical-align: middle;\n",
       "    }\n",
       "\n",
       "    .dataframe tbody tr th {\n",
       "        vertical-align: top;\n",
       "    }\n",
       "\n",
       "    .dataframe thead th {\n",
       "        text-align: right;\n",
       "    }\n",
       "</style>\n",
       "<table border=\"1\" class=\"dataframe\">\n",
       "  <thead>\n",
       "    <tr style=\"text-align: right;\">\n",
       "      <th></th>\n",
       "      <th>ProductID</th>\n",
       "      <th>Description</th>\n",
       "      <th>Score</th>\n",
       "    </tr>\n",
       "  </thead>\n",
       "  <tbody>\n",
       "    <tr>\n",
       "      <th>0</th>\n",
       "      <td>22423</td>\n",
       "      <td>REGENCY CAKESTAND 3 TIER</td>\n",
       "      <td>1.295774</td>\n",
       "    </tr>\n",
       "    <tr>\n",
       "      <th>1</th>\n",
       "      <td>85123A</td>\n",
       "      <td>WHITE HANGING HEART T-LIGHT HOLDER</td>\n",
       "      <td>1.217632</td>\n",
       "    </tr>\n",
       "    <tr>\n",
       "      <th>2</th>\n",
       "      <td>47566</td>\n",
       "      <td>PARTY BUNTING</td>\n",
       "      <td>1.061069</td>\n",
       "    </tr>\n",
       "    <tr>\n",
       "      <th>3</th>\n",
       "      <td>85099B</td>\n",
       "      <td>JUMBO BAG RED RETROSPOT</td>\n",
       "      <td>0.979936</td>\n",
       "    </tr>\n",
       "    <tr>\n",
       "      <th>4</th>\n",
       "      <td>84879</td>\n",
       "      <td>ASSORTED COLOUR BIRD ORNAMENT</td>\n",
       "      <td>0.965192</td>\n",
       "    </tr>\n",
       "    <tr>\n",
       "      <th>5</th>\n",
       "      <td>21212</td>\n",
       "      <td>PACK OF 72 RETROSPOT CAKE CASES</td>\n",
       "      <td>0.948233</td>\n",
       "    </tr>\n",
       "    <tr>\n",
       "      <th>6</th>\n",
       "      <td>22720</td>\n",
       "      <td>SET OF 3 CAKE TINS PANTRY DESIGN</td>\n",
       "      <td>0.929359</td>\n",
       "    </tr>\n",
       "    <tr>\n",
       "      <th>7</th>\n",
       "      <td>22457</td>\n",
       "      <td>NATURAL SLATE HEART CHALKBOARD</td>\n",
       "      <td>0.883519</td>\n",
       "    </tr>\n",
       "    <tr>\n",
       "      <th>8</th>\n",
       "      <td>22086</td>\n",
       "      <td>PAPER CHAIN KIT 50'S CHRISTMAS</td>\n",
       "      <td>0.863836</td>\n",
       "    </tr>\n",
       "    <tr>\n",
       "      <th>9</th>\n",
       "      <td>23203</td>\n",
       "      <td>JUMBO BAG VINTAGE DOILY</td>\n",
       "      <td>0.808531</td>\n",
       "    </tr>\n",
       "    <tr>\n",
       "      <th>10</th>\n",
       "      <td>22469</td>\n",
       "      <td>HEART OF WICKER SMALL</td>\n",
       "      <td>0.775208</td>\n",
       "    </tr>\n",
       "    <tr>\n",
       "      <th>11</th>\n",
       "      <td>22961</td>\n",
       "      <td>JAM MAKING SET PRINTED</td>\n",
       "      <td>0.751862</td>\n",
       "    </tr>\n",
       "    <tr>\n",
       "      <th>12</th>\n",
       "      <td>22960</td>\n",
       "      <td>JAM MAKING SET WITH JARS</td>\n",
       "      <td>0.747472</td>\n",
       "    </tr>\n",
       "    <tr>\n",
       "      <th>13</th>\n",
       "      <td>22138</td>\n",
       "      <td>BAKING SET 9 PIECE RETROSPOT</td>\n",
       "      <td>0.712047</td>\n",
       "    </tr>\n",
       "    <tr>\n",
       "      <th>14</th>\n",
       "      <td>20727</td>\n",
       "      <td>LUNCH BAG  BLACK SKULL.</td>\n",
       "      <td>0.698802</td>\n",
       "    </tr>\n",
       "  </tbody>\n",
       "</table>\n",
       "</div>"
      ],
      "text/plain": [
       "   ProductID                         Description     Score\n",
       "0      22423            REGENCY CAKESTAND 3 TIER  1.295774\n",
       "1     85123A  WHITE HANGING HEART T-LIGHT HOLDER  1.217632\n",
       "2      47566                       PARTY BUNTING  1.061069\n",
       "3     85099B             JUMBO BAG RED RETROSPOT  0.979936\n",
       "4      84879       ASSORTED COLOUR BIRD ORNAMENT  0.965192\n",
       "5      21212     PACK OF 72 RETROSPOT CAKE CASES  0.948233\n",
       "6      22720   SET OF 3 CAKE TINS PANTRY DESIGN   0.929359\n",
       "7      22457     NATURAL SLATE HEART CHALKBOARD   0.883519\n",
       "8      22086     PAPER CHAIN KIT 50'S CHRISTMAS   0.863836\n",
       "9      23203            JUMBO BAG VINTAGE DOILY   0.808531\n",
       "10     22469               HEART OF WICKER SMALL  0.775208\n",
       "11     22961              JAM MAKING SET PRINTED  0.751862\n",
       "12     22960            JAM MAKING SET WITH JARS  0.747472\n",
       "13     22138       BAKING SET 9 PIECE RETROSPOT   0.712047\n",
       "14     20727             LUNCH BAG  BLACK SKULL.  0.698802"
      ]
     },
     "execution_count": 75,
     "metadata": {},
     "output_type": "execute_result"
    }
   ],
   "source": [
    "cold_start_rec(lightfm_model_features,1,prod_idx2,user_feature,10,x_train_matrix_bought.columns)"
   ]
  },
  {
   "cell_type": "markdown",
   "id": "b1c1e733",
   "metadata": {},
   "source": [
    "#### Without User Features"
   ]
  },
  {
   "cell_type": "code",
   "execution_count": 223,
   "id": "85fae237",
   "metadata": {
    "collapsed": true
   },
   "outputs": [
    {
     "name": "stdout",
     "output_type": "stream",
     "text": [
      "Learing Rate: 0.001\n",
      "Train AUC Score: 0.7750322818756104\n",
      "Test AUC Score: 0.7742590308189392\n",
      "-----------------------------------------------------------------------------------------------------------------------------\n",
      "Train Precision at 10 Score: 0.15755628049373627\n",
      "Test Precision 10 Score: 0.08700000494718552\n",
      "\n",
      "Train Recall 10 Score: 0.04004647082077853\n",
      "Test Recall 10 Score: 0.039703927204398415\n",
      "-----------------------------------------------------------------------------------------------------------------------------\n",
      "Learing Rate: 0.005\n",
      "Train AUC Score: 0.7828736901283264\n",
      "Test AUC Score: 0.7837705612182617\n",
      "-----------------------------------------------------------------------------------------------------------------------------\n",
      "Train Precision at 10 Score: 0.14933906495571136\n",
      "Test Precision 10 Score: 0.08900000154972076\n",
      "\n",
      "Train Recall 10 Score: 0.03426313850384154\n",
      "Test Recall 10 Score: 0.03693922131713017\n",
      "-----------------------------------------------------------------------------------------------------------------------------\n",
      "Learing Rate: 0.01\n",
      "Train AUC Score: 0.7888915538787842\n",
      "Test AUC Score: 0.7887299656867981\n",
      "-----------------------------------------------------------------------------------------------------------------------------\n",
      "Train Precision at 10 Score: 0.15973563492298126\n",
      "Test Precision 10 Score: 0.09135714918375015\n",
      "\n",
      "Train Recall 10 Score: 0.03880488774466486\n",
      "Test Recall 10 Score: 0.039896905535775955\n",
      "-----------------------------------------------------------------------------------------------------------------------------\n",
      "Learing Rate: 0.02\n",
      "Train AUC Score: 0.8149728178977966\n",
      "Test AUC Score: 0.8033816814422607\n",
      "-----------------------------------------------------------------------------------------------------------------------------\n",
      "Train Precision at 10 Score: 0.21039657294750214\n",
      "Test Precision 10 Score: 0.11596429347991943\n",
      "\n",
      "Train Recall 10 Score: 0.05044970722138626\n",
      "Test Recall 10 Score: 0.0515297446719578\n",
      "-----------------------------------------------------------------------------------------------------------------------------\n",
      "Learing Rate: 0.05\n",
      "Train AUC Score: 0.9095970392227173\n",
      "Test AUC Score: 0.8283787965774536\n",
      "-----------------------------------------------------------------------------------------------------------------------------\n",
      "Train Precision at 10 Score: 0.39864233136177063\n",
      "Test Precision 10 Score: 0.16464285552501678\n",
      "\n",
      "Train Recall 10 Score: 0.14467177251039845\n",
      "Test Recall 10 Score: 0.08544095688493401\n",
      "-----------------------------------------------------------------------------------------------------------------------------\n"
     ]
    }
   ],
   "source": [
    "\n",
    "for i in [0.001,0.005,0.01,0.02,0.05]:\n",
    "    print(f'Learing Rate: {i}')\n",
    "    model_fm = lightfm.LightFM(loss='warp',no_components=200,learning_rate=i)\n",
    "    lightfm_model, item_sim = lighfm_recommender(model_fm,x_train_matrix_csr_bought,x_val_matrix_csr_bought,x_train_matrix_bought,2)\n",
    "    print('-'*125)"
   ]
  },
  {
   "cell_type": "code",
   "execution_count": 535,
   "id": "00b3d67e",
   "metadata": {
    "collapsed": true
   },
   "outputs": [
    {
     "name": "stdout",
     "output_type": "stream",
     "text": [
      "Nr Components: 50\n",
      "Train AUC Score: 0.7943669557571411\n",
      "Test AUC Score: 0.7913122773170471\n",
      "-----------------------------------------------------------------------------------------------------------------------------\n",
      "Test Precision Score: 0.09825000166893005\n",
      "Test Recall Score: 0.042982089332289045\n",
      "-----------------------------------------------------------------------------------------------------------------------------\n",
      "Nr Components: 100\n",
      "Train AUC Score: 0.8042321801185608\n",
      "Test AUC Score: 0.7978204488754272\n",
      "-----------------------------------------------------------------------------------------------------------------------------\n",
      "Test Precision Score: 0.10803571343421936\n",
      "Test Recall Score: 0.048164666960329776\n",
      "-----------------------------------------------------------------------------------------------------------------------------\n",
      "Nr Components: 200\n",
      "Train AUC Score: 0.8138183355331421\n",
      "Test AUC Score: 0.802442193031311\n",
      "-----------------------------------------------------------------------------------------------------------------------------\n",
      "Test Precision Score: 0.11221428960561752\n",
      "Test Recall Score: 0.04915621296754416\n",
      "-----------------------------------------------------------------------------------------------------------------------------\n",
      "Nr Components: 500\n",
      "Train AUC Score: 0.8299973607063293\n",
      "Test AUC Score: 0.8115553259849548\n",
      "-----------------------------------------------------------------------------------------------------------------------------\n",
      "Test Precision Score: 0.12196428328752518\n",
      "Test Recall Score: 0.05602680922713538\n",
      "-----------------------------------------------------------------------------------------------------------------------------\n"
     ]
    }
   ],
   "source": [
    "for i in [50,100,200,500]:\n",
    "    print(f'Nr Components: {i}')\n",
    "    model_fm = lightfm.LightFM(loss='warp',no_components=i,learning_rate=0.02,random_state=10)\n",
    "    lightfm_model, item_sim = lighfm_recommender(model_fm,x_train_matrix_csr_bought,x_val_matrix_csr_bought,x_train_matrix_bought,2)\n",
    "    print('-'*125)"
   ]
  },
  {
   "cell_type": "code",
   "execution_count": 71,
   "id": "cec40de8",
   "metadata": {
    "collapsed": true
   },
   "outputs": [
    {
     "name": "stdout",
     "output_type": "stream",
     "text": [
      "Train AUC Score: 0.8385251760482788\n",
      "Test AUC Score: 0.8148438334465027\n",
      "-----------------------------------------------------------------------------------------------------------------------------\n",
      "Train Precision at 20 Score: 0.21827778220176697\n",
      "Test Precision 20 Score: 0.10502803325653076\n",
      "\n",
      "Train Recall 20 Score: 0.10465915418920389\n",
      "Test Recall 20 Score: 0.1012242038093104\n"
     ]
    }
   ],
   "source": [
    "model_fm = lightfm.LightFM(loss='warp',no_components=200,learning_rate=0.02,random_state=10)\n",
    "lightfm_model, item_sim = lighfm_recommender(model_fm,x_train_matrix_csr_count,x_val_matrix_csr_count,x_train_matrix_count,3,k=20)\n"
   ]
  },
  {
   "cell_type": "code",
   "execution_count": 65,
   "id": "e028f189",
   "metadata": {},
   "outputs": [],
   "source": [
    "user_id = 12348.0\n",
    "arg_id  = int(np.argwhere(x_train_matrix_bought.index== user_id)[0][0])"
   ]
  },
  {
   "cell_type": "code",
   "execution_count": 72,
   "id": "4dc4099c",
   "metadata": {
    "collapsed": true
   },
   "outputs": [
    {
     "data": {
      "text/html": [
       "<div>\n",
       "<style scoped>\n",
       "    .dataframe tbody tr th:only-of-type {\n",
       "        vertical-align: middle;\n",
       "    }\n",
       "\n",
       "    .dataframe tbody tr th {\n",
       "        vertical-align: top;\n",
       "    }\n",
       "\n",
       "    .dataframe thead th {\n",
       "        text-align: right;\n",
       "    }\n",
       "</style>\n",
       "<table border=\"1\" class=\"dataframe\">\n",
       "  <thead>\n",
       "    <tr style=\"text-align: right;\">\n",
       "      <th></th>\n",
       "      <th>ProductID</th>\n",
       "      <th>Description</th>\n",
       "      <th>Score</th>\n",
       "    </tr>\n",
       "  </thead>\n",
       "  <tbody>\n",
       "    <tr>\n",
       "      <th>0</th>\n",
       "      <td>20725</td>\n",
       "      <td>LUNCH BAG RED RETROSPOT</td>\n",
       "      <td>2.713674</td>\n",
       "    </tr>\n",
       "    <tr>\n",
       "      <th>1</th>\n",
       "      <td>22382</td>\n",
       "      <td>LUNCH BAG SPACEBOY DESIGN</td>\n",
       "      <td>2.648777</td>\n",
       "    </tr>\n",
       "    <tr>\n",
       "      <th>2</th>\n",
       "      <td>85099B</td>\n",
       "      <td>JUMBO BAG RED RETROSPOT</td>\n",
       "      <td>2.612767</td>\n",
       "    </tr>\n",
       "    <tr>\n",
       "      <th>3</th>\n",
       "      <td>20726</td>\n",
       "      <td>LUNCH BAG WOODLAND</td>\n",
       "      <td>2.551939</td>\n",
       "    </tr>\n",
       "    <tr>\n",
       "      <th>4</th>\n",
       "      <td>20727</td>\n",
       "      <td>LUNCH BAG  BLACK SKULL.</td>\n",
       "      <td>2.534981</td>\n",
       "    </tr>\n",
       "    <tr>\n",
       "      <th>5</th>\n",
       "      <td>21212</td>\n",
       "      <td>PACK OF 72 RETROSPOT CAKE CASES</td>\n",
       "      <td>2.506015</td>\n",
       "    </tr>\n",
       "    <tr>\n",
       "      <th>6</th>\n",
       "      <td>23206</td>\n",
       "      <td>LUNCH BAG APPLE DESIGN</td>\n",
       "      <td>2.432791</td>\n",
       "    </tr>\n",
       "    <tr>\n",
       "      <th>7</th>\n",
       "      <td>22383</td>\n",
       "      <td>LUNCH BAG SUKI DESIGN</td>\n",
       "      <td>2.389974</td>\n",
       "    </tr>\n",
       "    <tr>\n",
       "      <th>8</th>\n",
       "      <td>23209</td>\n",
       "      <td>LUNCH BAG VINTAGE DOILY</td>\n",
       "      <td>2.388830</td>\n",
       "    </tr>\n",
       "    <tr>\n",
       "      <th>9</th>\n",
       "      <td>22384</td>\n",
       "      <td>LUNCH BAG PINK POLKADOT</td>\n",
       "      <td>2.380080</td>\n",
       "    </tr>\n",
       "  </tbody>\n",
       "</table>\n",
       "</div>"
      ],
      "text/plain": [
       "  ProductID                      Description     Score\n",
       "0     20725          LUNCH BAG RED RETROSPOT  2.713674\n",
       "1     22382       LUNCH BAG SPACEBOY DESIGN   2.648777\n",
       "2    85099B          JUMBO BAG RED RETROSPOT  2.612767\n",
       "3     20726               LUNCH BAG WOODLAND  2.551939\n",
       "4     20727          LUNCH BAG  BLACK SKULL.  2.534981\n",
       "5     21212  PACK OF 72 RETROSPOT CAKE CASES  2.506015\n",
       "6     23206           LUNCH BAG APPLE DESIGN  2.432791\n",
       "7     22383           LUNCH BAG SUKI DESIGN   2.389974\n",
       "8     23209         LUNCH BAG VINTAGE DOILY   2.388830\n",
       "9     22384          LUNCH BAG PINK POLKADOT  2.380080"
      ]
     },
     "metadata": {},
     "output_type": "display_data"
    },
    {
     "name": "stdout",
     "output_type": "stream",
     "text": [
      "User: 12348.0\n",
      "Has Previosly Bought:\n",
      "1- ICE CREAM PEN LIP GLOSS \n",
      "2- DOUGHNUT LIP GLOSS \n",
      "\n",
      " Recommended Items:\n",
      "1- LUNCH BAG RED RETROSPOT\n",
      "2- LUNCH BAG SPACEBOY DESIGN \n",
      "3- JUMBO BAG RED RETROSPOT\n",
      "4- LUNCH BAG WOODLAND\n",
      "5- LUNCH BAG  BLACK SKULL.\n",
      "6- PACK OF 72 RETROSPOT CAKE CASES\n",
      "7- LUNCH BAG APPLE DESIGN\n",
      "8- LUNCH BAG SUKI DESIGN \n",
      "9- LUNCH BAG VINTAGE DOILY \n",
      "10- LUNCH BAG PINK POLKADOT\n"
     ]
    }
   ],
   "source": [
    "recommendation = sample_recommendation_user(lightfm_model,x_val_matrix_bought,arg_id ,user_idx,prod_idx2,nrec_items=10)"
   ]
  },
  {
   "cell_type": "markdown",
   "id": "62428158",
   "metadata": {},
   "source": [
    "#### Item - Item Recommendation"
   ]
  },
  {
   "cell_type": "code",
   "execution_count": 43,
   "id": "ddb7dddb",
   "metadata": {
    "collapsed": true
   },
   "outputs": [
    {
     "data": {
      "text/html": [
       "<div>\n",
       "<style scoped>\n",
       "    .dataframe tbody tr th:only-of-type {\n",
       "        vertical-align: middle;\n",
       "    }\n",
       "\n",
       "    .dataframe tbody tr th {\n",
       "        vertical-align: top;\n",
       "    }\n",
       "\n",
       "    .dataframe thead th {\n",
       "        text-align: right;\n",
       "    }\n",
       "</style>\n",
       "<table border=\"1\" class=\"dataframe\">\n",
       "  <thead>\n",
       "    <tr style=\"text-align: right;\">\n",
       "      <th>StockCode</th>\n",
       "      <th>20760</th>\n",
       "      <th>23047</th>\n",
       "      <th>22524</th>\n",
       "      <th>35653</th>\n",
       "      <th>22313</th>\n",
       "      <th>23042</th>\n",
       "      <th>22221</th>\n",
       "      <th>35810A</th>\n",
       "      <th>22928</th>\n",
       "      <th>21738</th>\n",
       "      <th>...</th>\n",
       "      <th>84870C</th>\n",
       "      <th>84247E</th>\n",
       "      <th>22853</th>\n",
       "      <th>23086</th>\n",
       "      <th>85088</th>\n",
       "      <th>22287</th>\n",
       "      <th>23272</th>\n",
       "      <th>23134</th>\n",
       "      <th>22353</th>\n",
       "      <th>90142D</th>\n",
       "    </tr>\n",
       "    <tr>\n",
       "      <th>StockCode</th>\n",
       "      <th></th>\n",
       "      <th></th>\n",
       "      <th></th>\n",
       "      <th></th>\n",
       "      <th></th>\n",
       "      <th></th>\n",
       "      <th></th>\n",
       "      <th></th>\n",
       "      <th></th>\n",
       "      <th></th>\n",
       "      <th></th>\n",
       "      <th></th>\n",
       "      <th></th>\n",
       "      <th></th>\n",
       "      <th></th>\n",
       "      <th></th>\n",
       "      <th></th>\n",
       "      <th></th>\n",
       "      <th></th>\n",
       "      <th></th>\n",
       "      <th></th>\n",
       "    </tr>\n",
       "  </thead>\n",
       "  <tbody>\n",
       "    <tr>\n",
       "      <th>20760</th>\n",
       "      <td>1.000000</td>\n",
       "      <td>0.832100</td>\n",
       "      <td>0.136609</td>\n",
       "      <td>0.912501</td>\n",
       "      <td>0.476168</td>\n",
       "      <td>0.850525</td>\n",
       "      <td>0.390048</td>\n",
       "      <td>-0.470470</td>\n",
       "      <td>0.341942</td>\n",
       "      <td>0.736280</td>\n",
       "      <td>...</td>\n",
       "      <td>0.907603</td>\n",
       "      <td>0.931884</td>\n",
       "      <td>-0.556887</td>\n",
       "      <td>0.748374</td>\n",
       "      <td>0.922065</td>\n",
       "      <td>0.065001</td>\n",
       "      <td>0.603716</td>\n",
       "      <td>0.137927</td>\n",
       "      <td>0.431438</td>\n",
       "      <td>0.878688</td>\n",
       "    </tr>\n",
       "    <tr>\n",
       "      <th>23047</th>\n",
       "      <td>0.832100</td>\n",
       "      <td>1.000000</td>\n",
       "      <td>0.377505</td>\n",
       "      <td>0.862966</td>\n",
       "      <td>0.247816</td>\n",
       "      <td>0.964592</td>\n",
       "      <td>0.439238</td>\n",
       "      <td>-0.245071</td>\n",
       "      <td>0.207437</td>\n",
       "      <td>0.712284</td>\n",
       "      <td>...</td>\n",
       "      <td>0.882237</td>\n",
       "      <td>0.872283</td>\n",
       "      <td>-0.242870</td>\n",
       "      <td>0.706814</td>\n",
       "      <td>0.788095</td>\n",
       "      <td>-0.161611</td>\n",
       "      <td>0.520323</td>\n",
       "      <td>0.260442</td>\n",
       "      <td>0.551071</td>\n",
       "      <td>0.790725</td>\n",
       "    </tr>\n",
       "    <tr>\n",
       "      <th>22524</th>\n",
       "      <td>0.136609</td>\n",
       "      <td>0.377505</td>\n",
       "      <td>1.000000</td>\n",
       "      <td>0.113845</td>\n",
       "      <td>-0.207961</td>\n",
       "      <td>0.354067</td>\n",
       "      <td>0.389561</td>\n",
       "      <td>0.034077</td>\n",
       "      <td>-0.376149</td>\n",
       "      <td>-0.141455</td>\n",
       "      <td>...</td>\n",
       "      <td>0.067042</td>\n",
       "      <td>0.111505</td>\n",
       "      <td>-0.038081</td>\n",
       "      <td>0.022102</td>\n",
       "      <td>0.134522</td>\n",
       "      <td>-0.477895</td>\n",
       "      <td>0.091055</td>\n",
       "      <td>-0.012411</td>\n",
       "      <td>0.643507</td>\n",
       "      <td>-0.060064</td>\n",
       "    </tr>\n",
       "    <tr>\n",
       "      <th>35653</th>\n",
       "      <td>0.912501</td>\n",
       "      <td>0.862966</td>\n",
       "      <td>0.113845</td>\n",
       "      <td>1.000000</td>\n",
       "      <td>0.530587</td>\n",
       "      <td>0.897869</td>\n",
       "      <td>0.604402</td>\n",
       "      <td>-0.267050</td>\n",
       "      <td>0.433695</td>\n",
       "      <td>0.828275</td>\n",
       "      <td>...</td>\n",
       "      <td>0.967627</td>\n",
       "      <td>0.948557</td>\n",
       "      <td>-0.339494</td>\n",
       "      <td>0.856866</td>\n",
       "      <td>0.844750</td>\n",
       "      <td>0.129433</td>\n",
       "      <td>0.633368</td>\n",
       "      <td>0.398414</td>\n",
       "      <td>0.262277</td>\n",
       "      <td>0.942430</td>\n",
       "    </tr>\n",
       "    <tr>\n",
       "      <th>22313</th>\n",
       "      <td>0.476168</td>\n",
       "      <td>0.247816</td>\n",
       "      <td>-0.207961</td>\n",
       "      <td>0.530587</td>\n",
       "      <td>1.000000</td>\n",
       "      <td>0.290719</td>\n",
       "      <td>0.372224</td>\n",
       "      <td>0.035487</td>\n",
       "      <td>0.076634</td>\n",
       "      <td>0.552619</td>\n",
       "      <td>...</td>\n",
       "      <td>0.433325</td>\n",
       "      <td>0.459646</td>\n",
       "      <td>-0.336445</td>\n",
       "      <td>0.434324</td>\n",
       "      <td>0.534483</td>\n",
       "      <td>0.504089</td>\n",
       "      <td>0.267024</td>\n",
       "      <td>0.435322</td>\n",
       "      <td>0.008066</td>\n",
       "      <td>0.517573</td>\n",
       "    </tr>\n",
       "    <tr>\n",
       "      <th>...</th>\n",
       "      <td>...</td>\n",
       "      <td>...</td>\n",
       "      <td>...</td>\n",
       "      <td>...</td>\n",
       "      <td>...</td>\n",
       "      <td>...</td>\n",
       "      <td>...</td>\n",
       "      <td>...</td>\n",
       "      <td>...</td>\n",
       "      <td>...</td>\n",
       "      <td>...</td>\n",
       "      <td>...</td>\n",
       "      <td>...</td>\n",
       "      <td>...</td>\n",
       "      <td>...</td>\n",
       "      <td>...</td>\n",
       "      <td>...</td>\n",
       "      <td>...</td>\n",
       "      <td>...</td>\n",
       "      <td>...</td>\n",
       "      <td>...</td>\n",
       "    </tr>\n",
       "    <tr>\n",
       "      <th>22287</th>\n",
       "      <td>0.065001</td>\n",
       "      <td>-0.161611</td>\n",
       "      <td>-0.477895</td>\n",
       "      <td>0.129433</td>\n",
       "      <td>0.504089</td>\n",
       "      <td>-0.036381</td>\n",
       "      <td>-0.017986</td>\n",
       "      <td>0.403737</td>\n",
       "      <td>0.396183</td>\n",
       "      <td>0.351002</td>\n",
       "      <td>...</td>\n",
       "      <td>0.138705</td>\n",
       "      <td>0.202413</td>\n",
       "      <td>0.255605</td>\n",
       "      <td>0.445484</td>\n",
       "      <td>0.085405</td>\n",
       "      <td>1.000000</td>\n",
       "      <td>0.470731</td>\n",
       "      <td>0.541845</td>\n",
       "      <td>-0.501182</td>\n",
       "      <td>0.348367</td>\n",
       "    </tr>\n",
       "    <tr>\n",
       "      <th>23272</th>\n",
       "      <td>0.603716</td>\n",
       "      <td>0.520323</td>\n",
       "      <td>0.091055</td>\n",
       "      <td>0.633368</td>\n",
       "      <td>0.267024</td>\n",
       "      <td>0.645589</td>\n",
       "      <td>0.353723</td>\n",
       "      <td>0.066374</td>\n",
       "      <td>0.662977</td>\n",
       "      <td>0.545359</td>\n",
       "      <td>...</td>\n",
       "      <td>0.683356</td>\n",
       "      <td>0.739287</td>\n",
       "      <td>0.022505</td>\n",
       "      <td>0.870204</td>\n",
       "      <td>0.531575</td>\n",
       "      <td>0.470731</td>\n",
       "      <td>1.000000</td>\n",
       "      <td>0.439454</td>\n",
       "      <td>-0.070868</td>\n",
       "      <td>0.761666</td>\n",
       "    </tr>\n",
       "    <tr>\n",
       "      <th>23134</th>\n",
       "      <td>0.137927</td>\n",
       "      <td>0.260442</td>\n",
       "      <td>-0.012411</td>\n",
       "      <td>0.398414</td>\n",
       "      <td>0.435322</td>\n",
       "      <td>0.331310</td>\n",
       "      <td>0.404647</td>\n",
       "      <td>0.615956</td>\n",
       "      <td>0.198567</td>\n",
       "      <td>0.519003</td>\n",
       "      <td>...</td>\n",
       "      <td>0.330733</td>\n",
       "      <td>0.338210</td>\n",
       "      <td>0.502994</td>\n",
       "      <td>0.561725</td>\n",
       "      <td>0.191758</td>\n",
       "      <td>0.541845</td>\n",
       "      <td>0.439454</td>\n",
       "      <td>1.000000</td>\n",
       "      <td>-0.217084</td>\n",
       "      <td>0.426119</td>\n",
       "    </tr>\n",
       "    <tr>\n",
       "      <th>22353</th>\n",
       "      <td>0.431438</td>\n",
       "      <td>0.551071</td>\n",
       "      <td>0.643507</td>\n",
       "      <td>0.262277</td>\n",
       "      <td>0.008066</td>\n",
       "      <td>0.459124</td>\n",
       "      <td>0.050240</td>\n",
       "      <td>-0.328295</td>\n",
       "      <td>-0.492696</td>\n",
       "      <td>0.111868</td>\n",
       "      <td>...</td>\n",
       "      <td>0.254958</td>\n",
       "      <td>0.306608</td>\n",
       "      <td>-0.403736</td>\n",
       "      <td>0.001087</td>\n",
       "      <td>0.477364</td>\n",
       "      <td>-0.501182</td>\n",
       "      <td>-0.070868</td>\n",
       "      <td>-0.217084</td>\n",
       "      <td>1.000000</td>\n",
       "      <td>0.113017</td>\n",
       "    </tr>\n",
       "    <tr>\n",
       "      <th>90142D</th>\n",
       "      <td>0.878688</td>\n",
       "      <td>0.790725</td>\n",
       "      <td>-0.060064</td>\n",
       "      <td>0.942430</td>\n",
       "      <td>0.517573</td>\n",
       "      <td>0.854133</td>\n",
       "      <td>0.431243</td>\n",
       "      <td>-0.218042</td>\n",
       "      <td>0.594061</td>\n",
       "      <td>0.876193</td>\n",
       "      <td>...</td>\n",
       "      <td>0.969289</td>\n",
       "      <td>0.964001</td>\n",
       "      <td>-0.238951</td>\n",
       "      <td>0.940091</td>\n",
       "      <td>0.811991</td>\n",
       "      <td>0.348367</td>\n",
       "      <td>0.761666</td>\n",
       "      <td>0.426119</td>\n",
       "      <td>0.113017</td>\n",
       "      <td>1.000000</td>\n",
       "    </tr>\n",
       "  </tbody>\n",
       "</table>\n",
       "<p>3130 rows × 3130 columns</p>\n",
       "</div>"
      ],
      "text/plain": [
       "StockCode     20760     23047     22524     35653     22313     23042  \\\n",
       "StockCode                                                               \n",
       "20760      1.000000  0.832100  0.136609  0.912501  0.476168  0.850525   \n",
       "23047      0.832100  1.000000  0.377505  0.862966  0.247816  0.964592   \n",
       "22524      0.136609  0.377505  1.000000  0.113845 -0.207961  0.354067   \n",
       "35653      0.912501  0.862966  0.113845  1.000000  0.530587  0.897869   \n",
       "22313      0.476168  0.247816 -0.207961  0.530587  1.000000  0.290719   \n",
       "...             ...       ...       ...       ...       ...       ...   \n",
       "22287      0.065001 -0.161611 -0.477895  0.129433  0.504089 -0.036381   \n",
       "23272      0.603716  0.520323  0.091055  0.633368  0.267024  0.645589   \n",
       "23134      0.137927  0.260442 -0.012411  0.398414  0.435322  0.331310   \n",
       "22353      0.431438  0.551071  0.643507  0.262277  0.008066  0.459124   \n",
       "90142D     0.878688  0.790725 -0.060064  0.942430  0.517573  0.854133   \n",
       "\n",
       "StockCode     22221    35810A     22928     21738  ...    84870C    84247E  \\\n",
       "StockCode                                          ...                       \n",
       "20760      0.390048 -0.470470  0.341942  0.736280  ...  0.907603  0.931884   \n",
       "23047      0.439238 -0.245071  0.207437  0.712284  ...  0.882237  0.872283   \n",
       "22524      0.389561  0.034077 -0.376149 -0.141455  ...  0.067042  0.111505   \n",
       "35653      0.604402 -0.267050  0.433695  0.828275  ...  0.967627  0.948557   \n",
       "22313      0.372224  0.035487  0.076634  0.552619  ...  0.433325  0.459646   \n",
       "...             ...       ...       ...       ...  ...       ...       ...   \n",
       "22287     -0.017986  0.403737  0.396183  0.351002  ...  0.138705  0.202413   \n",
       "23272      0.353723  0.066374  0.662977  0.545359  ...  0.683356  0.739287   \n",
       "23134      0.404647  0.615956  0.198567  0.519003  ...  0.330733  0.338210   \n",
       "22353      0.050240 -0.328295 -0.492696  0.111868  ...  0.254958  0.306608   \n",
       "90142D     0.431243 -0.218042  0.594061  0.876193  ...  0.969289  0.964001   \n",
       "\n",
       "StockCode     22853     23086     85088     22287     23272     23134  \\\n",
       "StockCode                                                               \n",
       "20760     -0.556887  0.748374  0.922065  0.065001  0.603716  0.137927   \n",
       "23047     -0.242870  0.706814  0.788095 -0.161611  0.520323  0.260442   \n",
       "22524     -0.038081  0.022102  0.134522 -0.477895  0.091055 -0.012411   \n",
       "35653     -0.339494  0.856866  0.844750  0.129433  0.633368  0.398414   \n",
       "22313     -0.336445  0.434324  0.534483  0.504089  0.267024  0.435322   \n",
       "...             ...       ...       ...       ...       ...       ...   \n",
       "22287      0.255605  0.445484  0.085405  1.000000  0.470731  0.541845   \n",
       "23272      0.022505  0.870204  0.531575  0.470731  1.000000  0.439454   \n",
       "23134      0.502994  0.561725  0.191758  0.541845  0.439454  1.000000   \n",
       "22353     -0.403736  0.001087  0.477364 -0.501182 -0.070868 -0.217084   \n",
       "90142D    -0.238951  0.940091  0.811991  0.348367  0.761666  0.426119   \n",
       "\n",
       "StockCode     22353    90142D  \n",
       "StockCode                      \n",
       "20760      0.431438  0.878688  \n",
       "23047      0.551071  0.790725  \n",
       "22524      0.643507 -0.060064  \n",
       "35653      0.262277  0.942430  \n",
       "22313      0.008066  0.517573  \n",
       "...             ...       ...  \n",
       "22287     -0.501182  0.348367  \n",
       "23272     -0.070868  0.761666  \n",
       "23134     -0.217084  0.426119  \n",
       "22353      1.000000  0.113017  \n",
       "90142D     0.113017  1.000000  \n",
       "\n",
       "[3130 rows x 3130 columns]"
      ]
     },
     "execution_count": 43,
     "metadata": {},
     "output_type": "execute_result"
    }
   ],
   "source": [
    "item_sim"
   ]
  },
  {
   "cell_type": "code",
   "execution_count": 44,
   "id": "9bfdf69e",
   "metadata": {
    "collapsed": true
   },
   "outputs": [
    {
     "name": "stdout",
     "output_type": "stream",
     "text": [
      "The 20 most similar item to item TREE T-LIGHT HOLDER WILLIE WINKIE are:\n",
      "1 - PINK/WHITE CHRISTMAS TREE 60CM\n",
      "2 - SWEETHEART WALL TIDY \n",
      "3 - SET OF 2 CERAMIC CHRISTMAS TREES\n",
      "4 - PURPLE ENAMEL FLOWER RING\n",
      "5 - ORIGAMI JASMINE INCENSE/CANDLE SET\n",
      "6 - ORIGAMI VANILLA INCENSE/CANDLE SET \n",
      "7 - GREEN ROUND COMPACT MIRROR\n",
      "8 - EMBOSSED HEART TRINKET BOX\n",
      "9 - MINT GREEN ROSE TOWEL\n",
      "10 - SOFT PINK ROSE TOWEL \n",
      "11 - DOORMAT CHRISTMAS VILLAGE\n",
      "12 - PORCELAIN ROSE SMALL\n",
      "13 - RIDGED GLASS POSY VASE \n",
      "14 - TALL ROCOCO CANDLE HOLDER\n",
      "15 - STORAGE TIN HOME SWEET HOME\n",
      "16 - FOLK ART METAL STAR T-LIGHT HOLDER\n",
      "17 - 4 PINK DINNER CANDLE SILVER FLOCK\n",
      "18 - STAR  T-LIGHT HOLDER \n",
      "19 - ROSE DU SUD COSMETICS BAG\n",
      "20 - DAISY JOURNAL \n"
     ]
    },
    {
     "data": {
      "text/html": [
       "<div>\n",
       "<style scoped>\n",
       "    .dataframe tbody tr th:only-of-type {\n",
       "        vertical-align: middle;\n",
       "    }\n",
       "\n",
       "    .dataframe tbody tr th {\n",
       "        vertical-align: top;\n",
       "    }\n",
       "\n",
       "    .dataframe thead th {\n",
       "        text-align: right;\n",
       "    }\n",
       "</style>\n",
       "<table border=\"1\" class=\"dataframe\">\n",
       "  <thead>\n",
       "    <tr style=\"text-align: right;\">\n",
       "      <th></th>\n",
       "      <th>Description</th>\n",
       "      <th>Score</th>\n",
       "    </tr>\n",
       "    <tr>\n",
       "      <th>StockCode</th>\n",
       "      <th></th>\n",
       "      <th></th>\n",
       "    </tr>\n",
       "  </thead>\n",
       "  <tbody>\n",
       "    <tr>\n",
       "      <th>35598D</th>\n",
       "      <td>PINK/WHITE CHRISTMAS TREE 60CM</td>\n",
       "      <td>0.960773</td>\n",
       "    </tr>\n",
       "    <tr>\n",
       "      <th>23460</th>\n",
       "      <td>SWEETHEART WALL TIDY</td>\n",
       "      <td>0.940562</td>\n",
       "    </tr>\n",
       "    <tr>\n",
       "      <th>23269</th>\n",
       "      <td>SET OF 2 CERAMIC CHRISTMAS TREES</td>\n",
       "      <td>0.932482</td>\n",
       "    </tr>\n",
       "    <tr>\n",
       "      <th>90201A</th>\n",
       "      <td>PURPLE ENAMEL FLOWER RING</td>\n",
       "      <td>0.926610</td>\n",
       "    </tr>\n",
       "    <tr>\n",
       "      <th>17012B</th>\n",
       "      <td>ORIGAMI JASMINE INCENSE/CANDLE SET</td>\n",
       "      <td>0.916996</td>\n",
       "    </tr>\n",
       "    <tr>\n",
       "      <th>17012A</th>\n",
       "      <td>ORIGAMI VANILLA INCENSE/CANDLE SET</td>\n",
       "      <td>0.909012</td>\n",
       "    </tr>\n",
       "    <tr>\n",
       "      <th>84877B</th>\n",
       "      <td>GREEN ROUND COMPACT MIRROR</td>\n",
       "      <td>0.906617</td>\n",
       "    </tr>\n",
       "    <tr>\n",
       "      <th>23074</th>\n",
       "      <td>EMBOSSED HEART TRINKET BOX</td>\n",
       "      <td>0.906333</td>\n",
       "    </tr>\n",
       "    <tr>\n",
       "      <th>84913B</th>\n",
       "      <td>MINT GREEN ROSE TOWEL</td>\n",
       "      <td>0.904052</td>\n",
       "    </tr>\n",
       "    <tr>\n",
       "      <th>84913A</th>\n",
       "      <td>SOFT PINK ROSE TOWEL</td>\n",
       "      <td>0.902654</td>\n",
       "    </tr>\n",
       "    <tr>\n",
       "      <th>22687</th>\n",
       "      <td>DOORMAT CHRISTMAS VILLAGE</td>\n",
       "      <td>0.899454</td>\n",
       "    </tr>\n",
       "    <tr>\n",
       "      <th>21422</th>\n",
       "      <td>PORCELAIN ROSE SMALL</td>\n",
       "      <td>0.898883</td>\n",
       "    </tr>\n",
       "    <tr>\n",
       "      <th>21656</th>\n",
       "      <td>RIDGED GLASS POSY VASE</td>\n",
       "      <td>0.897358</td>\n",
       "    </tr>\n",
       "    <tr>\n",
       "      <th>84609</th>\n",
       "      <td>TALL ROCOCO CANDLE HOLDER</td>\n",
       "      <td>0.896031</td>\n",
       "    </tr>\n",
       "    <tr>\n",
       "      <th>23425</th>\n",
       "      <td>STORAGE TIN HOME SWEET HOME</td>\n",
       "      <td>0.894692</td>\n",
       "    </tr>\n",
       "    <tr>\n",
       "      <th>35967</th>\n",
       "      <td>FOLK ART METAL STAR T-LIGHT HOLDER</td>\n",
       "      <td>0.894663</td>\n",
       "    </tr>\n",
       "    <tr>\n",
       "      <th>72800C</th>\n",
       "      <td>4 PINK DINNER CANDLE SILVER FLOCK</td>\n",
       "      <td>0.894436</td>\n",
       "    </tr>\n",
       "    <tr>\n",
       "      <th>21815</th>\n",
       "      <td>STAR  T-LIGHT HOLDER</td>\n",
       "      <td>0.890535</td>\n",
       "    </tr>\n",
       "    <tr>\n",
       "      <th>21000</th>\n",
       "      <td>ROSE DU SUD COSMETICS BAG</td>\n",
       "      <td>0.887577</td>\n",
       "    </tr>\n",
       "    <tr>\n",
       "      <th>20769</th>\n",
       "      <td>DAISY JOURNAL</td>\n",
       "      <td>0.887017</td>\n",
       "    </tr>\n",
       "  </tbody>\n",
       "</table>\n",
       "</div>"
      ],
      "text/plain": [
       "                                   Description     Score\n",
       "StockCode                                               \n",
       "35598D          PINK/WHITE CHRISTMAS TREE 60CM  0.960773\n",
       "23460                    SWEETHEART WALL TIDY   0.940562\n",
       "23269         SET OF 2 CERAMIC CHRISTMAS TREES  0.932482\n",
       "90201A               PURPLE ENAMEL FLOWER RING  0.926610\n",
       "17012B      ORIGAMI JASMINE INCENSE/CANDLE SET  0.916996\n",
       "17012A     ORIGAMI VANILLA INCENSE/CANDLE SET   0.909012\n",
       "84877B              GREEN ROUND COMPACT MIRROR  0.906617\n",
       "23074               EMBOSSED HEART TRINKET BOX  0.906333\n",
       "84913B                   MINT GREEN ROSE TOWEL  0.904052\n",
       "84913A                   SOFT PINK ROSE TOWEL   0.902654\n",
       "22687                DOORMAT CHRISTMAS VILLAGE  0.899454\n",
       "21422                     PORCELAIN ROSE SMALL  0.898883\n",
       "21656                  RIDGED GLASS POSY VASE   0.897358\n",
       "84609                TALL ROCOCO CANDLE HOLDER  0.896031\n",
       "23425              STORAGE TIN HOME SWEET HOME  0.894692\n",
       "35967       FOLK ART METAL STAR T-LIGHT HOLDER  0.894663\n",
       "72800C       4 PINK DINNER CANDLE SILVER FLOCK  0.894436\n",
       "21815                    STAR  T-LIGHT HOLDER   0.890535\n",
       "21000                ROSE DU SUD COSMETICS BAG  0.887577\n",
       "20769                           DAISY JOURNAL   0.887017"
      ]
     },
     "execution_count": 44,
     "metadata": {},
     "output_type": "execute_result"
    }
   ],
   "source": [
    "recommend_with_items(item_sim,'23272',20)"
   ]
  },
  {
   "cell_type": "code",
   "execution_count": 1081,
   "id": "7dd345c8",
   "metadata": {},
   "outputs": [],
   "source": [
    "n_cust = len(x_train['CustId'].unique())\n",
    "n_products = len(x_train['New_Product_ID'].unique()) \n"
   ]
  },
  {
   "cell_type": "markdown",
   "id": "819dff8e",
   "metadata": {},
   "source": [
    "#### Create Association Rules for Invoices"
   ]
  },
  {
   "cell_type": "code",
   "execution_count": 25,
   "id": "abd22fd0",
   "metadata": {},
   "outputs": [],
   "source": [
    "#create association rules df\n",
    "association = data_clean.groupby(['InvoiceNo','StockCode'])['Quantity'].count()\n",
    "\n",
    "#making sure that each stock products only appears once per invoice \n",
    "association.loc[:] = 1\n",
    "\n",
    "#unstack df\n",
    "association = association.unstack(level='StockCode').fillna(value=0)"
   ]
  },
  {
   "cell_type": "markdown",
   "id": "2c8d1344",
   "metadata": {},
   "source": [
    "#### Association Rules on Invoices"
   ]
  },
  {
   "cell_type": "code",
   "execution_count": 27,
   "id": "df904bdf",
   "metadata": {
    "scrolled": true
   },
   "outputs": [],
   "source": [
    "frq_items = apriori(association.astype(bool), min_support=0.01 ,use_colnames = True)"
   ]
  },
  {
   "cell_type": "code",
   "execution_count": 28,
   "id": "1ba66452",
   "metadata": {},
   "outputs": [],
   "source": [
    "rules = association_rules(frq_items,metric='lift', \\\n",
    "                          min_threshold = 1, \\\n",
    "                          support_only=False,)\n",
    "rules = rules.sort_values(['confidence', 'lift'], ascending =[False, False])\n"
   ]
  },
  {
   "cell_type": "code",
   "execution_count": 29,
   "id": "ad748442",
   "metadata": {},
   "outputs": [],
   "source": [
    "antecedets = []\n",
    "for i in rules['antecedents']:\n",
    "    temp_ant =  []\n",
    "    for ii in i:\n",
    "        temp_ant.append(ii)\n",
    "    antecedets.append(temp_ant)\n",
    "consequents = []       \n",
    "for i in rules['consequents']:\n",
    "    temp_cons =  []\n",
    "    for ii in i:\n",
    "        temp_cons.append(ii)\n",
    "    consequents.append(temp_cons)\n",
    "\n",
    "    \n",
    "rules_ = pd.DataFrame()\n",
    "rules_['Antecedent'] = antecedets\n",
    "rules_['Consequent'] = consequents\n",
    "rules_['Support'] = rules['support']\n",
    "rules_['Confidence'] = rules['confidence']\n",
    "rules_['Lift'] = rules['lift']\n",
    "rules_['Leverage'] = rules['leverage']\n",
    "\n",
    "#for lift, support, leverage in zip(rules['lift'],rules['support'],rules['leverage']):"
   ]
  },
  {
   "cell_type": "code",
   "execution_count": 47,
   "id": "5ea42ba1",
   "metadata": {},
   "outputs": [],
   "source": [
    "def recommendation_associations (car_number,k):\n",
    "    #set invoice number or cart id in cases where the transaction is still happening \n",
    "    set_invoice = car_number\n",
    "    products = data_clean.loc[data_clean['InvoiceNo']==set_invoice,'StockCode'].unique()\n",
    "    \n",
    "    #create lists to store the stockcode and the score of the relationship\n",
    "    to_recommend = []\n",
    "    scores = []\n",
    "    #iterate throught the products of the invoice \n",
    "    for i in products: \n",
    "        for antecedent ,consequent,score in zip(rules_['Antecedent'].values,rules_['Consequent'].values, rules_['Confidence'].values):\n",
    "            #chech iof the a products matches an antecedent of one of the rules\n",
    "            for antecedent_value in antecedent:\n",
    "                #print(i)\n",
    "                if i == antecedent_value:\n",
    "\n",
    "                    #add the remaining antecedents to the recommendation list\n",
    "                    value =np.array(antecedent)\n",
    "                    \n",
    "                    #add the consequent to the recommendation list\n",
    "                    recommend = [value, consequent]\n",
    "                    \n",
    "                    #eliminate products that are already in the basket from the reommendation list \n",
    "                    for rec in recommend[1]:\n",
    "                        if (rec not in products) & (rec not in to_recommend):\n",
    "                            to_recommend.append(rec)\n",
    "                            scores.append(score)\n",
    "    #get the description of the recommended items \n",
    "    description = []                   \n",
    "    for i in to_recommend:\n",
    "        desc = data_clean.loc[data_clean['StockCode'].isin([i]),'Description'].unique()[0]\n",
    "        description.append(desc)\n",
    "        \n",
    "    #create a df and print the results\n",
    "    assoc_rec = pd.DataFrame() \n",
    "    assoc_rec['StockCode'] = to_recommend\n",
    "    assoc_rec['Description'] = description\n",
    "    assoc_rec['Confidence'] =scores\n",
    "    assoc_rec = assoc_rec.sort_values(by='Confidence',ascending=False)[:k]\n",
    "\n",
    "    print(f'The client with invoice nr {set_invoice} has in the cart:')\n",
    "    counter = 0\n",
    "    for i in products:\n",
    "        counter = counter+1\n",
    "        item = data_clean.loc[data_clean['StockCode'].isin([i]),'Description'].unique()[0]\n",
    "        print(f'{counter} - {item}')\n",
    "\n",
    "    print('')\n",
    "    print('-'*125)\n",
    "    print('')\n",
    "    counter = 0\n",
    "    print(f'Our {len(assoc_rec)} top recommendations are:')\n",
    "    for i in assoc_rec['StockCode']:\n",
    "        counter = counter+1\n",
    "        item = data_clean.loc[data_clean['StockCode'].isin([i]),'Description'].unique()[0]\n",
    "        print(f'{counter} - {item}')\n",
    "        \n",
    "    return(assoc_rec)\n",
    "\n"
   ]
  },
  {
   "cell_type": "code",
   "execution_count": 51,
   "id": "50ac2097",
   "metadata": {},
   "outputs": [
    {
     "name": "stdout",
     "output_type": "stream",
     "text": [
      "The client with invoice nr 536375 has in the cart:\n",
      "1 - WHITE HANGING HEART T-LIGHT HOLDER\n",
      "2 - WHITE METAL LANTERN\n",
      "3 - CREAM CUPID HEARTS COAT HANGER\n",
      "4 - EDWARDIAN PARASOL RED\n",
      "5 - RETRO COFFEE MUGS ASSORTED\n",
      "6 - VINTAGE BILLBOARD LOVE/HATE MUG\n",
      "7 - WOOD S/3 CABINET ANT WHITE FINISH\n",
      "8 - WOODEN PICTURE FRAME WHITE FINISH\n",
      "9 - KNITTED UNION FLAG HOT WATER BOTTLE\n",
      "10 - RED WOOLLY HOTTIE WHITE HEART.\n",
      "11 - SET 7 BABUSHKA NESTING BOXES\n",
      "\n",
      "-----------------------------------------------------------------------------------------------------------------------------\n",
      "\n",
      "Our 10 top recommendations are:\n",
      "1 - JUMBO BAG RED RETROSPOT\n",
      "2 - LUNCH BAG SPACEBOY DESIGN \n",
      "3 - CLOTHES PEGS RETROSPOT PACK 24 \n",
      "4 - SET OF 4 PANTRY JELLY MOULDS\n",
      "5 - POPCORN HOLDER\n",
      "6 - NATURAL SLATE HEART CHALKBOARD \n",
      "7 - REGENCY CAKESTAND 3 TIER\n",
      "8 - BATHROOM METAL SIGN\n",
      "9 - JAM MAKING SET PRINTED\n",
      "10 - LUNCH BAG CARS BLUE\n"
     ]
    },
    {
     "data": {
      "text/html": [
       "<div>\n",
       "<style scoped>\n",
       "    .dataframe tbody tr th:only-of-type {\n",
       "        vertical-align: middle;\n",
       "    }\n",
       "\n",
       "    .dataframe tbody tr th {\n",
       "        vertical-align: top;\n",
       "    }\n",
       "\n",
       "    .dataframe thead th {\n",
       "        text-align: right;\n",
       "    }\n",
       "</style>\n",
       "<table border=\"1\" class=\"dataframe\">\n",
       "  <thead>\n",
       "    <tr style=\"text-align: right;\">\n",
       "      <th></th>\n",
       "      <th>StockCode</th>\n",
       "      <th>Description</th>\n",
       "      <th>Confidence</th>\n",
       "    </tr>\n",
       "  </thead>\n",
       "  <tbody>\n",
       "    <tr>\n",
       "      <th>2</th>\n",
       "      <td>85099B</td>\n",
       "      <td>JUMBO BAG RED RETROSPOT</td>\n",
       "      <td>0.943396</td>\n",
       "    </tr>\n",
       "    <tr>\n",
       "      <th>22</th>\n",
       "      <td>22382</td>\n",
       "      <td>LUNCH BAG SPACEBOY DESIGN</td>\n",
       "      <td>0.776632</td>\n",
       "    </tr>\n",
       "    <tr>\n",
       "      <th>23</th>\n",
       "      <td>22558</td>\n",
       "      <td>CLOTHES PEGS RETROSPOT PACK 24</td>\n",
       "      <td>0.753333</td>\n",
       "    </tr>\n",
       "    <tr>\n",
       "      <th>13</th>\n",
       "      <td>22993</td>\n",
       "      <td>SET OF 4 PANTRY JELLY MOULDS</td>\n",
       "      <td>0.726950</td>\n",
       "    </tr>\n",
       "    <tr>\n",
       "      <th>7</th>\n",
       "      <td>22197</td>\n",
       "      <td>POPCORN HOLDER</td>\n",
       "      <td>0.712871</td>\n",
       "    </tr>\n",
       "    <tr>\n",
       "      <th>1</th>\n",
       "      <td>22457</td>\n",
       "      <td>NATURAL SLATE HEART CHALKBOARD</td>\n",
       "      <td>0.708633</td>\n",
       "    </tr>\n",
       "    <tr>\n",
       "      <th>6</th>\n",
       "      <td>22423</td>\n",
       "      <td>REGENCY CAKESTAND 3 TIER</td>\n",
       "      <td>0.659933</td>\n",
       "    </tr>\n",
       "    <tr>\n",
       "      <th>28</th>\n",
       "      <td>82580</td>\n",
       "      <td>BATHROOM METAL SIGN</td>\n",
       "      <td>0.649425</td>\n",
       "    </tr>\n",
       "    <tr>\n",
       "      <th>11</th>\n",
       "      <td>22961</td>\n",
       "      <td>JAM MAKING SET PRINTED</td>\n",
       "      <td>0.605405</td>\n",
       "    </tr>\n",
       "    <tr>\n",
       "      <th>25</th>\n",
       "      <td>20728</td>\n",
       "      <td>LUNCH BAG CARS BLUE</td>\n",
       "      <td>0.604278</td>\n",
       "    </tr>\n",
       "  </tbody>\n",
       "</table>\n",
       "</div>"
      ],
      "text/plain": [
       "   StockCode                      Description  Confidence\n",
       "2     85099B          JUMBO BAG RED RETROSPOT    0.943396\n",
       "22     22382       LUNCH BAG SPACEBOY DESIGN     0.776632\n",
       "23     22558  CLOTHES PEGS RETROSPOT PACK 24     0.753333\n",
       "13     22993     SET OF 4 PANTRY JELLY MOULDS    0.726950\n",
       "7      22197                   POPCORN HOLDER    0.712871\n",
       "1      22457  NATURAL SLATE HEART CHALKBOARD     0.708633\n",
       "6      22423         REGENCY CAKESTAND 3 TIER    0.659933\n",
       "28     82580              BATHROOM METAL SIGN    0.649425\n",
       "11     22961           JAM MAKING SET PRINTED    0.605405\n",
       "25     20728              LUNCH BAG CARS BLUE    0.604278"
      ]
     },
     "execution_count": 51,
     "metadata": {},
     "output_type": "execute_result"
    }
   ],
   "source": [
    "recommendation_associations('536375',10)"
   ]
  }
 ],
 "metadata": {
  "kernelspec": {
   "display_name": "Python 3 (ipykernel)",
   "language": "python",
   "name": "python3"
  },
  "language_info": {
   "codemirror_mode": {
    "name": "ipython",
    "version": 3
   },
   "file_extension": ".py",
   "mimetype": "text/x-python",
   "name": "python",
   "nbconvert_exporter": "python",
   "pygments_lexer": "ipython3",
   "version": "3.8.11"
  }
 },
 "nbformat": 4,
 "nbformat_minor": 5
}
