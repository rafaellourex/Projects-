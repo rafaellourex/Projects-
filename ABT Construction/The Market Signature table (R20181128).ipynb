{
 "cells": [
  {
   "cell_type": "markdown",
   "id": "2f62ef68",
   "metadata": {},
   "source": [
    "### Importing Libraries"
   ]
  },
  {
   "cell_type": "code",
   "execution_count": 1,
   "id": "d4d93851",
   "metadata": {},
   "outputs": [],
   "source": [
    "import numpy as np\n",
    "import pandas as pd \n",
    "import matplotlib.pyplot as plt\n",
    "import seaborn as sns\n",
    "from datetime import date\n",
    "import warnings\n",
    "warnings.filterwarnings(\"ignore\")"
   ]
  },
  {
   "cell_type": "markdown",
   "id": "43a7ee62",
   "metadata": {},
   "source": [
    "### Importing Data"
   ]
  },
  {
   "cell_type": "code",
   "execution_count": 2,
   "id": "6bfa67ee",
   "metadata": {},
   "outputs": [
    {
     "data": {
      "text/html": [
       "<div>\n",
       "<style scoped>\n",
       "    .dataframe tbody tr th:only-of-type {\n",
       "        vertical-align: middle;\n",
       "    }\n",
       "\n",
       "    .dataframe tbody tr th {\n",
       "        vertical-align: top;\n",
       "    }\n",
       "\n",
       "    .dataframe thead th {\n",
       "        text-align: right;\n",
       "    }\n",
       "</style>\n",
       "<table border=\"1\" class=\"dataframe\">\n",
       "  <thead>\n",
       "    <tr style=\"text-align: right;\">\n",
       "      <th></th>\n",
       "      <th>cust_id</th>\n",
       "      <th>tran_date</th>\n",
       "      <th>DOB</th>\n",
       "      <th>Kidhome</th>\n",
       "      <th>Nationality</th>\n",
       "      <th>Gender</th>\n",
       "      <th>Address</th>\n",
       "      <th>Channel</th>\n",
       "      <th>Type_payment</th>\n",
       "      <th>Product line</th>\n",
       "      <th>Unit price</th>\n",
       "      <th>Quantity</th>\n",
       "      <th>Tax</th>\n",
       "      <th>Total_amt</th>\n",
       "      <th>cogs</th>\n",
       "      <th>Rating</th>\n",
       "    </tr>\n",
       "    <tr>\n",
       "      <th>transaction_id</th>\n",
       "      <th></th>\n",
       "      <th></th>\n",
       "      <th></th>\n",
       "      <th></th>\n",
       "      <th></th>\n",
       "      <th></th>\n",
       "      <th></th>\n",
       "      <th></th>\n",
       "      <th></th>\n",
       "      <th></th>\n",
       "      <th></th>\n",
       "      <th></th>\n",
       "      <th></th>\n",
       "      <th></th>\n",
       "      <th></th>\n",
       "      <th></th>\n",
       "    </tr>\n",
       "  </thead>\n",
       "  <tbody>\n",
       "    <tr>\n",
       "      <th>17155024961</th>\n",
       "      <td>266783</td>\n",
       "      <td>2019-01-09</td>\n",
       "      <td>2979-04-05 00:00:00</td>\n",
       "      <td>0.0</td>\n",
       "      <td>NaN</td>\n",
       "      <td>M</td>\n",
       "      <td>Faro</td>\n",
       "      <td>Online</td>\n",
       "      <td>MBWay</td>\n",
       "      <td>Fashion accessories</td>\n",
       "      <td>18.08</td>\n",
       "      <td>4</td>\n",
       "      <td>3.616</td>\n",
       "      <td>75.936</td>\n",
       "      <td>72.32</td>\n",
       "      <td>9.5</td>\n",
       "    </tr>\n",
       "    <tr>\n",
       "      <th>8565789170</th>\n",
       "      <td>266783</td>\n",
       "      <td>2019-01-20</td>\n",
       "      <td>2979-04-05 00:00:00</td>\n",
       "      <td>1.0</td>\n",
       "      <td>NaN</td>\n",
       "      <td>M</td>\n",
       "      <td>Faro</td>\n",
       "      <td>Online</td>\n",
       "      <td>MBWay</td>\n",
       "      <td>Health and beauty</td>\n",
       "      <td>14.62</td>\n",
       "      <td>5</td>\n",
       "      <td>3.655</td>\n",
       "      <td>76.755</td>\n",
       "      <td>73.10</td>\n",
       "      <td>4.4</td>\n",
       "    </tr>\n",
       "    <tr>\n",
       "      <th>8565789170</th>\n",
       "      <td>266783</td>\n",
       "      <td>2019-01-20</td>\n",
       "      <td>2979-04-05 00:00:00</td>\n",
       "      <td>1.0</td>\n",
       "      <td>NaN</td>\n",
       "      <td>M</td>\n",
       "      <td>Faro</td>\n",
       "      <td>Online</td>\n",
       "      <td>MBWay</td>\n",
       "      <td>Electronic accessories</td>\n",
       "      <td>73.26</td>\n",
       "      <td>1</td>\n",
       "      <td>3.663</td>\n",
       "      <td>76.923</td>\n",
       "      <td>73.26</td>\n",
       "      <td>9.7</td>\n",
       "    </tr>\n",
       "    <tr>\n",
       "      <th>8565789170</th>\n",
       "      <td>266783</td>\n",
       "      <td>2019-01-20</td>\n",
       "      <td>2979-04-05 00:00:00</td>\n",
       "      <td>1.0</td>\n",
       "      <td>NaN</td>\n",
       "      <td>M</td>\n",
       "      <td>Faro</td>\n",
       "      <td>Online</td>\n",
       "      <td>MBWay</td>\n",
       "      <td>Sports and travel</td>\n",
       "      <td>14.70</td>\n",
       "      <td>5</td>\n",
       "      <td>3.675</td>\n",
       "      <td>77.175</td>\n",
       "      <td>73.50</td>\n",
       "      <td>8.5</td>\n",
       "    </tr>\n",
       "    <tr>\n",
       "      <th>8565789170</th>\n",
       "      <td>266783</td>\n",
       "      <td>2019-01-20</td>\n",
       "      <td>2979-04-05 00:00:00</td>\n",
       "      <td>1.0</td>\n",
       "      <td>NaN</td>\n",
       "      <td>M</td>\n",
       "      <td>Faro</td>\n",
       "      <td>Online</td>\n",
       "      <td>MBWay</td>\n",
       "      <td>Fashion accessories</td>\n",
       "      <td>73.96</td>\n",
       "      <td>1</td>\n",
       "      <td>3.698</td>\n",
       "      <td>77.658</td>\n",
       "      <td>73.96</td>\n",
       "      <td>5.0</td>\n",
       "    </tr>\n",
       "    <tr>\n",
       "      <th>...</th>\n",
       "      <td>...</td>\n",
       "      <td>...</td>\n",
       "      <td>...</td>\n",
       "      <td>...</td>\n",
       "      <td>...</td>\n",
       "      <td>...</td>\n",
       "      <td>...</td>\n",
       "      <td>...</td>\n",
       "      <td>...</td>\n",
       "      <td>...</td>\n",
       "      <td>...</td>\n",
       "      <td>...</td>\n",
       "      <td>...</td>\n",
       "      <td>...</td>\n",
       "      <td>...</td>\n",
       "      <td>...</td>\n",
       "    </tr>\n",
       "    <tr>\n",
       "      <th>29201449542</th>\n",
       "      <td>275252</td>\n",
       "      <td>2019-04-24</td>\n",
       "      <td>1982-02-11 00:00:00</td>\n",
       "      <td>1.0</td>\n",
       "      <td>NaN</td>\n",
       "      <td>M</td>\n",
       "      <td>Lisbon</td>\n",
       "      <td>Store</td>\n",
       "      <td>Credit Card</td>\n",
       "      <td>Sports and travel</td>\n",
       "      <td>97.48</td>\n",
       "      <td>9</td>\n",
       "      <td>43.866</td>\n",
       "      <td>921.186</td>\n",
       "      <td>877.32</td>\n",
       "      <td>7.4</td>\n",
       "    </tr>\n",
       "    <tr>\n",
       "      <th>65574855452</th>\n",
       "      <td>275252</td>\n",
       "      <td>2019-11-23</td>\n",
       "      <td>1982-02-11 00:00:00</td>\n",
       "      <td>1.0</td>\n",
       "      <td>NaN</td>\n",
       "      <td>M</td>\n",
       "      <td>Lisbon</td>\n",
       "      <td>Catalog</td>\n",
       "      <td>MBWay</td>\n",
       "      <td>Sports and travel</td>\n",
       "      <td>97.48</td>\n",
       "      <td>9</td>\n",
       "      <td>43.866</td>\n",
       "      <td>921.186</td>\n",
       "      <td>877.32</td>\n",
       "      <td>7.4</td>\n",
       "    </tr>\n",
       "    <tr>\n",
       "      <th>65574855452</th>\n",
       "      <td>275252</td>\n",
       "      <td>2019-11-23</td>\n",
       "      <td>1982-02-11 00:00:00</td>\n",
       "      <td>1.0</td>\n",
       "      <td>NaN</td>\n",
       "      <td>M</td>\n",
       "      <td>Lisbon</td>\n",
       "      <td>Catalog</td>\n",
       "      <td>MBWay</td>\n",
       "      <td>Sports and travel</td>\n",
       "      <td>97.48</td>\n",
       "      <td>9</td>\n",
       "      <td>43.866</td>\n",
       "      <td>921.186</td>\n",
       "      <td>877.32</td>\n",
       "      <td>NaN</td>\n",
       "    </tr>\n",
       "    <tr>\n",
       "      <th>84784155619</th>\n",
       "      <td>275252</td>\n",
       "      <td>2019-07-07</td>\n",
       "      <td>1982-02-11 00:00:00</td>\n",
       "      <td>1.0</td>\n",
       "      <td>NaN</td>\n",
       "      <td>M</td>\n",
       "      <td>Lisbon</td>\n",
       "      <td>Catalog</td>\n",
       "      <td>MBWay</td>\n",
       "      <td>Sports and travel</td>\n",
       "      <td>97.48</td>\n",
       "      <td>9</td>\n",
       "      <td>43.866</td>\n",
       "      <td>921.186</td>\n",
       "      <td>877.32</td>\n",
       "      <td>7.4</td>\n",
       "    </tr>\n",
       "    <tr>\n",
       "      <th>29201449542</th>\n",
       "      <td>275252</td>\n",
       "      <td>2019-04-24</td>\n",
       "      <td>1982-02-11 00:00:00</td>\n",
       "      <td>1.0</td>\n",
       "      <td>NaN</td>\n",
       "      <td>M</td>\n",
       "      <td>Lisbon</td>\n",
       "      <td>Store</td>\n",
       "      <td>Credit Card</td>\n",
       "      <td>Sports and travel</td>\n",
       "      <td>97.48</td>\n",
       "      <td>9</td>\n",
       "      <td>43.866</td>\n",
       "      <td>921.186</td>\n",
       "      <td>877.32</td>\n",
       "      <td>7.4</td>\n",
       "    </tr>\n",
       "  </tbody>\n",
       "</table>\n",
       "<p>5000 rows × 16 columns</p>\n",
       "</div>"
      ],
      "text/plain": [
       "                cust_id  tran_date                  DOB  Kidhome Nationality  \\\n",
       "transaction_id                                                                 \n",
       "17155024961      266783 2019-01-09  2979-04-05 00:00:00      0.0         NaN   \n",
       "8565789170       266783 2019-01-20  2979-04-05 00:00:00      1.0         NaN   \n",
       "8565789170       266783 2019-01-20  2979-04-05 00:00:00      1.0         NaN   \n",
       "8565789170       266783 2019-01-20  2979-04-05 00:00:00      1.0         NaN   \n",
       "8565789170       266783 2019-01-20  2979-04-05 00:00:00      1.0         NaN   \n",
       "...                 ...        ...                  ...      ...         ...   \n",
       "29201449542      275252 2019-04-24  1982-02-11 00:00:00      1.0         NaN   \n",
       "65574855452      275252 2019-11-23  1982-02-11 00:00:00      1.0         NaN   \n",
       "65574855452      275252 2019-11-23  1982-02-11 00:00:00      1.0         NaN   \n",
       "84784155619      275252 2019-07-07  1982-02-11 00:00:00      1.0         NaN   \n",
       "29201449542      275252 2019-04-24  1982-02-11 00:00:00      1.0         NaN   \n",
       "\n",
       "               Gender Address  Channel Type_payment            Product line  \\\n",
       "transaction_id                                                                \n",
       "17155024961         M    Faro   Online        MBWay     Fashion accessories   \n",
       "8565789170          M    Faro   Online        MBWay       Health and beauty   \n",
       "8565789170          M    Faro   Online        MBWay  Electronic accessories   \n",
       "8565789170          M    Faro   Online        MBWay       Sports and travel   \n",
       "8565789170          M    Faro   Online        MBWay     Fashion accessories   \n",
       "...               ...     ...      ...          ...                     ...   \n",
       "29201449542         M  Lisbon    Store  Credit Card       Sports and travel   \n",
       "65574855452         M  Lisbon  Catalog        MBWay       Sports and travel   \n",
       "65574855452         M  Lisbon  Catalog        MBWay       Sports and travel   \n",
       "84784155619         M  Lisbon  Catalog        MBWay       Sports and travel   \n",
       "29201449542         M  Lisbon    Store  Credit Card       Sports and travel   \n",
       "\n",
       "                Unit price  Quantity     Tax  Total_amt    cogs  Rating  \n",
       "transaction_id                                                           \n",
       "17155024961          18.08         4   3.616     75.936   72.32     9.5  \n",
       "8565789170           14.62         5   3.655     76.755   73.10     4.4  \n",
       "8565789170           73.26         1   3.663     76.923   73.26     9.7  \n",
       "8565789170           14.70         5   3.675     77.175   73.50     8.5  \n",
       "8565789170           73.96         1   3.698     77.658   73.96     5.0  \n",
       "...                    ...       ...     ...        ...     ...     ...  \n",
       "29201449542          97.48         9  43.866    921.186  877.32     7.4  \n",
       "65574855452          97.48         9  43.866    921.186  877.32     7.4  \n",
       "65574855452          97.48         9  43.866    921.186  877.32     NaN  \n",
       "84784155619          97.48         9  43.866    921.186  877.32     7.4  \n",
       "29201449542          97.48         9  43.866    921.186  877.32     7.4  \n",
       "\n",
       "[5000 rows x 16 columns]"
      ]
     },
     "execution_count": 2,
     "metadata": {},
     "output_type": "execute_result"
    }
   ],
   "source": [
    "trans_data = pd.read_excel(r'dados proj.xlsx')\n",
    "trans_data.set_index('transaction_id',inplace=True)\n",
    "trans_data.sort_values('cust_id')"
   ]
  },
  {
   "cell_type": "code",
   "execution_count": 3,
   "id": "adb61ec1",
   "metadata": {},
   "outputs": [
    {
     "name": "stdout",
     "output_type": "stream",
     "text": [
      "<class 'pandas.core.frame.DataFrame'>\n",
      "Int64Index: 5000 entries, 99532532450 to 627826147\n",
      "Data columns (total 16 columns):\n",
      " #   Column        Non-Null Count  Dtype         \n",
      "---  ------        --------------  -----         \n",
      " 0   cust_id       5000 non-null   int64         \n",
      " 1   tran_date     5000 non-null   datetime64[ns]\n",
      " 2   DOB           5000 non-null   object        \n",
      " 3   Kidhome       4984 non-null   float64       \n",
      " 4   Nationality   174 non-null    object        \n",
      " 5   Gender        5000 non-null   object        \n",
      " 6   Address       5000 non-null   object        \n",
      " 7   Channel       5000 non-null   object        \n",
      " 8   Type_payment  5000 non-null   object        \n",
      " 9   Product line  5000 non-null   object        \n",
      " 10  Unit price    5000 non-null   float64       \n",
      " 11  Quantity      5000 non-null   int64         \n",
      " 12  Tax           5000 non-null   float64       \n",
      " 13  Total_amt     4981 non-null   float64       \n",
      " 14  cogs          5000 non-null   float64       \n",
      " 15  Rating        4968 non-null   float64       \n",
      "dtypes: datetime64[ns](1), float64(6), int64(2), object(7)\n",
      "memory usage: 664.1+ KB\n"
     ]
    }
   ],
   "source": [
    "trans_data.info()"
   ]
  },
  {
   "cell_type": "markdown",
   "id": "4f9fdbcc",
   "metadata": {},
   "source": [
    "### Transaction Table: Descriptive Statistics"
   ]
  },
  {
   "cell_type": "markdown",
   "id": "f3677cb0",
   "metadata": {},
   "source": [
    "By looking at the descriptive statistics table its possible to see that in general the data looks goods, however we have some problems in a few variables (cogs and rating) since they present incoherent values. Cogs has a minimum value of -99 which is impossible since cogs has to be greater than 0 and Ratings have values greater than 10 which is also impossible since the maximum rating is 10."
   ]
  },
  {
   "cell_type": "code",
   "execution_count": 4,
   "id": "6e89ad21",
   "metadata": {},
   "outputs": [
    {
     "data": {
      "text/html": [
       "<div>\n",
       "<style scoped>\n",
       "    .dataframe tbody tr th:only-of-type {\n",
       "        vertical-align: middle;\n",
       "    }\n",
       "\n",
       "    .dataframe tbody tr th {\n",
       "        vertical-align: top;\n",
       "    }\n",
       "\n",
       "    .dataframe thead th {\n",
       "        text-align: right;\n",
       "    }\n",
       "</style>\n",
       "<table border=\"1\" class=\"dataframe\">\n",
       "  <thead>\n",
       "    <tr style=\"text-align: right;\">\n",
       "      <th></th>\n",
       "      <th>count</th>\n",
       "      <th>mean</th>\n",
       "      <th>std</th>\n",
       "      <th>min</th>\n",
       "      <th>25%</th>\n",
       "      <th>50%</th>\n",
       "      <th>75%</th>\n",
       "      <th>max</th>\n",
       "    </tr>\n",
       "  </thead>\n",
       "  <tbody>\n",
       "    <tr>\n",
       "      <th>cust_id</th>\n",
       "      <td>5000.0</td>\n",
       "      <td>271001.232400</td>\n",
       "      <td>2409.033580</td>\n",
       "      <td>266783.0000</td>\n",
       "      <td>268895.0000</td>\n",
       "      <td>271045.0000</td>\n",
       "      <td>273094.0000</td>\n",
       "      <td>275252.00</td>\n",
       "    </tr>\n",
       "    <tr>\n",
       "      <th>Kidhome</th>\n",
       "      <td>4984.0</td>\n",
       "      <td>0.721308</td>\n",
       "      <td>0.448401</td>\n",
       "      <td>0.0000</td>\n",
       "      <td>0.0000</td>\n",
       "      <td>1.0000</td>\n",
       "      <td>1.0000</td>\n",
       "      <td>1.00</td>\n",
       "    </tr>\n",
       "    <tr>\n",
       "      <th>Unit price</th>\n",
       "      <td>5000.0</td>\n",
       "      <td>69.963190</td>\n",
       "      <td>30.334670</td>\n",
       "      <td>10.1700</td>\n",
       "      <td>43.1900</td>\n",
       "      <td>83.2950</td>\n",
       "      <td>96.1225</td>\n",
       "      <td>99.96</td>\n",
       "    </tr>\n",
       "    <tr>\n",
       "      <th>Quantity</th>\n",
       "      <td>5000.0</td>\n",
       "      <td>5.892600</td>\n",
       "      <td>3.004475</td>\n",
       "      <td>1.0000</td>\n",
       "      <td>3.0000</td>\n",
       "      <td>6.0000</td>\n",
       "      <td>9.0000</td>\n",
       "      <td>10.00</td>\n",
       "    </tr>\n",
       "    <tr>\n",
       "      <th>Tax</th>\n",
       "      <td>5000.0</td>\n",
       "      <td>20.984337</td>\n",
       "      <td>14.880718</td>\n",
       "      <td>0.5085</td>\n",
       "      <td>7.4065</td>\n",
       "      <td>16.0720</td>\n",
       "      <td>34.8700</td>\n",
       "      <td>49.65</td>\n",
       "    </tr>\n",
       "    <tr>\n",
       "      <th>Total_amt</th>\n",
       "      <td>4981.0</td>\n",
       "      <td>441.158714</td>\n",
       "      <td>312.445226</td>\n",
       "      <td>10.6785</td>\n",
       "      <td>156.0300</td>\n",
       "      <td>338.2155</td>\n",
       "      <td>733.6035</td>\n",
       "      <td>1042.65</td>\n",
       "    </tr>\n",
       "    <tr>\n",
       "      <th>cogs</th>\n",
       "      <td>5000.0</td>\n",
       "      <td>418.101940</td>\n",
       "      <td>298.380537</td>\n",
       "      <td>-99.0000</td>\n",
       "      <td>145.5000</td>\n",
       "      <td>320.2150</td>\n",
       "      <td>696.8500</td>\n",
       "      <td>993.00</td>\n",
       "    </tr>\n",
       "    <tr>\n",
       "      <th>Rating</th>\n",
       "      <td>4968.0</td>\n",
       "      <td>15.394082</td>\n",
       "      <td>284.165457</td>\n",
       "      <td>4.0000</td>\n",
       "      <td>5.5000</td>\n",
       "      <td>6.8000</td>\n",
       "      <td>8.3000</td>\n",
       "      <td>10000.00</td>\n",
       "    </tr>\n",
       "  </tbody>\n",
       "</table>\n",
       "</div>"
      ],
      "text/plain": [
       "             count           mean          std          min          25%  \\\n",
       "cust_id     5000.0  271001.232400  2409.033580  266783.0000  268895.0000   \n",
       "Kidhome     4984.0       0.721308     0.448401       0.0000       0.0000   \n",
       "Unit price  5000.0      69.963190    30.334670      10.1700      43.1900   \n",
       "Quantity    5000.0       5.892600     3.004475       1.0000       3.0000   \n",
       "Tax         5000.0      20.984337    14.880718       0.5085       7.4065   \n",
       "Total_amt   4981.0     441.158714   312.445226      10.6785     156.0300   \n",
       "cogs        5000.0     418.101940   298.380537     -99.0000     145.5000   \n",
       "Rating      4968.0      15.394082   284.165457       4.0000       5.5000   \n",
       "\n",
       "                    50%          75%        max  \n",
       "cust_id     271045.0000  273094.0000  275252.00  \n",
       "Kidhome          1.0000       1.0000       1.00  \n",
       "Unit price      83.2950      96.1225      99.96  \n",
       "Quantity         6.0000       9.0000      10.00  \n",
       "Tax             16.0720      34.8700      49.65  \n",
       "Total_amt      338.2155     733.6035    1042.65  \n",
       "cogs           320.2150     696.8500     993.00  \n",
       "Rating           6.8000       8.3000   10000.00  "
      ]
     },
     "execution_count": 4,
     "metadata": {},
     "output_type": "execute_result"
    }
   ],
   "source": [
    "trans_data.describe().T"
   ]
  },
  {
   "cell_type": "code",
   "execution_count": 5,
   "id": "44d9bc5f",
   "metadata": {},
   "outputs": [
    {
     "data": {
      "text/html": [
       "<div>\n",
       "<style scoped>\n",
       "    .dataframe tbody tr th:only-of-type {\n",
       "        vertical-align: middle;\n",
       "    }\n",
       "\n",
       "    .dataframe tbody tr th {\n",
       "        vertical-align: top;\n",
       "    }\n",
       "\n",
       "    .dataframe thead th {\n",
       "        text-align: right;\n",
       "    }\n",
       "</style>\n",
       "<table border=\"1\" class=\"dataframe\">\n",
       "  <thead>\n",
       "    <tr style=\"text-align: right;\">\n",
       "      <th></th>\n",
       "      <th>count</th>\n",
       "      <th>unique</th>\n",
       "      <th>top</th>\n",
       "      <th>freq</th>\n",
       "    </tr>\n",
       "  </thead>\n",
       "  <tbody>\n",
       "    <tr>\n",
       "      <th>DOB</th>\n",
       "      <td>5000</td>\n",
       "      <td>758</td>\n",
       "      <td>1997-03-31 00:00:00</td>\n",
       "      <td>26</td>\n",
       "    </tr>\n",
       "    <tr>\n",
       "      <th>Nationality</th>\n",
       "      <td>174</td>\n",
       "      <td>4</td>\n",
       "      <td>PT</td>\n",
       "      <td>153</td>\n",
       "    </tr>\n",
       "    <tr>\n",
       "      <th>Gender</th>\n",
       "      <td>5000</td>\n",
       "      <td>2</td>\n",
       "      <td>M</td>\n",
       "      <td>2761</td>\n",
       "    </tr>\n",
       "    <tr>\n",
       "      <th>Address</th>\n",
       "      <td>5000</td>\n",
       "      <td>5</td>\n",
       "      <td>Lisbon</td>\n",
       "      <td>3028</td>\n",
       "    </tr>\n",
       "    <tr>\n",
       "      <th>Channel</th>\n",
       "      <td>5000</td>\n",
       "      <td>3</td>\n",
       "      <td>Online</td>\n",
       "      <td>3339</td>\n",
       "    </tr>\n",
       "    <tr>\n",
       "      <th>Type_payment</th>\n",
       "      <td>5000</td>\n",
       "      <td>4</td>\n",
       "      <td>MBWay</td>\n",
       "      <td>3808</td>\n",
       "    </tr>\n",
       "    <tr>\n",
       "      <th>Product line</th>\n",
       "      <td>5000</td>\n",
       "      <td>6</td>\n",
       "      <td>Sports and travel</td>\n",
       "      <td>890</td>\n",
       "    </tr>\n",
       "  </tbody>\n",
       "</table>\n",
       "</div>"
      ],
      "text/plain": [
       "             count unique                  top  freq\n",
       "DOB           5000    758  1997-03-31 00:00:00    26\n",
       "Nationality    174      4                   PT   153\n",
       "Gender        5000      2                    M  2761\n",
       "Address       5000      5               Lisbon  3028\n",
       "Channel       5000      3               Online  3339\n",
       "Type_payment  5000      4                MBWay  3808\n",
       "Product line  5000      6    Sports and travel   890"
      ]
     },
     "execution_count": 5,
     "metadata": {},
     "output_type": "execute_result"
    }
   ],
   "source": [
    "trans_data.describe(include=np.object0).T"
   ]
  },
  {
   "cell_type": "code",
   "execution_count": 6,
   "id": "a7705035",
   "metadata": {},
   "outputs": [
    {
     "data": {
      "text/plain": [
       "cust_id            0\n",
       "tran_date          0\n",
       "DOB                0\n",
       "Kidhome           16\n",
       "Nationality     4826\n",
       "Gender             0\n",
       "Address            0\n",
       "Channel            0\n",
       "Type_payment       0\n",
       "Product line       0\n",
       "Unit price         0\n",
       "Quantity           0\n",
       "Tax                0\n",
       "Total_amt         19\n",
       "cogs               0\n",
       "Rating            32\n",
       "dtype: int64"
      ]
     },
     "execution_count": 6,
     "metadata": {},
     "output_type": "execute_result"
    }
   ],
   "source": [
    "trans_data.isnull().sum()"
   ]
  },
  {
   "cell_type": "markdown",
   "id": "4a7e6202",
   "metadata": {},
   "source": [
    "- Calculating the number of customers in the transaction table"
   ]
  },
  {
   "cell_type": "code",
   "execution_count": 7,
   "id": "4e150263",
   "metadata": {},
   "outputs": [
    {
     "name": "stdout",
     "output_type": "stream",
     "text": [
      "There are 801 customers in the transaction table\n"
     ]
    }
   ],
   "source": [
    "cust_len = len(set(trans_data.loc[:,'cust_id']))\n",
    "print(f'There are {cust_len} customers in the transaction table')"
   ]
  },
  {
   "cell_type": "markdown",
   "id": "9548a818",
   "metadata": {},
   "source": [
    "General information about the data"
   ]
  },
  {
   "cell_type": "markdown",
   "id": "cce6aebe",
   "metadata": {},
   "source": [
    "### Treating Outliers"
   ]
  },
  {
   "cell_type": "code",
   "execution_count": 8,
   "id": "06e2d3c4",
   "metadata": {},
   "outputs": [
    {
     "data": {
      "image/png": "[encoded data removed]",
      "text/plain": [
       "<Figure size 1440x792 with 8 Axes>"
      ]
     },
     "metadata": {},
     "output_type": "display_data"
    }
   ],
   "source": [
    "def boxplot (data):\n",
    "    from math import ceil\n",
    "\n",
    "    metric_features = data.select_dtypes(include=np.number).set_index(data.index).columns\n",
    "    sns.set()\n",
    "  \n",
    "    fig, axes = plt.subplots(2, ceil(len(metric_features) / 2), figsize=(20, 11))\n",
    "\n",
    "    for ax, feat in zip(axes.flatten(), metric_features): \n",
    "\n",
    "        sns.boxplot(data[feat], ax = ax)\n",
    "        #plt.title(feat)\n",
    "\n",
    "\n",
    "    title = \"Numeric Variables' BoxPlots\"\n",
    "\n",
    "    plt.suptitle(title)\n",
    "\n",
    "    plt.show()\n",
    "boxplot(trans_data)\n",
    "#outliers in ratings\n"
   ]
  },
  {
   "cell_type": "code",
   "execution_count": 9,
   "id": "e14a856a",
   "metadata": {},
   "outputs": [
    {
     "name": "stdout",
     "output_type": "stream",
     "text": [
      "7 outliers were removed\n",
      "The dataset currently has 4993 observations\n"
     ]
    },
    {
     "data": {
      "image/png": "[encoded data removed]",
      "text/plain": [
       "<Figure size 1440x792 with 8 Axes>"
      ]
     },
     "metadata": {},
     "output_type": "display_data"
    }
   ],
   "source": [
    "init_len = len(trans_data)\n",
    "trans_data = trans_data.loc[(trans_data['Rating']<=10) & (trans_data['Rating']>=0) | \n",
    "                            (trans_data['Rating'].index.isin(trans_data.loc[trans_data['Rating'].isnull()].index))]\n",
    "#the goal is to keep the missing values\n",
    "print(f'{init_len-len(trans_data)} outliers were removed')\n",
    "print(f'The dataset currently has {trans_data.shape[0]} observations')\n",
    "boxplot(trans_data)"
   ]
  },
  {
   "cell_type": "markdown",
   "id": "dd4188e4",
   "metadata": {},
   "source": [
    "### Treating missing values"
   ]
  },
  {
   "cell_type": "code",
   "execution_count": 10,
   "id": "89eff1bd",
   "metadata": {},
   "outputs": [
    {
     "data": {
      "text/plain": [
       "cust_id            0\n",
       "tran_date          0\n",
       "DOB                0\n",
       "Kidhome           16\n",
       "Nationality     4819\n",
       "Gender             0\n",
       "Address            0\n",
       "Channel            0\n",
       "Type_payment       0\n",
       "Product line       0\n",
       "Unit price         0\n",
       "Quantity           0\n",
       "Tax                0\n",
       "Total_amt         19\n",
       "cogs               0\n",
       "Rating            32\n",
       "dtype: int64"
      ]
     },
     "execution_count": 10,
     "metadata": {},
     "output_type": "execute_result"
    }
   ],
   "source": [
    "trans_data.isnull().sum()"
   ]
  },
  {
   "cell_type": "code",
   "execution_count": 11,
   "id": "91b3ac6b",
   "metadata": {},
   "outputs": [
    {
     "data": {
      "text/plain": [
       "1.0    3590\n",
       "0.0    1387\n",
       "Name: Kidhome, dtype: int64"
      ]
     },
     "execution_count": 11,
     "metadata": {},
     "output_type": "execute_result"
    }
   ],
   "source": [
    "trans_data['Kidhome'].value_counts() #fill missing values with the mode"
   ]
  },
  {
   "cell_type": "code",
   "execution_count": 12,
   "id": "f926d297",
   "metadata": {},
   "outputs": [],
   "source": [
    "trans_data['Total_amt'] = trans_data['cogs'] + trans_data['Tax']\n",
    "trans_data['Kidhome'] = trans_data['Kidhome'].fillna(value= trans_data['Kidhome'].mode()[0])\n",
    "metric_features = list(trans_data.select_dtypes(include=np.number).set_index(trans_data.index).columns)\n",
    "cat_features = list(trans_data.select_dtypes(exclude=np.number).set_index(trans_data.index).columns)"
   ]
  },
  {
   "cell_type": "code",
   "execution_count": 13,
   "id": "7c406cc4",
   "metadata": {},
   "outputs": [
    {
     "data": {
      "text/plain": [
       "cust_id            0\n",
       "tran_date          0\n",
       "DOB                0\n",
       "Kidhome            0\n",
       "Nationality     4819\n",
       "Gender             0\n",
       "Address            0\n",
       "Channel            0\n",
       "Type_payment       0\n",
       "Product line       0\n",
       "Unit price         0\n",
       "Quantity           0\n",
       "Tax                0\n",
       "Total_amt          0\n",
       "cogs               0\n",
       "Rating            32\n",
       "dtype: int64"
      ]
     },
     "execution_count": 13,
     "metadata": {},
     "output_type": "execute_result"
    }
   ],
   "source": [
    "trans_data.isnull().sum()"
   ]
  },
  {
   "cell_type": "code",
   "execution_count": 14,
   "id": "2ffa1e16",
   "metadata": {},
   "outputs": [],
   "source": [
    "trans_metric = trans_data.loc[:,metric_features]\n",
    "trans_cat = trans_data.loc[:,cat_features]"
   ]
  },
  {
   "cell_type": "code",
   "execution_count": 15,
   "id": "5f78057e",
   "metadata": {},
   "outputs": [],
   "source": [
    "def knn_imput (data):\n",
    "    from sklearn.impute import KNNImputer\n",
    "    from sklearn.ensemble import RandomForestRegressor, RandomForestClassifier\n",
    "    from sklearn.tree import DecisionTreeClassifier\n",
    "    imputer = KNNImputer(n_neighbors=5, weights='distance', metric='nan_euclidean')\n",
    "    imputer.fit(data)\n",
    "    transform = imputer.transform(data)\n",
    "    x = pd.DataFrame(transform, columns = data.columns, index = data.index)\n",
    "    \n",
    "    return(x)\n",
    "\n",
    "trans_metric = knn_imput(trans_metric)\n"
   ]
  },
  {
   "cell_type": "code",
   "execution_count": 16,
   "id": "2b6cae61",
   "metadata": {
    "scrolled": true
   },
   "outputs": [
    {
     "data": {
      "text/plain": [
       "tran_date          0\n",
       "DOB                0\n",
       "Nationality     4819\n",
       "Gender             0\n",
       "Address            0\n",
       "Channel            0\n",
       "Type_payment       0\n",
       "Product line       0\n",
       "dtype: int64"
      ]
     },
     "execution_count": 16,
     "metadata": {},
     "output_type": "execute_result"
    }
   ],
   "source": [
    "trans_cat.isnull().sum()"
   ]
  },
  {
   "cell_type": "code",
   "execution_count": 17,
   "id": "7f131393",
   "metadata": {},
   "outputs": [
    {
     "data": {
      "text/plain": [
       "PT    153\n",
       "EN     12\n",
       "ES      7\n",
       "FR      2\n",
       "Name: Nationality, dtype: int64"
      ]
     },
     "execution_count": 17,
     "metadata": {},
     "output_type": "execute_result"
    }
   ],
   "source": [
    "trans_cat['Nationality'].value_counts()"
   ]
  },
  {
   "cell_type": "code",
   "execution_count": 18,
   "id": "63858e44",
   "metadata": {},
   "outputs": [],
   "source": [
    "trans_cat['Nationality'].fillna(trans_cat['Nationality'].mode().values[0],inplace=True)\n",
    "#fill missing values with the mode "
   ]
  },
  {
   "cell_type": "code",
   "execution_count": 19,
   "id": "97e0c06b",
   "metadata": {},
   "outputs": [],
   "source": [
    "trans_data = pd.concat([trans_metric, trans_cat],axis=1) #merging the 2 datasets back together"
   ]
  },
  {
   "cell_type": "code",
   "execution_count": 20,
   "id": "076cc597",
   "metadata": {},
   "outputs": [
    {
     "data": {
      "text/plain": [
       "cust_id         0\n",
       "Kidhome         0\n",
       "Unit price      0\n",
       "Quantity        0\n",
       "Tax             0\n",
       "Total_amt       0\n",
       "cogs            0\n",
       "Rating          0\n",
       "tran_date       0\n",
       "DOB             0\n",
       "Nationality     0\n",
       "Gender          0\n",
       "Address         0\n",
       "Channel         0\n",
       "Type_payment    0\n",
       "Product line    0\n",
       "dtype: int64"
      ]
     },
     "execution_count": 20,
     "metadata": {},
     "output_type": "execute_result"
    }
   ],
   "source": [
    "trans_data.isnull().sum()"
   ]
  },
  {
   "cell_type": "markdown",
   "id": "9eadf19a",
   "metadata": {},
   "source": [
    "### Treating incoherences"
   ]
  },
  {
   "cell_type": "markdown",
   "id": "d9f749d2",
   "metadata": {},
   "source": [
    "__Incoherence 1:__\n",
    "- __Transaction Date < Date of Birth__ (no one can buy without being born)\n",
    "- __Total_amt < 0__ (A client can't pay negative values to a company) - this incoherence takes cares of Tax and Cogs (the query to remove the incoherence was performed using Cogs) "
   ]
  },
  {
   "cell_type": "code",
   "execution_count": 21,
   "id": "4357bae5",
   "metadata": {},
   "outputs": [
    {
     "name": "stdout",
     "output_type": "stream",
     "text": [
      "We are going to remove 28 observations\n",
      "4965\n"
     ]
    }
   ],
   "source": [
    "init_len = len(trans_data)\n",
    "incoherence1 = trans_data.loc[trans_data['tran_date']<trans_data['DOB']].copy()\n",
    "incoherence2 = trans_data.loc[trans_data['cogs']<0]\n",
    "trans_data = trans_data.loc[trans_data['tran_date']>trans_data['DOB']]\n",
    "trans_data = trans_data.loc[trans_data['cogs']>0]\n",
    "after_len = len(trans_data)\n",
    "print(f'We are going to remove {init_len-after_len} observations')\n",
    "print(len(trans_data))\n",
    "#incoherence where the date of the transaction is higher then the date of birth of the customer "
   ]
  },
  {
   "cell_type": "markdown",
   "id": "6cc35e28",
   "metadata": {},
   "source": [
    "Testing incoherence 1"
   ]
  },
  {
   "cell_type": "code",
   "execution_count": 22,
   "id": "1027ca67",
   "metadata": {
    "scrolled": true
   },
   "outputs": [
    {
     "data": {
      "text/html": [
       "<div>\n",
       "<style scoped>\n",
       "    .dataframe tbody tr th:only-of-type {\n",
       "        vertical-align: middle;\n",
       "    }\n",
       "\n",
       "    .dataframe tbody tr th {\n",
       "        vertical-align: top;\n",
       "    }\n",
       "\n",
       "    .dataframe thead th {\n",
       "        text-align: right;\n",
       "    }\n",
       "</style>\n",
       "<table border=\"1\" class=\"dataframe\">\n",
       "  <thead>\n",
       "    <tr style=\"text-align: right;\">\n",
       "      <th></th>\n",
       "      <th>cust_id</th>\n",
       "      <th>Kidhome</th>\n",
       "      <th>Unit price</th>\n",
       "      <th>Quantity</th>\n",
       "      <th>Tax</th>\n",
       "      <th>Total_amt</th>\n",
       "      <th>cogs</th>\n",
       "      <th>Rating</th>\n",
       "      <th>tran_date</th>\n",
       "      <th>DOB</th>\n",
       "      <th>Nationality</th>\n",
       "      <th>Gender</th>\n",
       "      <th>Address</th>\n",
       "      <th>Channel</th>\n",
       "      <th>Type_payment</th>\n",
       "      <th>Product line</th>\n",
       "    </tr>\n",
       "    <tr>\n",
       "      <th>transaction_id</th>\n",
       "      <th></th>\n",
       "      <th></th>\n",
       "      <th></th>\n",
       "      <th></th>\n",
       "      <th></th>\n",
       "      <th></th>\n",
       "      <th></th>\n",
       "      <th></th>\n",
       "      <th></th>\n",
       "      <th></th>\n",
       "      <th></th>\n",
       "      <th></th>\n",
       "      <th></th>\n",
       "      <th></th>\n",
       "      <th></th>\n",
       "      <th></th>\n",
       "    </tr>\n",
       "  </thead>\n",
       "  <tbody>\n",
       "  </tbody>\n",
       "</table>\n",
       "</div>"
      ],
      "text/plain": [
       "Empty DataFrame\n",
       "Columns: [cust_id, Kidhome, Unit price, Quantity, Tax, Total_amt, cogs, Rating, tran_date, DOB, Nationality, Gender, Address, Channel, Type_payment, Product line]\n",
       "Index: []"
      ]
     },
     "execution_count": 22,
     "metadata": {},
     "output_type": "execute_result"
    }
   ],
   "source": [
    "trans_data.loc[pd.to_datetime(trans_data['tran_date'])<trans_data['DOB']]\n",
    "#no more incoherences regarding dates"
   ]
  },
  {
   "cell_type": "markdown",
   "id": "04c56992",
   "metadata": {},
   "source": [
    "Testing incoherence 2"
   ]
  },
  {
   "cell_type": "code",
   "execution_count": 23,
   "id": "cb09c890",
   "metadata": {},
   "outputs": [
    {
     "data": {
      "text/html": [
       "<div>\n",
       "<style scoped>\n",
       "    .dataframe tbody tr th:only-of-type {\n",
       "        vertical-align: middle;\n",
       "    }\n",
       "\n",
       "    .dataframe tbody tr th {\n",
       "        vertical-align: top;\n",
       "    }\n",
       "\n",
       "    .dataframe thead th {\n",
       "        text-align: right;\n",
       "    }\n",
       "</style>\n",
       "<table border=\"1\" class=\"dataframe\">\n",
       "  <thead>\n",
       "    <tr style=\"text-align: right;\">\n",
       "      <th></th>\n",
       "      <th>cust_id</th>\n",
       "      <th>Kidhome</th>\n",
       "      <th>Unit price</th>\n",
       "      <th>Quantity</th>\n",
       "      <th>Tax</th>\n",
       "      <th>Total_amt</th>\n",
       "      <th>cogs</th>\n",
       "      <th>Rating</th>\n",
       "      <th>tran_date</th>\n",
       "      <th>DOB</th>\n",
       "      <th>Nationality</th>\n",
       "      <th>Gender</th>\n",
       "      <th>Address</th>\n",
       "      <th>Channel</th>\n",
       "      <th>Type_payment</th>\n",
       "      <th>Product line</th>\n",
       "    </tr>\n",
       "    <tr>\n",
       "      <th>transaction_id</th>\n",
       "      <th></th>\n",
       "      <th></th>\n",
       "      <th></th>\n",
       "      <th></th>\n",
       "      <th></th>\n",
       "      <th></th>\n",
       "      <th></th>\n",
       "      <th></th>\n",
       "      <th></th>\n",
       "      <th></th>\n",
       "      <th></th>\n",
       "      <th></th>\n",
       "      <th></th>\n",
       "      <th></th>\n",
       "      <th></th>\n",
       "      <th></th>\n",
       "    </tr>\n",
       "  </thead>\n",
       "  <tbody>\n",
       "  </tbody>\n",
       "</table>\n",
       "</div>"
      ],
      "text/plain": [
       "Empty DataFrame\n",
       "Columns: [cust_id, Kidhome, Unit price, Quantity, Tax, Total_amt, cogs, Rating, tran_date, DOB, Nationality, Gender, Address, Channel, Type_payment, Product line]\n",
       "Index: []"
      ]
     },
     "execution_count": 23,
     "metadata": {},
     "output_type": "execute_result"
    }
   ],
   "source": [
    "trans_data.loc[trans_data['cogs']<0]"
   ]
  },
  {
   "cell_type": "code",
   "execution_count": 24,
   "id": "1d7ac6d9",
   "metadata": {},
   "outputs": [
    {
     "name": "stdout",
     "output_type": "stream",
     "text": [
      "800 customers remained after the Pre-Processing stage.\n"
     ]
    }
   ],
   "source": [
    "len2 = len(set(trans_data['cust_id']))\n",
    "print(f'{len2} customers remained after the Pre-Processing stage.')"
   ]
  },
  {
   "cell_type": "markdown",
   "id": "fb5465a8",
   "metadata": {},
   "source": [
    "### Creating the signature"
   ]
  },
  {
   "cell_type": "code",
   "execution_count": 25,
   "id": "71521f78",
   "metadata": {},
   "outputs": [
    {
     "name": "stdout",
     "output_type": "stream",
     "text": [
      "<class 'pandas.core.frame.DataFrame'>\n",
      "Int64Index: 4965 entries, 99532532450 to 627826147\n",
      "Data columns (total 16 columns):\n",
      " #   Column        Non-Null Count  Dtype         \n",
      "---  ------        --------------  -----         \n",
      " 0   cust_id       4965 non-null   float64       \n",
      " 1   Kidhome       4965 non-null   float64       \n",
      " 2   Unit price    4965 non-null   float64       \n",
      " 3   Quantity      4965 non-null   float64       \n",
      " 4   Tax           4965 non-null   float64       \n",
      " 5   Total_amt     4965 non-null   float64       \n",
      " 6   cogs          4965 non-null   float64       \n",
      " 7   Rating        4965 non-null   float64       \n",
      " 8   tran_date     4965 non-null   datetime64[ns]\n",
      " 9   DOB           4965 non-null   object        \n",
      " 10  Nationality   4965 non-null   object        \n",
      " 11  Gender        4965 non-null   object        \n",
      " 12  Address       4965 non-null   object        \n",
      " 13  Channel       4965 non-null   object        \n",
      " 14  Type_payment  4965 non-null   object        \n",
      " 15  Product line  4965 non-null   object        \n",
      "dtypes: datetime64[ns](1), float64(8), object(7)\n",
      "memory usage: 659.4+ KB\n"
     ]
    }
   ],
   "source": [
    "trans_data.info()"
   ]
  },
  {
   "cell_type": "code",
   "execution_count": 26,
   "id": "069e0d75",
   "metadata": {},
   "outputs": [],
   "source": [
    "by_pivot = {}  #creating a dict to fill with values \n",
    "for index , i in enumerate(['Channel', 'Product line', 'Type_payment']):\n",
    "    by_pivot[i] = pd.DataFrame #create a df inside the dict \n",
    "    by_i = (trans_data.groupby(['cust_id', i]).sum()['Total_amt']).reset_index() \n",
    "    #by_i.T.reset_index(drop=True).T\n",
    "    #grouping the variables in question by cust_id taking into account tot amount\n",
    "    by_pivot[i] = pd.pivot(by_i, index = ('cust_id'),columns=[i])\n",
    "    \n",
    "#this could also be done using Cogs which wuld produce similar results"
   ]
  },
  {
   "cell_type": "code",
   "execution_count": 27,
   "id": "f7a2d46f",
   "metadata": {
    "scrolled": true
   },
   "outputs": [],
   "source": [
    "channel = ((by_pivot['Channel'])['Total_amt'].copy()).fillna(value=0)\n",
    "prod_line = ((by_pivot['Product line'])['Total_amt'].copy()).fillna(value=0)\n",
    "tp_payment = ((by_pivot['Type_payment'])['Total_amt'].copy()).fillna(value=0)\n",
    "\n",
    "#filling the missing values with 0 because they are actualluy 0 since the client doesn't \n",
    "#have any amount on certain variables"
   ]
  },
  {
   "cell_type": "code",
   "execution_count": 28,
   "id": "786d02ed",
   "metadata": {},
   "outputs": [],
   "source": [
    "channel.loc[(channel['Store']> channel['Online']) & (channel['Store']> channel['Catalog']),'Fav_channel'] = 'Store'\n",
    "channel.loc[(channel['Online']> channel['Store']) & (channel['Online']> channel['Catalog']),'Fav_channel'] = 'Online'\n",
    "channel.loc[(channel['Catalog']> channel['Store']) & (channel['Catalog']> channel['Online']),'Fav_channel'] = 'Catalog'\n",
    "channel['Fav_channel'].fillna(value='Mixed',inplace=True)\n"
   ]
  },
  {
   "cell_type": "code",
   "execution_count": 29,
   "id": "7344382a",
   "metadata": {},
   "outputs": [
    {
     "data": {
      "text/plain": [
       "1401.67"
      ]
     },
     "execution_count": 29,
     "metadata": {},
     "output_type": "execute_result"
    }
   ],
   "source": [
    "423.87 +977.8"
   ]
  },
  {
   "cell_type": "code",
   "execution_count": 30,
   "id": "8f1236f0",
   "metadata": {},
   "outputs": [
    {
     "data": {
      "text/html": [
       "<div>\n",
       "<style scoped>\n",
       "    .dataframe tbody tr th:only-of-type {\n",
       "        vertical-align: middle;\n",
       "    }\n",
       "\n",
       "    .dataframe tbody tr th {\n",
       "        vertical-align: top;\n",
       "    }\n",
       "\n",
       "    .dataframe thead th {\n",
       "        text-align: right;\n",
       "    }\n",
       "</style>\n",
       "<table border=\"1\" class=\"dataframe\">\n",
       "  <thead>\n",
       "    <tr style=\"text-align: right;\">\n",
       "      <th>Channel</th>\n",
       "      <th>Catalog</th>\n",
       "      <th>Online</th>\n",
       "      <th>Store</th>\n",
       "      <th>Fav_channel</th>\n",
       "    </tr>\n",
       "    <tr>\n",
       "      <th>cust_id</th>\n",
       "      <th></th>\n",
       "      <th></th>\n",
       "      <th></th>\n",
       "      <th></th>\n",
       "    </tr>\n",
       "  </thead>\n",
       "  <tbody>\n",
       "    <tr>\n",
       "      <th>266799.0</th>\n",
       "      <td>0.000</td>\n",
       "      <td>423.8745</td>\n",
       "      <td>977.8020</td>\n",
       "      <td>Store</td>\n",
       "    </tr>\n",
       "    <tr>\n",
       "      <th>266806.0</th>\n",
       "      <td>0.000</td>\n",
       "      <td>238.5180</td>\n",
       "      <td>458.6925</td>\n",
       "      <td>Store</td>\n",
       "    </tr>\n",
       "    <tr>\n",
       "      <th>266814.0</th>\n",
       "      <td>0.000</td>\n",
       "      <td>38.3880</td>\n",
       "      <td>76.9335</td>\n",
       "      <td>Store</td>\n",
       "    </tr>\n",
       "    <tr>\n",
       "      <th>266819.0</th>\n",
       "      <td>0.000</td>\n",
       "      <td>196.0560</td>\n",
       "      <td>634.4940</td>\n",
       "      <td>Store</td>\n",
       "    </tr>\n",
       "    <tr>\n",
       "      <th>266827.0</th>\n",
       "      <td>690.018</td>\n",
       "      <td>0.0000</td>\n",
       "      <td>1380.0360</td>\n",
       "      <td>Store</td>\n",
       "    </tr>\n",
       "  </tbody>\n",
       "</table>\n",
       "</div>"
      ],
      "text/plain": [
       "Channel   Catalog    Online      Store Fav_channel\n",
       "cust_id                                           \n",
       "266799.0    0.000  423.8745   977.8020       Store\n",
       "266806.0    0.000  238.5180   458.6925       Store\n",
       "266814.0    0.000   38.3880    76.9335       Store\n",
       "266819.0    0.000  196.0560   634.4940       Store\n",
       "266827.0  690.018    0.0000  1380.0360       Store"
      ]
     },
     "execution_count": 30,
     "metadata": {},
     "output_type": "execute_result"
    }
   ],
   "source": [
    "channel.head(5)"
   ]
  },
  {
   "cell_type": "code",
   "execution_count": 31,
   "id": "7e219d51",
   "metadata": {},
   "outputs": [],
   "source": [
    "#the loops are performing the operations shown in the cell above\n",
    "for i in (prod_line.columns):\n",
    "    col = np.array(prod_line.columns)\n",
    "    col = col[col!=i]\n",
    "    prod_line.loc[(prod_line[f'{i}']>prod_line[col[0]]) & (prod_line[f'{i}']>prod_line[col[1]]) & \n",
    "                  (prod_line[f'{i}']>prod_line[col[3]]) & (prod_line[f'{i}']>prod_line[col[4]]), 'Fav_prod_line'] = i\n",
    "    \n",
    "prod_line['Fav_prod_line'].fillna(value='Mixed', inplace=True)\n",
    "prod_line.reset_index(inplace=True)\n"
   ]
  },
  {
   "cell_type": "code",
   "execution_count": 32,
   "id": "b410862d",
   "metadata": {},
   "outputs": [
    {
     "data": {
      "text/html": [
       "<div>\n",
       "<style scoped>\n",
       "    .dataframe tbody tr th:only-of-type {\n",
       "        vertical-align: middle;\n",
       "    }\n",
       "\n",
       "    .dataframe tbody tr th {\n",
       "        vertical-align: top;\n",
       "    }\n",
       "\n",
       "    .dataframe thead th {\n",
       "        text-align: right;\n",
       "    }\n",
       "</style>\n",
       "<table border=\"1\" class=\"dataframe\">\n",
       "  <thead>\n",
       "    <tr style=\"text-align: right;\">\n",
       "      <th>Product line</th>\n",
       "      <th>cust_id</th>\n",
       "      <th>Electronic accessories</th>\n",
       "      <th>Fashion accessories</th>\n",
       "      <th>Food and beverages</th>\n",
       "      <th>Health and beauty</th>\n",
       "      <th>Home and lifestyle</th>\n",
       "      <th>Sports and travel</th>\n",
       "      <th>Fav_prod_line</th>\n",
       "    </tr>\n",
       "  </thead>\n",
       "  <tbody>\n",
       "    <tr>\n",
       "      <th>0</th>\n",
       "      <td>266799.0</td>\n",
       "      <td>0.000</td>\n",
       "      <td>228.1965</td>\n",
       "      <td>0.0000</td>\n",
       "      <td>0.0000</td>\n",
       "      <td>782.208</td>\n",
       "      <td>391.272</td>\n",
       "      <td>Home and lifestyle</td>\n",
       "    </tr>\n",
       "    <tr>\n",
       "      <th>1</th>\n",
       "      <td>266806.0</td>\n",
       "      <td>315.441</td>\n",
       "      <td>75.9360</td>\n",
       "      <td>152.9325</td>\n",
       "      <td>152.9010</td>\n",
       "      <td>0.000</td>\n",
       "      <td>0.000</td>\n",
       "      <td>Electronic accessories</td>\n",
       "    </tr>\n",
       "    <tr>\n",
       "      <th>2</th>\n",
       "      <td>266814.0</td>\n",
       "      <td>0.000</td>\n",
       "      <td>0.0000</td>\n",
       "      <td>0.0000</td>\n",
       "      <td>57.7395</td>\n",
       "      <td>57.582</td>\n",
       "      <td>0.000</td>\n",
       "      <td>Health and beauty</td>\n",
       "    </tr>\n",
       "    <tr>\n",
       "      <th>3</th>\n",
       "      <td>266819.0</td>\n",
       "      <td>0.000</td>\n",
       "      <td>0.0000</td>\n",
       "      <td>196.0560</td>\n",
       "      <td>0.0000</td>\n",
       "      <td>489.090</td>\n",
       "      <td>145.404</td>\n",
       "      <td>Home and lifestyle</td>\n",
       "    </tr>\n",
       "    <tr>\n",
       "      <th>4</th>\n",
       "      <td>266827.0</td>\n",
       "      <td>2070.054</td>\n",
       "      <td>0.0000</td>\n",
       "      <td>0.0000</td>\n",
       "      <td>0.0000</td>\n",
       "      <td>0.000</td>\n",
       "      <td>0.000</td>\n",
       "      <td>Electronic accessories</td>\n",
       "    </tr>\n",
       "  </tbody>\n",
       "</table>\n",
       "</div>"
      ],
      "text/plain": [
       "Product line   cust_id  Electronic accessories  Fashion accessories  \\\n",
       "0             266799.0                   0.000             228.1965   \n",
       "1             266806.0                 315.441              75.9360   \n",
       "2             266814.0                   0.000               0.0000   \n",
       "3             266819.0                   0.000               0.0000   \n",
       "4             266827.0                2070.054               0.0000   \n",
       "\n",
       "Product line  Food and beverages  Health and beauty  Home and lifestyle  \\\n",
       "0                         0.0000             0.0000             782.208   \n",
       "1                       152.9325           152.9010               0.000   \n",
       "2                         0.0000            57.7395              57.582   \n",
       "3                       196.0560             0.0000             489.090   \n",
       "4                         0.0000             0.0000               0.000   \n",
       "\n",
       "Product line  Sports and travel           Fav_prod_line  \n",
       "0                       391.272      Home and lifestyle  \n",
       "1                         0.000  Electronic accessories  \n",
       "2                         0.000       Health and beauty  \n",
       "3                       145.404      Home and lifestyle  \n",
       "4                         0.000  Electronic accessories  "
      ]
     },
     "execution_count": 32,
     "metadata": {},
     "output_type": "execute_result"
    }
   ],
   "source": [
    "prod_line.head(5)"
   ]
  },
  {
   "cell_type": "code",
   "execution_count": 33,
   "id": "294766ff",
   "metadata": {},
   "outputs": [],
   "source": [
    "for i in tp_payment.columns:\n",
    "    col = np.array(tp_payment.columns)\n",
    "    col = col[col!=i]\n",
    "    tp_payment.loc[(tp_payment[i]>tp_payment[col[0]]) & (tp_payment[i]>tp_payment[col[1]]) &(tp_payment[i]>tp_payment[col[2]]), 'Fav_Payment_Method'] = i\n",
    "\n",
    "tp_payment['Fav_Payment_Method'].fillna(value='Mixed',inplace=True)"
   ]
  },
  {
   "cell_type": "code",
   "execution_count": 34,
   "id": "6a079d69",
   "metadata": {},
   "outputs": [
    {
     "data": {
      "text/html": [
       "<div>\n",
       "<style scoped>\n",
       "    .dataframe tbody tr th:only-of-type {\n",
       "        vertical-align: middle;\n",
       "    }\n",
       "\n",
       "    .dataframe tbody tr th {\n",
       "        vertical-align: top;\n",
       "    }\n",
       "\n",
       "    .dataframe thead th {\n",
       "        text-align: right;\n",
       "    }\n",
       "</style>\n",
       "<table border=\"1\" class=\"dataframe\">\n",
       "  <thead>\n",
       "    <tr style=\"text-align: right;\">\n",
       "      <th>Type_payment</th>\n",
       "      <th>Cash</th>\n",
       "      <th>Credit Card</th>\n",
       "      <th>MBWay</th>\n",
       "      <th>Paypal</th>\n",
       "      <th>Fav_Payment_Method</th>\n",
       "    </tr>\n",
       "    <tr>\n",
       "      <th>cust_id</th>\n",
       "      <th></th>\n",
       "      <th></th>\n",
       "      <th></th>\n",
       "      <th></th>\n",
       "      <th></th>\n",
       "    </tr>\n",
       "  </thead>\n",
       "  <tbody>\n",
       "    <tr>\n",
       "      <th>266799.0</th>\n",
       "      <td>0.0</td>\n",
       "      <td>977.8020</td>\n",
       "      <td>423.8745</td>\n",
       "      <td>0.0</td>\n",
       "      <td>Credit Card</td>\n",
       "    </tr>\n",
       "    <tr>\n",
       "      <th>266806.0</th>\n",
       "      <td>0.0</td>\n",
       "      <td>458.6925</td>\n",
       "      <td>238.5180</td>\n",
       "      <td>0.0</td>\n",
       "      <td>Credit Card</td>\n",
       "    </tr>\n",
       "    <tr>\n",
       "      <th>266814.0</th>\n",
       "      <td>0.0</td>\n",
       "      <td>76.9335</td>\n",
       "      <td>38.3880</td>\n",
       "      <td>0.0</td>\n",
       "      <td>Credit Card</td>\n",
       "    </tr>\n",
       "    <tr>\n",
       "      <th>266819.0</th>\n",
       "      <td>0.0</td>\n",
       "      <td>634.4940</td>\n",
       "      <td>196.0560</td>\n",
       "      <td>0.0</td>\n",
       "      <td>Credit Card</td>\n",
       "    </tr>\n",
       "    <tr>\n",
       "      <th>266827.0</th>\n",
       "      <td>0.0</td>\n",
       "      <td>1380.0360</td>\n",
       "      <td>690.0180</td>\n",
       "      <td>0.0</td>\n",
       "      <td>Credit Card</td>\n",
       "    </tr>\n",
       "    <tr>\n",
       "      <th>...</th>\n",
       "      <td>...</td>\n",
       "      <td>...</td>\n",
       "      <td>...</td>\n",
       "      <td>...</td>\n",
       "      <td>...</td>\n",
       "    </tr>\n",
       "    <tr>\n",
       "      <th>275230.0</th>\n",
       "      <td>0.0</td>\n",
       "      <td>0.0000</td>\n",
       "      <td>1826.3385</td>\n",
       "      <td>0.0</td>\n",
       "      <td>MBWay</td>\n",
       "    </tr>\n",
       "    <tr>\n",
       "      <th>275233.0</th>\n",
       "      <td>0.0</td>\n",
       "      <td>2984.5410</td>\n",
       "      <td>7357.0875</td>\n",
       "      <td>0.0</td>\n",
       "      <td>MBWay</td>\n",
       "    </tr>\n",
       "    <tr>\n",
       "      <th>275246.0</th>\n",
       "      <td>0.0</td>\n",
       "      <td>1543.8150</td>\n",
       "      <td>1536.1290</td>\n",
       "      <td>0.0</td>\n",
       "      <td>Credit Card</td>\n",
       "    </tr>\n",
       "    <tr>\n",
       "      <th>275250.0</th>\n",
       "      <td>0.0</td>\n",
       "      <td>0.0000</td>\n",
       "      <td>5736.6855</td>\n",
       "      <td>0.0</td>\n",
       "      <td>MBWay</td>\n",
       "    </tr>\n",
       "    <tr>\n",
       "      <th>275252.0</th>\n",
       "      <td>0.0</td>\n",
       "      <td>1842.3720</td>\n",
       "      <td>2763.5580</td>\n",
       "      <td>0.0</td>\n",
       "      <td>MBWay</td>\n",
       "    </tr>\n",
       "  </tbody>\n",
       "</table>\n",
       "<p>800 rows × 5 columns</p>\n",
       "</div>"
      ],
      "text/plain": [
       "Type_payment  Cash  Credit Card      MBWay  Paypal Fav_Payment_Method\n",
       "cust_id                                                              \n",
       "266799.0       0.0     977.8020   423.8745     0.0        Credit Card\n",
       "266806.0       0.0     458.6925   238.5180     0.0        Credit Card\n",
       "266814.0       0.0      76.9335    38.3880     0.0        Credit Card\n",
       "266819.0       0.0     634.4940   196.0560     0.0        Credit Card\n",
       "266827.0       0.0    1380.0360   690.0180     0.0        Credit Card\n",
       "...            ...          ...        ...     ...                ...\n",
       "275230.0       0.0       0.0000  1826.3385     0.0              MBWay\n",
       "275233.0       0.0    2984.5410  7357.0875     0.0              MBWay\n",
       "275246.0       0.0    1543.8150  1536.1290     0.0        Credit Card\n",
       "275250.0       0.0       0.0000  5736.6855     0.0              MBWay\n",
       "275252.0       0.0    1842.3720  2763.5580     0.0              MBWay\n",
       "\n",
       "[800 rows x 5 columns]"
      ]
     },
     "execution_count": 34,
     "metadata": {},
     "output_type": "execute_result"
    }
   ],
   "source": [
    "tp_payment"
   ]
  },
  {
   "cell_type": "code",
   "execution_count": 35,
   "id": "af12044f",
   "metadata": {},
   "outputs": [
    {
     "data": {
      "text/html": [
       "<div>\n",
       "<style scoped>\n",
       "    .dataframe tbody tr th:only-of-type {\n",
       "        vertical-align: middle;\n",
       "    }\n",
       "\n",
       "    .dataframe tbody tr th {\n",
       "        vertical-align: top;\n",
       "    }\n",
       "\n",
       "    .dataframe thead th {\n",
       "        text-align: right;\n",
       "    }\n",
       "</style>\n",
       "<table border=\"1\" class=\"dataframe\">\n",
       "  <thead>\n",
       "    <tr style=\"text-align: right;\">\n",
       "      <th>Type_payment</th>\n",
       "      <th>Cash</th>\n",
       "      <th>Credit Card</th>\n",
       "      <th>MBWay</th>\n",
       "      <th>Paypal</th>\n",
       "      <th>Fav_Payment_Method</th>\n",
       "    </tr>\n",
       "    <tr>\n",
       "      <th>cust_id</th>\n",
       "      <th></th>\n",
       "      <th></th>\n",
       "      <th></th>\n",
       "      <th></th>\n",
       "      <th></th>\n",
       "    </tr>\n",
       "  </thead>\n",
       "  <tbody>\n",
       "    <tr>\n",
       "      <th>266799.0</th>\n",
       "      <td>0.0</td>\n",
       "      <td>977.8020</td>\n",
       "      <td>423.8745</td>\n",
       "      <td>0.0</td>\n",
       "      <td>Credit Card</td>\n",
       "    </tr>\n",
       "    <tr>\n",
       "      <th>266806.0</th>\n",
       "      <td>0.0</td>\n",
       "      <td>458.6925</td>\n",
       "      <td>238.5180</td>\n",
       "      <td>0.0</td>\n",
       "      <td>Credit Card</td>\n",
       "    </tr>\n",
       "    <tr>\n",
       "      <th>266814.0</th>\n",
       "      <td>0.0</td>\n",
       "      <td>76.9335</td>\n",
       "      <td>38.3880</td>\n",
       "      <td>0.0</td>\n",
       "      <td>Credit Card</td>\n",
       "    </tr>\n",
       "    <tr>\n",
       "      <th>266819.0</th>\n",
       "      <td>0.0</td>\n",
       "      <td>634.4940</td>\n",
       "      <td>196.0560</td>\n",
       "      <td>0.0</td>\n",
       "      <td>Credit Card</td>\n",
       "    </tr>\n",
       "    <tr>\n",
       "      <th>266827.0</th>\n",
       "      <td>0.0</td>\n",
       "      <td>1380.0360</td>\n",
       "      <td>690.0180</td>\n",
       "      <td>0.0</td>\n",
       "      <td>Credit Card</td>\n",
       "    </tr>\n",
       "  </tbody>\n",
       "</table>\n",
       "</div>"
      ],
      "text/plain": [
       "Type_payment  Cash  Credit Card     MBWay  Paypal Fav_Payment_Method\n",
       "cust_id                                                             \n",
       "266799.0       0.0     977.8020  423.8745     0.0        Credit Card\n",
       "266806.0       0.0     458.6925  238.5180     0.0        Credit Card\n",
       "266814.0       0.0      76.9335   38.3880     0.0        Credit Card\n",
       "266819.0       0.0     634.4940  196.0560     0.0        Credit Card\n",
       "266827.0       0.0    1380.0360  690.0180     0.0        Credit Card"
      ]
     },
     "execution_count": 35,
     "metadata": {},
     "output_type": "execute_result"
    }
   ],
   "source": [
    "tp_payment.head(5)"
   ]
  },
  {
   "cell_type": "code",
   "execution_count": 36,
   "id": "b26ecb9c",
   "metadata": {},
   "outputs": [],
   "source": [
    "avg_rate = trans_data.groupby('cust_id').mean()['Rating']"
   ]
  },
  {
   "cell_type": "code",
   "execution_count": 37,
   "id": "261435da",
   "metadata": {},
   "outputs": [
    {
     "data": {
      "text/plain": [
       "cust_id   transaction_id\n",
       "266799.0  26894882231        423.8745\n",
       "          84627191878        977.8020\n",
       "266806.0  14296571232        458.6925\n",
       "          71183714242        238.5180\n",
       "266814.0  13808024915         38.3880\n",
       "                              ...    \n",
       "275250.0  82662118191       2151.0720\n",
       "          88737401370       2061.8745\n",
       "275252.0  29201449542       1842.3720\n",
       "          65574855452       1842.3720\n",
       "          84784155619        921.1860\n",
       "Name: Total_amt, Length: 1831, dtype: float64"
      ]
     },
     "execution_count": 37,
     "metadata": {},
     "output_type": "execute_result"
    }
   ],
   "source": [
    "trans_data.groupby(['cust_id','transaction_id']).sum()['Total_amt']"
   ]
  },
  {
   "cell_type": "code",
   "execution_count": 38,
   "id": "de07b64f",
   "metadata": {},
   "outputs": [
    {
     "data": {
      "text/plain": [
       "cust_id\n",
       "266799.0     700.838250\n",
       "266806.0     348.605250\n",
       "266814.0      57.660750\n",
       "266819.0     415.275000\n",
       "266827.0    1035.027000\n",
       "               ...     \n",
       "275230.0     913.169250\n",
       "275233.0    5170.814250\n",
       "275246.0    1539.972000\n",
       "275250.0    1434.171375\n",
       "275252.0    1535.310000\n",
       "Name: Total_amt, Length: 800, dtype: float64"
      ]
     },
     "execution_count": 38,
     "metadata": {},
     "output_type": "execute_result"
    }
   ],
   "source": [
    "avg_expense = trans_data.groupby(['cust_id','transaction_id']).sum()['Total_amt'].groupby('cust_id').mean()\n",
    "avg_expense"
   ]
  },
  {
   "cell_type": "code",
   "execution_count": 39,
   "id": "d7e0fd3c",
   "metadata": {},
   "outputs": [
    {
     "data": {
      "text/html": [
       "<div>\n",
       "<style scoped>\n",
       "    .dataframe tbody tr th:only-of-type {\n",
       "        vertical-align: middle;\n",
       "    }\n",
       "\n",
       "    .dataframe tbody tr th {\n",
       "        vertical-align: top;\n",
       "    }\n",
       "\n",
       "    .dataframe thead th {\n",
       "        text-align: right;\n",
       "    }\n",
       "</style>\n",
       "<table border=\"1\" class=\"dataframe\">\n",
       "  <thead>\n",
       "    <tr style=\"text-align: right;\">\n",
       "      <th></th>\n",
       "      <th>frequency</th>\n",
       "    </tr>\n",
       "    <tr>\n",
       "      <th>cust_id</th>\n",
       "      <th></th>\n",
       "    </tr>\n",
       "  </thead>\n",
       "  <tbody>\n",
       "    <tr>\n",
       "      <th>266799.0</th>\n",
       "      <td>2</td>\n",
       "    </tr>\n",
       "    <tr>\n",
       "      <th>266806.0</th>\n",
       "      <td>2</td>\n",
       "    </tr>\n",
       "    <tr>\n",
       "      <th>266814.0</th>\n",
       "      <td>2</td>\n",
       "    </tr>\n",
       "    <tr>\n",
       "      <th>266819.0</th>\n",
       "      <td>2</td>\n",
       "    </tr>\n",
       "    <tr>\n",
       "      <th>266827.0</th>\n",
       "      <td>2</td>\n",
       "    </tr>\n",
       "  </tbody>\n",
       "</table>\n",
       "</div>"
      ],
      "text/plain": [
       "          frequency\n",
       "cust_id            \n",
       "266799.0          2\n",
       "266806.0          2\n",
       "266814.0          2\n",
       "266819.0          2\n",
       "266827.0          2"
      ]
     },
     "execution_count": 39,
     "metadata": {},
     "output_type": "execute_result"
    }
   ],
   "source": [
    "frequency = (trans_data.groupby(['cust_id','transaction_id']).count()['DOB'].reset_index()).drop('DOB',axis=1).groupby('cust_id').count()\n",
    "frequency.rename(columns={'transaction_id':'frequency'},inplace=True)\n",
    "frequency.head(5)"
   ]
  },
  {
   "cell_type": "code",
   "execution_count": 40,
   "id": "c509918c",
   "metadata": {},
   "outputs": [],
   "source": [
    "#treating the DOB variable before calculating age (including incoherences where DOB> today) \n",
    "trans_data['DOB'] = trans_data['DOB'].astype('str')\n",
    "trans_data['YOB'] = trans_data['DOB'].str[:4].astype('int') \n",
    "trans_data = trans_data.loc[trans_data['DOB'] < '2021-10-21 00:00:00']\n",
    "trans_data['DOB'] = pd.to_datetime(trans_data['DOB'])\n"
   ]
  },
  {
   "cell_type": "code",
   "execution_count": 41,
   "id": "460df297",
   "metadata": {},
   "outputs": [
    {
     "data": {
      "text/html": [
       "<div>\n",
       "<style scoped>\n",
       "    .dataframe tbody tr th:only-of-type {\n",
       "        vertical-align: middle;\n",
       "    }\n",
       "\n",
       "    .dataframe tbody tr th {\n",
       "        vertical-align: top;\n",
       "    }\n",
       "\n",
       "    .dataframe thead th {\n",
       "        text-align: right;\n",
       "    }\n",
       "</style>\n",
       "<table border=\"1\" class=\"dataframe\">\n",
       "  <thead>\n",
       "    <tr style=\"text-align: right;\">\n",
       "      <th></th>\n",
       "      <th>Nationality</th>\n",
       "      <th>YOB</th>\n",
       "      <th>DOB</th>\n",
       "      <th>Gender</th>\n",
       "      <th>Address</th>\n",
       "      <th>Kidhome</th>\n",
       "      <th>Age</th>\n",
       "    </tr>\n",
       "    <tr>\n",
       "      <th>cust_id</th>\n",
       "      <th></th>\n",
       "      <th></th>\n",
       "      <th></th>\n",
       "      <th></th>\n",
       "      <th></th>\n",
       "      <th></th>\n",
       "      <th></th>\n",
       "    </tr>\n",
       "  </thead>\n",
       "  <tbody>\n",
       "    <tr>\n",
       "      <th>269716.0</th>\n",
       "      <td>PT</td>\n",
       "      <td>1996</td>\n",
       "      <td>1996-06-09</td>\n",
       "      <td>M</td>\n",
       "      <td>Braga</td>\n",
       "      <td>0.0</td>\n",
       "      <td>25</td>\n",
       "    </tr>\n",
       "    <tr>\n",
       "      <th>268148.0</th>\n",
       "      <td>PT</td>\n",
       "      <td>1983</td>\n",
       "      <td>1983-11-25</td>\n",
       "      <td>M</td>\n",
       "      <td>Braga</td>\n",
       "      <td>1.0</td>\n",
       "      <td>38</td>\n",
       "    </tr>\n",
       "    <tr>\n",
       "      <th>272883.0</th>\n",
       "      <td>PT</td>\n",
       "      <td>1975</td>\n",
       "      <td>1975-01-24</td>\n",
       "      <td>M</td>\n",
       "      <td>Braga</td>\n",
       "      <td>1.0</td>\n",
       "      <td>46</td>\n",
       "    </tr>\n",
       "    <tr>\n",
       "      <th>272590.0</th>\n",
       "      <td>PT</td>\n",
       "      <td>1980</td>\n",
       "      <td>1980-02-25</td>\n",
       "      <td>M</td>\n",
       "      <td>Braga</td>\n",
       "      <td>1.0</td>\n",
       "      <td>41</td>\n",
       "    </tr>\n",
       "    <tr>\n",
       "      <th>273913.0</th>\n",
       "      <td>PT</td>\n",
       "      <td>1985</td>\n",
       "      <td>1985-03-01</td>\n",
       "      <td>M</td>\n",
       "      <td>Braga</td>\n",
       "      <td>1.0</td>\n",
       "      <td>36</td>\n",
       "    </tr>\n",
       "  </tbody>\n",
       "</table>\n",
       "</div>"
      ],
      "text/plain": [
       "         Nationality   YOB        DOB Gender Address  Kidhome  Age\n",
       "cust_id                                                           \n",
       "269716.0          PT  1996 1996-06-09      M   Braga      0.0   25\n",
       "268148.0          PT  1983 1983-11-25      M   Braga      1.0   38\n",
       "272883.0          PT  1975 1975-01-24      M   Braga      1.0   46\n",
       "272590.0          PT  1980 1980-02-25      M   Braga      1.0   41\n",
       "273913.0          PT  1985 1985-03-01      M   Braga      1.0   36"
      ]
     },
     "execution_count": 41,
     "metadata": {},
     "output_type": "execute_result"
    }
   ],
   "source": [
    "gen_info = trans_data.loc[:,['cust_id','Nationality','YOB', 'DOB', 'Gender','Address','Kidhome']].groupby('cust_id').head(1)\n",
    "(gen_info.reset_index(drop=True))\n",
    "gen_info.set_index('cust_id',inplace=True)\n",
    "gen_info['Age'] = date.today().year - gen_info['YOB']\n",
    "gen_info.head(5)"
   ]
  },
  {
   "cell_type": "code",
   "execution_count": 42,
   "id": "aa8a4f7a",
   "metadata": {},
   "outputs": [
    {
     "data": {
      "text/html": [
       "<div>\n",
       "<style scoped>\n",
       "    .dataframe tbody tr th:only-of-type {\n",
       "        vertical-align: middle;\n",
       "    }\n",
       "\n",
       "    .dataframe tbody tr th {\n",
       "        vertical-align: top;\n",
       "    }\n",
       "\n",
       "    .dataframe thead th {\n",
       "        text-align: right;\n",
       "    }\n",
       "</style>\n",
       "<table border=\"1\" class=\"dataframe\">\n",
       "  <thead>\n",
       "    <tr style=\"text-align: right;\">\n",
       "      <th></th>\n",
       "      <th>Nationality</th>\n",
       "      <th>YOB</th>\n",
       "      <th>DOB</th>\n",
       "      <th>Gender</th>\n",
       "      <th>Address</th>\n",
       "      <th>Kidhome</th>\n",
       "      <th>Age</th>\n",
       "      <th>frequency</th>\n",
       "      <th>Rating</th>\n",
       "      <th>Average_expense</th>\n",
       "      <th>...</th>\n",
       "      <th>Health and beauty</th>\n",
       "      <th>Home and lifestyle</th>\n",
       "      <th>Sports and travel</th>\n",
       "      <th>Fav_prod_line</th>\n",
       "      <th>Cash</th>\n",
       "      <th>Credit Card</th>\n",
       "      <th>MBWay</th>\n",
       "      <th>Paypal</th>\n",
       "      <th>Fav_Payment_Method</th>\n",
       "      <th>Tot_Amount</th>\n",
       "    </tr>\n",
       "    <tr>\n",
       "      <th>cust_id</th>\n",
       "      <th></th>\n",
       "      <th></th>\n",
       "      <th></th>\n",
       "      <th></th>\n",
       "      <th></th>\n",
       "      <th></th>\n",
       "      <th></th>\n",
       "      <th></th>\n",
       "      <th></th>\n",
       "      <th></th>\n",
       "      <th></th>\n",
       "      <th></th>\n",
       "      <th></th>\n",
       "      <th></th>\n",
       "      <th></th>\n",
       "      <th></th>\n",
       "      <th></th>\n",
       "      <th></th>\n",
       "      <th></th>\n",
       "      <th></th>\n",
       "      <th></th>\n",
       "    </tr>\n",
       "  </thead>\n",
       "  <tbody>\n",
       "    <tr>\n",
       "      <th>269716.0</th>\n",
       "      <td>PT</td>\n",
       "      <td>1996</td>\n",
       "      <td>1996-06-09</td>\n",
       "      <td>M</td>\n",
       "      <td>Braga</td>\n",
       "      <td>0.0</td>\n",
       "      <td>25</td>\n",
       "      <td>4</td>\n",
       "      <td>7.393333</td>\n",
       "      <td>990.62775</td>\n",
       "      <td>...</td>\n",
       "      <td>432.978</td>\n",
       "      <td>598.731</td>\n",
       "      <td>759.5910</td>\n",
       "      <td>Electronic accessories</td>\n",
       "      <td>0.0</td>\n",
       "      <td>0.0000</td>\n",
       "      <td>3962.5110</td>\n",
       "      <td>0.0</td>\n",
       "      <td>MBWay</td>\n",
       "      <td>3962.5110</td>\n",
       "    </tr>\n",
       "    <tr>\n",
       "      <th>268148.0</th>\n",
       "      <td>PT</td>\n",
       "      <td>1983</td>\n",
       "      <td>1983-11-25</td>\n",
       "      <td>M</td>\n",
       "      <td>Braga</td>\n",
       "      <td>1.0</td>\n",
       "      <td>38</td>\n",
       "      <td>2</td>\n",
       "      <td>4.700000</td>\n",
       "      <td>1488.93150</td>\n",
       "      <td>...</td>\n",
       "      <td>0.000</td>\n",
       "      <td>745.836</td>\n",
       "      <td>742.8120</td>\n",
       "      <td>Home and lifestyle</td>\n",
       "      <td>0.0</td>\n",
       "      <td>0.0000</td>\n",
       "      <td>2977.8630</td>\n",
       "      <td>0.0</td>\n",
       "      <td>MBWay</td>\n",
       "      <td>2977.8630</td>\n",
       "    </tr>\n",
       "    <tr>\n",
       "      <th>272883.0</th>\n",
       "      <td>PT</td>\n",
       "      <td>1975</td>\n",
       "      <td>1975-01-24</td>\n",
       "      <td>M</td>\n",
       "      <td>Braga</td>\n",
       "      <td>1.0</td>\n",
       "      <td>46</td>\n",
       "      <td>2</td>\n",
       "      <td>7.071429</td>\n",
       "      <td>1623.16875</td>\n",
       "      <td>...</td>\n",
       "      <td>628.173</td>\n",
       "      <td>314.055</td>\n",
       "      <td>0.0000</td>\n",
       "      <td>Food and beverages</td>\n",
       "      <td>0.0</td>\n",
       "      <td>3036.5685</td>\n",
       "      <td>209.7690</td>\n",
       "      <td>0.0</td>\n",
       "      <td>Credit Card</td>\n",
       "      <td>3246.3375</td>\n",
       "    </tr>\n",
       "    <tr>\n",
       "      <th>272590.0</th>\n",
       "      <td>PT</td>\n",
       "      <td>1980</td>\n",
       "      <td>1980-02-25</td>\n",
       "      <td>M</td>\n",
       "      <td>Braga</td>\n",
       "      <td>1.0</td>\n",
       "      <td>41</td>\n",
       "      <td>2</td>\n",
       "      <td>7.640000</td>\n",
       "      <td>196.46025</td>\n",
       "      <td>...</td>\n",
       "      <td>0.000</td>\n",
       "      <td>14.679</td>\n",
       "      <td>104.7165</td>\n",
       "      <td>Fashion accessories</td>\n",
       "      <td>0.0</td>\n",
       "      <td>0.0000</td>\n",
       "      <td>392.9205</td>\n",
       "      <td>0.0</td>\n",
       "      <td>MBWay</td>\n",
       "      <td>392.9205</td>\n",
       "    </tr>\n",
       "    <tr>\n",
       "      <th>273913.0</th>\n",
       "      <td>PT</td>\n",
       "      <td>1985</td>\n",
       "      <td>1985-03-01</td>\n",
       "      <td>M</td>\n",
       "      <td>Braga</td>\n",
       "      <td>1.0</td>\n",
       "      <td>36</td>\n",
       "      <td>4</td>\n",
       "      <td>7.066667</td>\n",
       "      <td>636.21600</td>\n",
       "      <td>...</td>\n",
       "      <td>0.000</td>\n",
       "      <td>0.000</td>\n",
       "      <td>0.0000</td>\n",
       "      <td>Fashion accessories</td>\n",
       "      <td>0.0</td>\n",
       "      <td>0.0000</td>\n",
       "      <td>2544.8640</td>\n",
       "      <td>0.0</td>\n",
       "      <td>MBWay</td>\n",
       "      <td>2544.8640</td>\n",
       "    </tr>\n",
       "  </tbody>\n",
       "</table>\n",
       "<p>5 rows × 27 columns</p>\n",
       "</div>"
      ],
      "text/plain": [
       "         Nationality   YOB        DOB Gender Address  Kidhome  Age  frequency  \\\n",
       "cust_id                                                                         \n",
       "269716.0          PT  1996 1996-06-09      M   Braga      0.0   25          4   \n",
       "268148.0          PT  1983 1983-11-25      M   Braga      1.0   38          2   \n",
       "272883.0          PT  1975 1975-01-24      M   Braga      1.0   46          2   \n",
       "272590.0          PT  1980 1980-02-25      M   Braga      1.0   41          2   \n",
       "273913.0          PT  1985 1985-03-01      M   Braga      1.0   36          4   \n",
       "\n",
       "            Rating  Average_expense  ...  Health and beauty  \\\n",
       "cust_id                              ...                      \n",
       "269716.0  7.393333        990.62775  ...            432.978   \n",
       "268148.0  4.700000       1488.93150  ...              0.000   \n",
       "272883.0  7.071429       1623.16875  ...            628.173   \n",
       "272590.0  7.640000        196.46025  ...              0.000   \n",
       "273913.0  7.066667        636.21600  ...              0.000   \n",
       "\n",
       "          Home and lifestyle  Sports and travel           Fav_prod_line  Cash  \\\n",
       "cust_id                                                                         \n",
       "269716.0             598.731           759.5910  Electronic accessories   0.0   \n",
       "268148.0             745.836           742.8120      Home and lifestyle   0.0   \n",
       "272883.0             314.055             0.0000      Food and beverages   0.0   \n",
       "272590.0              14.679           104.7165     Fashion accessories   0.0   \n",
       "273913.0               0.000             0.0000     Fashion accessories   0.0   \n",
       "\n",
       "          Credit Card      MBWay  Paypal  Fav_Payment_Method  Tot_Amount  \n",
       "cust_id                                                                   \n",
       "269716.0       0.0000  3962.5110     0.0               MBWay   3962.5110  \n",
       "268148.0       0.0000  2977.8630     0.0               MBWay   2977.8630  \n",
       "272883.0    3036.5685   209.7690     0.0         Credit Card   3246.3375  \n",
       "272590.0       0.0000   392.9205     0.0               MBWay    392.9205  \n",
       "273913.0       0.0000  2544.8640     0.0               MBWay   2544.8640  \n",
       "\n",
       "[5 rows x 27 columns]"
      ]
     },
     "execution_count": 42,
     "metadata": {},
     "output_type": "execute_result"
    }
   ],
   "source": [
    "signature = gen_info\n",
    "for i in [frequency, avg_rate, avg_expense, channel, prod_line, tp_payment]:\n",
    "    signature = pd.merge(signature, i, on = 'cust_id')\n",
    "\n",
    "signature.set_index('cust_id',inplace=True)\n",
    "signature.rename(columns={'Total_amt':'Average_expense'},inplace=True)\n",
    "\n",
    "signature['Tot_Amount'] = trans_data.groupby('cust_id').sum()['Total_amt']\n",
    "\n",
    "signature.head(5)"
   ]
  },
  {
   "cell_type": "code",
   "execution_count": 43,
   "id": "fb61f202",
   "metadata": {},
   "outputs": [
    {
     "name": "stdout",
     "output_type": "stream",
     "text": [
      "<class 'pandas.core.frame.DataFrame'>\n",
      "Float64Index: 800 entries, 269716.0 to 270578.0\n",
      "Data columns (total 27 columns):\n",
      " #   Column                  Non-Null Count  Dtype         \n",
      "---  ------                  --------------  -----         \n",
      " 0   Nationality             800 non-null    object        \n",
      " 1   YOB                     800 non-null    int32         \n",
      " 2   DOB                     800 non-null    datetime64[ns]\n",
      " 3   Gender                  800 non-null    object        \n",
      " 4   Address                 800 non-null    object        \n",
      " 5   Kidhome                 800 non-null    float64       \n",
      " 6   Age                     800 non-null    int32         \n",
      " 7   frequency               800 non-null    int64         \n",
      " 8   Rating                  800 non-null    float64       \n",
      " 9   Average_expense         800 non-null    float64       \n",
      " 10  Catalog                 800 non-null    float64       \n",
      " 11  Online                  800 non-null    float64       \n",
      " 12  Store                   800 non-null    float64       \n",
      " 13  Fav_channel             800 non-null    object        \n",
      " 14  Electronic accessories  800 non-null    float64       \n",
      " 15  Fashion accessories     800 non-null    float64       \n",
      " 16  Food and beverages      800 non-null    float64       \n",
      " 17  Health and beauty       800 non-null    float64       \n",
      " 18  Home and lifestyle      800 non-null    float64       \n",
      " 19  Sports and travel       800 non-null    float64       \n",
      " 20  Fav_prod_line           800 non-null    object        \n",
      " 21  Cash                    800 non-null    float64       \n",
      " 22  Credit Card             800 non-null    float64       \n",
      " 23  MBWay                   800 non-null    float64       \n",
      " 24  Paypal                  800 non-null    float64       \n",
      " 25  Fav_Payment_Method      800 non-null    object        \n",
      " 26  Tot_Amount              800 non-null    float64       \n",
      "dtypes: datetime64[ns](1), float64(17), int32(2), int64(1), object(6)\n",
      "memory usage: 168.8+ KB\n"
     ]
    }
   ],
   "source": [
    "signature.info()"
   ]
  },
  {
   "cell_type": "markdown",
   "id": "a598b15b",
   "metadata": {},
   "source": [
    "### Test to check results"
   ]
  },
  {
   "cell_type": "code",
   "execution_count": 44,
   "id": "d587cee7",
   "metadata": {},
   "outputs": [
    {
     "data": {
      "text/plain": [
       "Channel\n",
       "Catalog    2.569365e+05\n",
       "Online     1.457433e+06\n",
       "Store      4.760396e+05\n",
       "Name: Total_amt, dtype: float64"
      ]
     },
     "execution_count": 44,
     "metadata": {},
     "output_type": "execute_result"
    }
   ],
   "source": [
    "np.round(trans_data.groupby('Channel')['Total_amt'].sum(),4)"
   ]
  },
  {
   "cell_type": "code",
   "execution_count": 45,
   "id": "b551f39e",
   "metadata": {},
   "outputs": [
    {
     "data": {
      "text/plain": [
       "Catalog    2.569365e+05\n",
       "Online     1.457433e+06\n",
       "Store      4.760396e+05\n",
       "dtype: float64"
      ]
     },
     "execution_count": 45,
     "metadata": {},
     "output_type": "execute_result"
    }
   ],
   "source": [
    "np.round(signature[['Catalog','Online','Store']].sum(),4)"
   ]
  },
  {
   "cell_type": "code",
   "execution_count": 46,
   "id": "1c016779",
   "metadata": {},
   "outputs": [
    {
     "name": "stdout",
     "output_type": "stream",
     "text": [
      "Testing Product line section:\n",
      " \n",
      "Transaction Table:\n",
      "Product line\n",
      "Electronic accessories    388603.3830\n",
      "Fashion accessories       366314.9070\n",
      "Food and beverages        351783.8205\n",
      "Health and beauty         243916.4910\n",
      "Home and lifestyle        421011.8430\n",
      "Sports and travel         418778.2935\n",
      "Name: Total_amt, dtype: float64\n",
      "\n",
      "Customer signature Table:\n",
      "Electronic accessories    388603.3830\n",
      "Fashion accessories       366314.9070\n",
      "Food and beverages        351783.8205\n",
      "Health and beauty         243916.4910\n",
      "Home and lifestyle        421011.8430\n",
      "Sports and travel         418778.2935\n",
      "dtype: float64\n",
      "-----------------------------------------------------------------------------------------------------------------------------\n",
      "Testing Type_payment section:\n",
      " \n",
      "Transaction Table:\n",
      "Type_payment\n",
      "Cash           2.471899e+03\n",
      "Credit Card    4.831316e+05\n",
      "MBWay          1.680954e+06\n",
      "Paypal         2.385129e+04\n",
      "Name: Total_amt, dtype: float64\n",
      "\n",
      "Customer signature Table:\n",
      "Cash           2.471899e+03\n",
      "Credit Card    4.831316e+05\n",
      "MBWay          1.680954e+06\n",
      "Paypal         2.385129e+04\n",
      "dtype: float64\n",
      "-----------------------------------------------------------------------------------------------------------------------------\n",
      "Testing Channel section:\n",
      " \n",
      "Transaction Table:\n",
      "Channel\n",
      "Catalog    2.569365e+05\n",
      "Online     1.457433e+06\n",
      "Store      4.760396e+05\n",
      "Name: Total_amt, dtype: float64\n",
      "\n",
      "Customer signature Table:\n",
      "Catalog    2.569365e+05\n",
      "Online     1.457433e+06\n",
      "Store      4.760396e+05\n",
      "dtype: float64\n",
      "-----------------------------------------------------------------------------------------------------------------------------\n"
     ]
    }
   ],
   "source": [
    "for i in ['Product line','Type_payment','Channel']:\n",
    "    print(f'Testing {i} section:')\n",
    "    print(' ')\n",
    "    print('Transaction Table:')\n",
    "    print(np.round(trans_data.groupby(f'{i}')['Total_amt'].sum(),4))\n",
    "    print('')\n",
    "    print('Customer signature Table:')\n",
    "    print(np.round(signature.loc[:,trans_data.groupby(f'{i}')['Total_amt'].sum().index.values].sum(),4))\n",
    "    print('-'*125)"
   ]
  },
  {
   "cell_type": "markdown",
   "id": "fd6a6fe3",
   "metadata": {},
   "source": [
    "### Decriptive Statistics: Signature"
   ]
  },
  {
   "cell_type": "markdown",
   "id": "094f069a",
   "metadata": {},
   "source": [
    "By looking at the descriptive statistics "
   ]
  },
  {
   "cell_type": "code",
   "execution_count": 47,
   "id": "d7f06a9c",
   "metadata": {},
   "outputs": [
    {
     "data": {
      "text/html": [
       "<div>\n",
       "<style scoped>\n",
       "    .dataframe tbody tr th:only-of-type {\n",
       "        vertical-align: middle;\n",
       "    }\n",
       "\n",
       "    .dataframe tbody tr th {\n",
       "        vertical-align: top;\n",
       "    }\n",
       "\n",
       "    .dataframe thead th {\n",
       "        text-align: right;\n",
       "    }\n",
       "</style>\n",
       "<table border=\"1\" class=\"dataframe\">\n",
       "  <thead>\n",
       "    <tr style=\"text-align: right;\">\n",
       "      <th></th>\n",
       "      <th>count</th>\n",
       "      <th>mean</th>\n",
       "      <th>std</th>\n",
       "      <th>min</th>\n",
       "      <th>25%</th>\n",
       "      <th>50%</th>\n",
       "      <th>75%</th>\n",
       "      <th>max</th>\n",
       "    </tr>\n",
       "  </thead>\n",
       "  <tbody>\n",
       "    <tr>\n",
       "      <th>YOB</th>\n",
       "      <td>800.0</td>\n",
       "      <td>1985.111250</td>\n",
       "      <td>6.857854</td>\n",
       "      <td>1974.0000</td>\n",
       "      <td>1980.000000</td>\n",
       "      <td>1984.000000</td>\n",
       "      <td>1992.000000</td>\n",
       "      <td>1997.00000</td>\n",
       "    </tr>\n",
       "    <tr>\n",
       "      <th>Kidhome</th>\n",
       "      <td>800.0</td>\n",
       "      <td>0.710000</td>\n",
       "      <td>0.454046</td>\n",
       "      <td>0.0000</td>\n",
       "      <td>0.000000</td>\n",
       "      <td>1.000000</td>\n",
       "      <td>1.000000</td>\n",
       "      <td>1.00000</td>\n",
       "    </tr>\n",
       "    <tr>\n",
       "      <th>Age</th>\n",
       "      <td>800.0</td>\n",
       "      <td>35.888750</td>\n",
       "      <td>6.857854</td>\n",
       "      <td>24.0000</td>\n",
       "      <td>29.000000</td>\n",
       "      <td>37.000000</td>\n",
       "      <td>41.000000</td>\n",
       "      <td>47.00000</td>\n",
       "    </tr>\n",
       "    <tr>\n",
       "      <th>frequency</th>\n",
       "      <td>800.0</td>\n",
       "      <td>2.288750</td>\n",
       "      <td>0.702489</td>\n",
       "      <td>1.0000</td>\n",
       "      <td>2.000000</td>\n",
       "      <td>2.000000</td>\n",
       "      <td>3.000000</td>\n",
       "      <td>6.00000</td>\n",
       "    </tr>\n",
       "    <tr>\n",
       "      <th>Rating</th>\n",
       "      <td>800.0</td>\n",
       "      <td>6.916597</td>\n",
       "      <td>1.083332</td>\n",
       "      <td>4.0000</td>\n",
       "      <td>6.238333</td>\n",
       "      <td>6.883333</td>\n",
       "      <td>7.563542</td>\n",
       "      <td>9.90000</td>\n",
       "    </tr>\n",
       "    <tr>\n",
       "      <th>Average_expense</th>\n",
       "      <td>800.0</td>\n",
       "      <td>1210.277611</td>\n",
       "      <td>991.673723</td>\n",
       "      <td>10.6785</td>\n",
       "      <td>466.268250</td>\n",
       "      <td>960.295000</td>\n",
       "      <td>1713.159525</td>\n",
       "      <td>6801.18075</td>\n",
       "    </tr>\n",
       "    <tr>\n",
       "      <th>Catalog</th>\n",
       "      <td>800.0</td>\n",
       "      <td>321.170614</td>\n",
       "      <td>611.289008</td>\n",
       "      <td>0.0000</td>\n",
       "      <td>0.000000</td>\n",
       "      <td>0.000000</td>\n",
       "      <td>393.372000</td>\n",
       "      <td>4712.24250</td>\n",
       "    </tr>\n",
       "    <tr>\n",
       "      <th>Online</th>\n",
       "      <td>800.0</td>\n",
       "      <td>1821.790858</td>\n",
       "      <td>2048.742379</td>\n",
       "      <td>0.0000</td>\n",
       "      <td>362.383875</td>\n",
       "      <td>1192.947000</td>\n",
       "      <td>2632.966875</td>\n",
       "      <td>13602.36150</td>\n",
       "    </tr>\n",
       "    <tr>\n",
       "      <th>Store</th>\n",
       "      <td>800.0</td>\n",
       "      <td>595.049451</td>\n",
       "      <td>1127.522693</td>\n",
       "      <td>0.0000</td>\n",
       "      <td>0.000000</td>\n",
       "      <td>0.000000</td>\n",
       "      <td>727.823250</td>\n",
       "      <td>8673.38850</td>\n",
       "    </tr>\n",
       "    <tr>\n",
       "      <th>Electronic accessories</th>\n",
       "      <td>800.0</td>\n",
       "      <td>485.754229</td>\n",
       "      <td>920.335881</td>\n",
       "      <td>0.0000</td>\n",
       "      <td>0.000000</td>\n",
       "      <td>0.000000</td>\n",
       "      <td>658.056000</td>\n",
       "      <td>7539.58800</td>\n",
       "    </tr>\n",
       "    <tr>\n",
       "      <th>Fashion accessories</th>\n",
       "      <td>800.0</td>\n",
       "      <td>457.893634</td>\n",
       "      <td>837.682658</td>\n",
       "      <td>0.0000</td>\n",
       "      <td>0.000000</td>\n",
       "      <td>0.000000</td>\n",
       "      <td>623.878500</td>\n",
       "      <td>7298.55000</td>\n",
       "    </tr>\n",
       "    <tr>\n",
       "      <th>Food and beverages</th>\n",
       "      <td>800.0</td>\n",
       "      <td>439.729776</td>\n",
       "      <td>793.010825</td>\n",
       "      <td>0.0000</td>\n",
       "      <td>0.000000</td>\n",
       "      <td>0.000000</td>\n",
       "      <td>671.790000</td>\n",
       "      <td>10575.68400</td>\n",
       "    </tr>\n",
       "    <tr>\n",
       "      <th>Health and beauty</th>\n",
       "      <td>800.0</td>\n",
       "      <td>304.895614</td>\n",
       "      <td>610.906714</td>\n",
       "      <td>0.0000</td>\n",
       "      <td>0.000000</td>\n",
       "      <td>0.000000</td>\n",
       "      <td>375.965625</td>\n",
       "      <td>5031.43200</td>\n",
       "    </tr>\n",
       "    <tr>\n",
       "      <th>Home and lifestyle</th>\n",
       "      <td>800.0</td>\n",
       "      <td>526.264804</td>\n",
       "      <td>1034.051237</td>\n",
       "      <td>0.0000</td>\n",
       "      <td>0.000000</td>\n",
       "      <td>98.784000</td>\n",
       "      <td>688.621500</td>\n",
       "      <td>9462.09600</td>\n",
       "    </tr>\n",
       "    <tr>\n",
       "      <th>Sports and travel</th>\n",
       "      <td>800.0</td>\n",
       "      <td>523.472867</td>\n",
       "      <td>990.375677</td>\n",
       "      <td>0.0000</td>\n",
       "      <td>0.000000</td>\n",
       "      <td>0.000000</td>\n",
       "      <td>737.761500</td>\n",
       "      <td>9429.00000</td>\n",
       "    </tr>\n",
       "    <tr>\n",
       "      <th>Cash</th>\n",
       "      <td>800.0</td>\n",
       "      <td>3.089874</td>\n",
       "      <td>64.897586</td>\n",
       "      <td>0.0000</td>\n",
       "      <td>0.000000</td>\n",
       "      <td>0.000000</td>\n",
       "      <td>0.000000</td>\n",
       "      <td>1634.47200</td>\n",
       "    </tr>\n",
       "    <tr>\n",
       "      <th>Credit Card</th>\n",
       "      <td>800.0</td>\n",
       "      <td>603.914522</td>\n",
       "      <td>1131.241643</td>\n",
       "      <td>0.0000</td>\n",
       "      <td>0.000000</td>\n",
       "      <td>0.000000</td>\n",
       "      <td>754.821375</td>\n",
       "      <td>8673.38850</td>\n",
       "    </tr>\n",
       "    <tr>\n",
       "      <th>MBWay</th>\n",
       "      <td>800.0</td>\n",
       "      <td>2101.192419</td>\n",
       "      <td>2107.650608</td>\n",
       "      <td>0.0000</td>\n",
       "      <td>573.008625</td>\n",
       "      <td>1429.370250</td>\n",
       "      <td>2969.011500</td>\n",
       "      <td>13602.36150</td>\n",
       "    </tr>\n",
       "    <tr>\n",
       "      <th>Paypal</th>\n",
       "      <td>800.0</td>\n",
       "      <td>29.814107</td>\n",
       "      <td>218.229783</td>\n",
       "      <td>0.0000</td>\n",
       "      <td>0.000000</td>\n",
       "      <td>0.000000</td>\n",
       "      <td>0.000000</td>\n",
       "      <td>3909.63300</td>\n",
       "    </tr>\n",
       "    <tr>\n",
       "      <th>Tot_Amount</th>\n",
       "      <td>800.0</td>\n",
       "      <td>2738.010922</td>\n",
       "      <td>2293.100392</td>\n",
       "      <td>10.6785</td>\n",
       "      <td>1004.703000</td>\n",
       "      <td>2062.578000</td>\n",
       "      <td>3840.603375</td>\n",
       "      <td>13602.36150</td>\n",
       "    </tr>\n",
       "  </tbody>\n",
       "</table>\n",
       "</div>"
      ],
      "text/plain": [
       "                        count         mean          std        min  \\\n",
       "YOB                     800.0  1985.111250     6.857854  1974.0000   \n",
       "Kidhome                 800.0     0.710000     0.454046     0.0000   \n",
       "Age                     800.0    35.888750     6.857854    24.0000   \n",
       "frequency               800.0     2.288750     0.702489     1.0000   \n",
       "Rating                  800.0     6.916597     1.083332     4.0000   \n",
       "Average_expense         800.0  1210.277611   991.673723    10.6785   \n",
       "Catalog                 800.0   321.170614   611.289008     0.0000   \n",
       "Online                  800.0  1821.790858  2048.742379     0.0000   \n",
       "Store                   800.0   595.049451  1127.522693     0.0000   \n",
       "Electronic accessories  800.0   485.754229   920.335881     0.0000   \n",
       "Fashion accessories     800.0   457.893634   837.682658     0.0000   \n",
       "Food and beverages      800.0   439.729776   793.010825     0.0000   \n",
       "Health and beauty       800.0   304.895614   610.906714     0.0000   \n",
       "Home and lifestyle      800.0   526.264804  1034.051237     0.0000   \n",
       "Sports and travel       800.0   523.472867   990.375677     0.0000   \n",
       "Cash                    800.0     3.089874    64.897586     0.0000   \n",
       "Credit Card             800.0   603.914522  1131.241643     0.0000   \n",
       "MBWay                   800.0  2101.192419  2107.650608     0.0000   \n",
       "Paypal                  800.0    29.814107   218.229783     0.0000   \n",
       "Tot_Amount              800.0  2738.010922  2293.100392    10.6785   \n",
       "\n",
       "                                25%          50%          75%          max  \n",
       "YOB                     1980.000000  1984.000000  1992.000000   1997.00000  \n",
       "Kidhome                    0.000000     1.000000     1.000000      1.00000  \n",
       "Age                       29.000000    37.000000    41.000000     47.00000  \n",
       "frequency                  2.000000     2.000000     3.000000      6.00000  \n",
       "Rating                     6.238333     6.883333     7.563542      9.90000  \n",
       "Average_expense          466.268250   960.295000  1713.159525   6801.18075  \n",
       "Catalog                    0.000000     0.000000   393.372000   4712.24250  \n",
       "Online                   362.383875  1192.947000  2632.966875  13602.36150  \n",
       "Store                      0.000000     0.000000   727.823250   8673.38850  \n",
       "Electronic accessories     0.000000     0.000000   658.056000   7539.58800  \n",
       "Fashion accessories        0.000000     0.000000   623.878500   7298.55000  \n",
       "Food and beverages         0.000000     0.000000   671.790000  10575.68400  \n",
       "Health and beauty          0.000000     0.000000   375.965625   5031.43200  \n",
       "Home and lifestyle         0.000000    98.784000   688.621500   9462.09600  \n",
       "Sports and travel          0.000000     0.000000   737.761500   9429.00000  \n",
       "Cash                       0.000000     0.000000     0.000000   1634.47200  \n",
       "Credit Card                0.000000     0.000000   754.821375   8673.38850  \n",
       "MBWay                    573.008625  1429.370250  2969.011500  13602.36150  \n",
       "Paypal                     0.000000     0.000000     0.000000   3909.63300  \n",
       "Tot_Amount              1004.703000  2062.578000  3840.603375  13602.36150  "
      ]
     },
     "execution_count": 47,
     "metadata": {},
     "output_type": "execute_result"
    }
   ],
   "source": [
    "signature.describe().T"
   ]
  },
  {
   "cell_type": "code",
   "execution_count": 48,
   "id": "c3135e9c",
   "metadata": {},
   "outputs": [
    {
     "data": {
      "image/png": "[encoded data removed]",
      "text/plain": [
       "<Figure size 1440x792 with 20 Axes>"
      ]
     },
     "metadata": {},
     "output_type": "display_data"
    }
   ],
   "source": [
    "def histogram(data):\n",
    "    from math import ceil\n",
    "    metric_features = data.select_dtypes(include=np.number).set_index(data.index).columns\n",
    "    sns.set()\n",
    "    fig, axes = plt.subplots(2, ceil(len(metric_features) / 2), figsize=(20, 11))\n",
    "    for ax, feat in zip(axes.flatten(), metric_features):\n",
    "\n",
    "        sns.histplot(data[feat], ax = ax)\n",
    "        #plt.title(feat)\n",
    "\n",
    "    title = \"Numeric Variables' Histograms\"\n",
    "\n",
    "    plt.suptitle(title)\n",
    "\n",
    "    plt.show()\n",
    "histogram(signature)"
   ]
  },
  {
   "cell_type": "markdown",
   "id": "7c83475b",
   "metadata": {},
   "source": [
    "### Some visualizations to get to know better the data"
   ]
  },
  {
   "cell_type": "markdown",
   "id": "6b5f4b0f",
   "metadata": {},
   "source": [
    "### Insights extracted from the transactional table"
   ]
  },
  {
   "cell_type": "markdown",
   "id": "639aa67e",
   "metadata": {},
   "source": [
    "Total Amount grouped by Month without taking into consideration the years.\n",
    "By looking at the graphic its possible to obseverve that by far december is most lucrative month for the company, this can be considered normal since it's the month where people tend to buy more things and spend more money."
   ]
  },
  {
   "cell_type": "code",
   "execution_count": 49,
   "id": "ae642d71",
   "metadata": {},
   "outputs": [
    {
     "data": {
      "image/png": "[encoded data removed]",
      "text/plain": [
       "<Figure size 432x288 with 1 Axes>"
      ]
     },
     "metadata": {},
     "output_type": "display_data"
    }
   ],
   "source": [
    "def groupbyMonth (data):\n",
    "    data1 = data.copy()\n",
    "    data.loc[:,'month'] = pd.DatetimeIndex((trans_data['tran_date'].astype(str))).month\n",
    "    data.loc[:,'year'] = pd.DatetimeIndex((trans_data['tran_date'].astype(str))).year\n",
    "    plot_data = data.groupby(['month']).sum()['Total_amt']\n",
    "    plt.figure()\n",
    "    plt.barh(width=plot_data.values, y =plot_data.index )\n",
    "    plt.show()\n",
    "groupbyMonth(trans_data)"
   ]
  },
  {
   "cell_type": "markdown",
   "id": "2060eb57",
   "metadata": {},
   "source": [
    "Total amount grouped by both months and years. For the years 2018 and 2020 the results aren't that interesting due to lack of data from most months, In 2018 we only have data for November and December and for 2020 we only have data for January.\n",
    "The results from 2019 (the only year with complete data) are similar to the results shown above with December being the most lucrative month for the company followed by March (3), July (7) and Semptember (9). The differences between December and the other months is much smaller in the 2019 graphic when compared to the graphic shown above because in the graphic above we are also taking into consideration the sales of 2018 that has high value of sales in December."
   ]
  },
  {
   "cell_type": "code",
   "execution_count": 50,
   "id": "4069b42d",
   "metadata": {},
   "outputs": [
    {
     "name": "stdout",
     "output_type": "stream",
     "text": [
      "2018\n",
      "There is data for 2 months in 2018\n",
      "The number of the month with highest sales in 2018 is 12\n"
     ]
    },
    {
     "data": {
      "image/png": "[encoded data removed]",
      "text/plain": [
       "<Figure size 432x288 with 1 Axes>"
      ]
     },
     "metadata": {},
     "output_type": "display_data"
    },
    {
     "name": "stdout",
     "output_type": "stream",
     "text": [
      "2019\n",
      "There is data for 12 months in 2019\n",
      "The number of the month with highest sales in 2019 is 12\n"
     ]
    },
    {
     "data": {
      "image/png": "[encoded data removed]",
      "text/plain": [
       "<Figure size 432x288 with 1 Axes>"
      ]
     },
     "metadata": {},
     "output_type": "display_data"
    },
    {
     "name": "stdout",
     "output_type": "stream",
     "text": [
      "2020\n",
      "There is data for 1 months in 2020\n",
      "The number of the month with highest sales in 2020 is 1\n"
     ]
    },
    {
     "data": {
      "image/png": "[encoded data removed]",
      "text/plain": [
       "<Figure size 432x288 with 1 Axes>"
      ]
     },
     "metadata": {},
     "output_type": "display_data"
    }
   ],
   "source": [
    "def groupbyMonth_year (data):\n",
    "    data1 = data.copy()\n",
    "    data.loc[:,'month'] = pd.DatetimeIndex((trans_data['tran_date'].astype(str))).month\n",
    "    data.loc[:,'year'] = pd.DatetimeIndex((trans_data['tran_date'].astype(str))).year\n",
    "    for i in [2018,2019,2020]:\n",
    "        print(i)\n",
    "        plot_data = data.loc[data['year']==i].groupby(['month']).sum()['Total_amt']\n",
    "        print(f'There is data for {len(plot_data.index)} months in {i}')\n",
    "        print(f'The number of the month with highest sales in {i} is {plot_data.loc[plot_data.values == plot_data.max()].index[0]}')\n",
    "        plt.figure()\n",
    "        plt.barh(width=plot_data.values, y =np.round(plot_data.index,1 ))\n",
    "        plt.show()\n",
    "groupbyMonth_year(trans_data)"
   ]
  },
  {
   "cell_type": "markdown",
   "id": "f8866624",
   "metadata": {},
   "source": [
    "The graphics below calculate the total amount of money received by the company taking into consideration the different sectors that the company presents (Product Line, Type of payment and Channel).  \n",
    "Regarding the Product Line, the most popular categories among customers (categories where customers spend most money) are the 'Sports and Travel' and 'Home and Lifestyle' and the least popular category, by far, is Health and Beauty. When looking at payment methods, it's easy to see that the most lucrative payment method for the company is by far MBWay and regarding channels it's possible to see that the majority of the customers buys online making it the most lucrstive channel that the company has."
   ]
  },
  {
   "cell_type": "code",
   "execution_count": 51,
   "id": "ab10e9b6",
   "metadata": {
    "scrolled": true
   },
   "outputs": [
    {
     "name": "stdout",
     "output_type": "stream",
     "text": [
      "Product line\n"
     ]
    },
    {
     "data": {
      "image/png": "[encoded data removed]",
      "text/plain": [
       "<Figure size 432x288 with 1 Axes>"
      ]
     },
     "metadata": {},
     "output_type": "display_data"
    },
    {
     "name": "stdout",
     "output_type": "stream",
     "text": [
      "-----------------------------------------------------------------------------------------------------------------------------\n",
      "Type_payment\n"
     ]
    },
    {
     "data": {
      "image/png": "[encoded data removed]",
      "text/plain": [
       "<Figure size 432x288 with 1 Axes>"
      ]
     },
     "metadata": {},
     "output_type": "display_data"
    },
    {
     "name": "stdout",
     "output_type": "stream",
     "text": [
      "-----------------------------------------------------------------------------------------------------------------------------\n",
      "Channel\n"
     ]
    },
    {
     "data": {
      "image/png": "[encoded data removed]",
      "text/plain": [
       "<Figure size 432x288 with 1 Axes>"
      ]
     },
     "metadata": {},
     "output_type": "display_data"
    },
    {
     "name": "stdout",
     "output_type": "stream",
     "text": [
      "-----------------------------------------------------------------------------------------------------------------------------\n"
     ]
    }
   ],
   "source": [
    "for index , i in enumerate(['Product line','Type_payment','Channel']):\n",
    "    print(i)\n",
    "    plt.figure(index)\n",
    "    plt.barh(width=trans_data.groupby(i).sum()['Total_amt'].values, \n",
    "            y=trans_data.groupby(i).sum()['Total_amt'].index)\n",
    "    plt.show()\n",
    "    print('-'*125)"
   ]
  },
  {
   "cell_type": "markdown",
   "id": "84cf6bec",
   "metadata": {},
   "source": [
    "### Insights extracted from the signature"
   ]
  },
  {
   "cell_type": "markdown",
   "id": "a56eebc7",
   "metadata": {},
   "source": [
    "The graphics below count the number of customers that fall into different categories with the goal of getitng to know better the customers and how they interact with the store.  \n",
    "- The 1st graphic represents the distribution of the clients regarding their gender, and it's possible to see that the store has more male customers than female ones, althought this diffence isn't very substantial. (1)  \n",
    "- The 2nd graphic represents the distribution of the company regarding Nationality, by looking at the graphic it's possible to see that the majority of the customers are from Portugal. (note: it's important to take into consideration that the variable Nationality had a lot of missing values in the Pre-Processing stage which might bias the resutlts towards having more Portuguese people when compared to other countries).(2)   \n",
    "- The 3rd graphic represents how the companies customers are distributed around the country, being possible to observe that the majority pf the clients lives in Lisbon and all the other cities have similar values.  \n",
    "- The last three graphic represent represent the distribution of the customers regarding their favorite sector of the company (eg: The 1st graphic counts the number of clients by their favorite Product Line).  \n",
    "By looking at graphic 4.1, its possible to see that the Home and lifestyle category is the most famous among customers, however this difference isn't very huge to the other categories. By looking at the following 2 graphics (graphic 4.2 and graphic 4.3) it's possible to detect huge differences in preferences since customers tend to choose MBway to pay to conclude their transactions  and most of the customers prefers to use the online store to buy products from the company. \n",
    "\n"
   ]
  },
  {
   "cell_type": "code",
   "execution_count": 52,
   "id": "efd04e92",
   "metadata": {
    "collapsed": true
   },
   "outputs": [
    {
     "name": "stdout",
     "output_type": "stream",
     "text": [
      "Graphic nr 1\n"
     ]
    },
    {
     "data": {
      "image/png": "[encoded data removed]",
      "text/plain": [
       "<Figure size 432x288 with 1 Axes>"
      ]
     },
     "metadata": {},
     "output_type": "display_data"
    },
    {
     "name": "stdout",
     "output_type": "stream",
     "text": [
      "-----------------------------------------------------------------------------------------------------------------------------\n",
      "Graphic nr 2\n"
     ]
    },
    {
     "data": {
      "image/png": "[encoded data removed]",
      "text/plain": [
       "<Figure size 432x288 with 1 Axes>"
      ]
     },
     "metadata": {},
     "output_type": "display_data"
    },
    {
     "name": "stdout",
     "output_type": "stream",
     "text": [
      "-----------------------------------------------------------------------------------------------------------------------------\n",
      "Graphic nr 3\n"
     ]
    },
    {
     "data": {
      "image/png": "[encoded data removed]",
      "text/plain": [
       "<Figure size 432x288 with 1 Axes>"
      ]
     },
     "metadata": {},
     "output_type": "display_data"
    },
    {
     "name": "stdout",
     "output_type": "stream",
     "text": [
      "-----------------------------------------------------------------------------------------------------------------------------\n",
      "Graphic nr 4.1\n"
     ]
    },
    {
     "data": {
      "image/png": "[encoded data removed]",
      "text/plain": [
       "<Figure size 432x288 with 1 Axes>"
      ]
     },
     "metadata": {},
     "output_type": "display_data"
    },
    {
     "name": "stdout",
     "output_type": "stream",
     "text": [
      "-----------------------------------------------------------------------------------------------------------------------------\n",
      "Graphic nr 4.2\n"
     ]
    },
    {
     "data": {
      "image/png": "[encoded data removed]",
      "text/plain": [
       "<Figure size 432x288 with 1 Axes>"
      ]
     },
     "metadata": {},
     "output_type": "display_data"
    },
    {
     "name": "stdout",
     "output_type": "stream",
     "text": [
      "-----------------------------------------------------------------------------------------------------------------------------\n",
      "Graphic nr 4.3\n"
     ]
    },
    {
     "data": {
      "image/png": "[encoded data removed]",
      "text/plain": [
       "<Figure size 432x288 with 1 Axes>"
      ]
     },
     "metadata": {},
     "output_type": "display_data"
    },
    {
     "name": "stdout",
     "output_type": "stream",
     "text": [
      "-----------------------------------------------------------------------------------------------------------------------------\n"
     ]
    }
   ],
   "source": [
    "for i in ['Age']: \n",
    "    for ii, index in zip(['Gender','Nationality','Address','Fav_prod_line','Fav_Payment_Method','Fav_channel'], [1,2,3,4.1,4.2,4.3]):\n",
    "        print(f'Graphic nr {index}')\n",
    "        plt.figure()\n",
    "        plt.barh(width= (signature.groupby(ii).count()[i].values), \n",
    "                 y=(signature.groupby(ii).count()[i].index))\n",
    "        plt.title(f'Nro of clients per {ii}')\n",
    "        plt.show()\n",
    "        print('-'*125)"
   ]
  },
  {
   "cell_type": "code",
   "execution_count": null,
   "id": "2537cac4",
   "metadata": {},
   "outputs": [],
   "source": [
    "# signature.to_csv(r'signature_table_R20181128.csv')"
   ]
  }
 ],
 "metadata": {
  "kernelspec": {
   "display_name": "Python 3 (ipykernel)",
   "language": "python",
   "name": "python3"
  },
  "language_info": {
   "codemirror_mode": {
    "name": "ipython",
    "version": 3
   },
   "file_extension": ".py",
   "mimetype": "text/x-python",
   "name": "python",
   "nbconvert_exporter": "python",
   "pygments_lexer": "ipython3",
   "version": "3.8.11"
  }
 },
 "nbformat": 4,
 "nbformat_minor": 5
}
