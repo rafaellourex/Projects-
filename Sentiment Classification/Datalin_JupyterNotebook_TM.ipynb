{
 "cells": [
  {
   "cell_type": "markdown",
   "id": "e2a61a0a",
   "metadata": {},
   "source": [
    "# Datalin\n",
    "\n",
    "\n",
    "\n",
    "####  Alice Vale - r20181074\n",
    "####  Eva Ferrer -  r20181110\n",
    "####  Rafael Sequeira - r20181128\n",
    "####  Raquel Sousa - r20181102\n"
   ]
  },
  {
   "cell_type": "markdown",
   "id": "01618eda",
   "metadata": {},
   "source": [
    "Import Libraries"
   ]
  },
  {
   "cell_type": "code",
   "execution_count": 1,
   "id": "a511fd67",
   "metadata": {},
   "outputs": [],
   "source": [
    "import pandas as pd\n",
    "import numpy as np \n",
    "import seaborn as sns\n",
    "import matplotlib.pyplot as plt\n",
    "\n",
    "\n",
    "import warnings\n",
    "warnings.filterwarnings('ignore')"
   ]
  },
  {
   "cell_type": "markdown",
   "id": "ba898724",
   "metadata": {},
   "source": [
    "#### Set Preferences"
   ]
  },
  {
   "cell_type": "code",
   "execution_count": 2,
   "id": "af43f484",
   "metadata": {},
   "outputs": [],
   "source": [
    "sns.set_style('whitegrid')"
   ]
  },
  {
   "cell_type": "markdown",
   "id": "d8906ae8",
   "metadata": {},
   "source": [
    "#### Import Data"
   ]
  },
  {
   "cell_type": "code",
   "execution_count": 3,
   "id": "bb687b2d",
   "metadata": {},
   "outputs": [
    {
     "name": "stdout",
     "output_type": "stream",
     "text": [
      "There are 14000 rows for training and 1000 for test\n"
     ]
    }
   ],
   "source": [
    "train = pd.read_csv('training_set.txt',sep='\t')\n",
    "dev = pd.read_csv('dev_set.txt',sep='\t')\n",
    "test = pd.read_csv('test_set.txt',sep='\t')\n",
    "\n",
    "print(f'There are {len(train)} rows for training and {len(dev)} for test')"
   ]
  },
  {
   "cell_type": "code",
   "execution_count": 4,
   "id": "bfa26022",
   "metadata": {
    "scrolled": false
   },
   "outputs": [
    {
     "data": {
      "text/html": [
       "<div>\n",
       "<style scoped>\n",
       "    .dataframe tbody tr th:only-of-type {\n",
       "        vertical-align: middle;\n",
       "    }\n",
       "\n",
       "    .dataframe tbody tr th {\n",
       "        vertical-align: top;\n",
       "    }\n",
       "\n",
       "    .dataframe thead th {\n",
       "        text-align: right;\n",
       "    }\n",
       "</style>\n",
       "<table border=\"1\" class=\"dataframe\">\n",
       "  <thead>\n",
       "    <tr style=\"text-align: right;\">\n",
       "      <th></th>\n",
       "      <th>sentence</th>\n",
       "      <th>emotion</th>\n",
       "    </tr>\n",
       "  </thead>\n",
       "  <tbody>\n",
       "    <tr>\n",
       "      <th>0</th>\n",
       "      <td>I'm too old to be traded in .</td>\n",
       "      <td>6</td>\n",
       "    </tr>\n",
       "    <tr>\n",
       "      <th>1</th>\n",
       "      <td>Mother said you could always tell a lady by he...</td>\n",
       "      <td>8</td>\n",
       "    </tr>\n",
       "    <tr>\n",
       "      <th>2</th>\n",
       "      <td>I always said I'd leave off when the time came .</td>\n",
       "      <td>6</td>\n",
       "    </tr>\n",
       "    <tr>\n",
       "      <th>3</th>\n",
       "      <td>He'll be safe with me .</td>\n",
       "      <td>2</td>\n",
       "    </tr>\n",
       "    <tr>\n",
       "      <th>4</th>\n",
       "      <td>Lay off .</td>\n",
       "      <td>1</td>\n",
       "    </tr>\n",
       "  </tbody>\n",
       "</table>\n",
       "</div>"
      ],
      "text/plain": [
       "                                            sentence  emotion\n",
       "0                      I'm too old to be traded in .        6\n",
       "1  Mother said you could always tell a lady by he...        8\n",
       "2   I always said I'd leave off when the time came .        6\n",
       "3                            He'll be safe with me .        2\n",
       "4                                          Lay off .        1"
      ]
     },
     "execution_count": 4,
     "metadata": {},
     "output_type": "execute_result"
    }
   ],
   "source": [
    "train.head(5)"
   ]
  },
  {
   "cell_type": "code",
   "execution_count": 5,
   "id": "7fdcb36e",
   "metadata": {},
   "outputs": [
    {
     "data": {
      "text/html": [
       "<div>\n",
       "<style scoped>\n",
       "    .dataframe tbody tr th:only-of-type {\n",
       "        vertical-align: middle;\n",
       "    }\n",
       "\n",
       "    .dataframe tbody tr th {\n",
       "        vertical-align: top;\n",
       "    }\n",
       "\n",
       "    .dataframe thead th {\n",
       "        text-align: right;\n",
       "    }\n",
       "</style>\n",
       "<table border=\"1\" class=\"dataframe\">\n",
       "  <thead>\n",
       "    <tr style=\"text-align: right;\">\n",
       "      <th></th>\n",
       "      <th>sentence</th>\n",
       "      <th>emotion</th>\n",
       "    </tr>\n",
       "  </thead>\n",
       "  <tbody>\n",
       "    <tr>\n",
       "      <th>0</th>\n",
       "      <td>What happens to the gold in our safe ?</td>\n",
       "      <td>4</td>\n",
       "    </tr>\n",
       "    <tr>\n",
       "      <th>1</th>\n",
       "      <td>Natural to get cold feet .</td>\n",
       "      <td>8</td>\n",
       "    </tr>\n",
       "    <tr>\n",
       "      <th>2</th>\n",
       "      <td>Not very lucky , is he ?</td>\n",
       "      <td>7</td>\n",
       "    </tr>\n",
       "    <tr>\n",
       "      <th>3</th>\n",
       "      <td>I'm just a little anxious to get up there and ...</td>\n",
       "      <td>2</td>\n",
       "    </tr>\n",
       "    <tr>\n",
       "      <th>4</th>\n",
       "      <td>Did you think we don't know about your affair ...</td>\n",
       "      <td>1</td>\n",
       "    </tr>\n",
       "  </tbody>\n",
       "</table>\n",
       "</div>"
      ],
      "text/plain": [
       "                                            sentence  emotion\n",
       "0             What happens to the gold in our safe ?        4\n",
       "1                         Natural to get cold feet .        8\n",
       "2                           Not very lucky , is he ?        7\n",
       "3  I'm just a little anxious to get up there and ...        2\n",
       "4  Did you think we don't know about your affair ...        1"
      ]
     },
     "execution_count": 5,
     "metadata": {},
     "output_type": "execute_result"
    }
   ],
   "source": [
    "dev.head(5)"
   ]
  },
  {
   "cell_type": "code",
   "execution_count": 6,
   "id": "fad9e4ec",
   "metadata": {},
   "outputs": [
    {
     "data": {
      "text/html": [
       "<div>\n",
       "<style scoped>\n",
       "    .dataframe tbody tr th:only-of-type {\n",
       "        vertical-align: middle;\n",
       "    }\n",
       "\n",
       "    .dataframe tbody tr th {\n",
       "        vertical-align: top;\n",
       "    }\n",
       "\n",
       "    .dataframe thead th {\n",
       "        text-align: right;\n",
       "    }\n",
       "</style>\n",
       "<table border=\"1\" class=\"dataframe\">\n",
       "  <thead>\n",
       "    <tr style=\"text-align: right;\">\n",
       "      <th></th>\n",
       "      <th>sentence</th>\n",
       "    </tr>\n",
       "  </thead>\n",
       "  <tbody>\n",
       "    <tr>\n",
       "      <th>0</th>\n",
       "      <td>Come , let's go get that automobile .</td>\n",
       "    </tr>\n",
       "    <tr>\n",
       "      <th>1</th>\n",
       "      <td>Well , some other time , then ?</td>\n",
       "    </tr>\n",
       "    <tr>\n",
       "      <th>2</th>\n",
       "      <td>He's in trouble . Boy ?</td>\n",
       "    </tr>\n",
       "    <tr>\n",
       "      <th>3</th>\n",
       "      <td>Criminal gang unit to take control .</td>\n",
       "    </tr>\n",
       "    <tr>\n",
       "      <th>4</th>\n",
       "      <td>By Molto . No discussion . Interview .</td>\n",
       "    </tr>\n",
       "  </tbody>\n",
       "</table>\n",
       "</div>"
      ],
      "text/plain": [
       "                                 sentence\n",
       "0   Come , let's go get that automobile .\n",
       "1         Well , some other time , then ?\n",
       "2                 He's in trouble . Boy ?\n",
       "3    Criminal gang unit to take control .\n",
       "4  By Molto . No discussion . Interview ."
      ]
     },
     "execution_count": 6,
     "metadata": {},
     "output_type": "execute_result"
    }
   ],
   "source": [
    "test.head(5)"
   ]
  },
  {
   "cell_type": "markdown",
   "id": "d71a6880",
   "metadata": {},
   "source": [
    "#### Create DF for exploration"
   ]
  },
  {
   "cell_type": "code",
   "execution_count": 4,
   "id": "15409c28",
   "metadata": {},
   "outputs": [],
   "source": [
    "explor = train.copy()\n",
    "label_list = ['anger','antecipation','disgust','fear','joy','sadness','surprise','trust']\n",
    "for i,ii in zip((train['emotion'].sort_values()).unique(),label_list ):\n",
    "    explor.loc[explor['emotion']==i,'label'] = ii\n",
    "    "
   ]
  },
  {
   "cell_type": "markdown",
   "id": "31a6211a",
   "metadata": {},
   "source": [
    "##### Target Distribution"
   ]
  },
  {
   "cell_type": "code",
   "execution_count": 5,
   "id": "a82301bc",
   "metadata": {},
   "outputs": [
    {
     "data": {
      "text/plain": [
       "Text(0.5, 1.0, 'Train target Distribution')"
      ]
     },
     "execution_count": 5,
     "metadata": {},
     "output_type": "execute_result"
    },
    {
     "data": {
      "image/png": "[encoded data removed]",
      "text/plain": [
       "<Figure size 720x504 with 1 Axes>"
      ]
     },
     "metadata": {},
     "output_type": "display_data"
    }
   ],
   "source": [
    "(explor['label'].value_counts()).plot.bar(figsize = (10,7))\n",
    "plt.xticks(rotation=0)\n",
    "plt.title('Train target Distribution')"
   ]
  },
  {
   "cell_type": "code",
   "execution_count": 6,
   "id": "8c342db1",
   "metadata": {},
   "outputs": [
    {
     "data": {
      "text/plain": [
       "Text(0.5, 1.0, 'Train target Distribution')"
      ]
     },
     "execution_count": 6,
     "metadata": {},
     "output_type": "execute_result"
    },
    {
     "data": {
      "image/png": "[encoded data removed]",
      "text/plain": [
       "<Figure size 720x504 with 1 Axes>"
      ]
     },
     "metadata": {},
     "output_type": "display_data"
    }
   ],
   "source": [
    "(train['emotion'].value_counts()/ len(train)).plot.bar(figsize = (10,7))\n",
    "plt.xticks(rotation=0)\n",
    "plt.title('Train target Distribution')"
   ]
  },
  {
   "cell_type": "code",
   "execution_count": 41,
   "id": "2350aeab",
   "metadata": {},
   "outputs": [
    {
     "data": {
      "text/plain": [
       "Text(0.5, 1.0, 'Dev target Distribution')"
      ]
     },
     "execution_count": 41,
     "metadata": {},
     "output_type": "execute_result"
    },
    {
     "data": {
      "image/png": "[encoded data removed]",
      "text/plain": [
       "<Figure size 720x504 with 1 Axes>"
      ]
     },
     "metadata": {},
     "output_type": "display_data"
    }
   ],
   "source": [
    "(dev['emotion'].value_counts() / len(dev)).plot.bar(figsize = (10,7))\n",
    "plt.xticks(rotation=0)\n",
    "plt.title('Dev target Distribution')"
   ]
  },
  {
   "cell_type": "markdown",
   "id": "ce08264a",
   "metadata": {},
   "source": [
    "##### Most Used words"
   ]
  },
  {
   "cell_type": "code",
   "execution_count": 7,
   "id": "72601caa",
   "metadata": {},
   "outputs": [],
   "source": [
    "def word_counter(text_list):\n",
    "    \"\"\"\n",
    "    Function that receives a list of strings and returns the (absolute) frequency of each word in that list of strings.\n",
    "    \"\"\"\n",
    "    words_in_df = ' '.join(text_list).split()\n",
    "    \n",
    "    # Count all words \n",
    "    freq = pd.Series(words_in_df).value_counts()\n",
    "    return freq\n",
    "\n",
    "top_words = word_counter(list(explor['sentence']))[:10]"
   ]
  },
  {
   "cell_type": "code",
   "execution_count": 8,
   "id": "beea8acd",
   "metadata": {},
   "outputs": [
    {
     "data": {
      "text/plain": [
       "Text(0.5, 1.0, 'Word count before cleaning')"
      ]
     },
     "execution_count": 8,
     "metadata": {},
     "output_type": "execute_result"
    },
    {
     "data": {
      "image/png": "[encoded data removed]",
      "text/plain": [
       "<Figure size 720x504 with 1 Axes>"
      ]
     },
     "metadata": {},
     "output_type": "display_data"
    }
   ],
   "source": [
    "top_words.plot.bar(figsize = (10,7))\n",
    "plt.xticks(rotation=0)\n",
    "plt.title('Word count before cleaning')"
   ]
  },
  {
   "cell_type": "markdown",
   "id": "6a043acb",
   "metadata": {},
   "source": [
    "##### Pre Processing"
   ]
  },
  {
   "cell_type": "markdown",
   "id": "821ddc14",
   "metadata": {},
   "source": [
    "- __clean_df -__ function that receives a df and a specified column name (the columns with text) and calls __clean__ and __update_df__ to perform data pre-processing specifically for text mining. The function has multiple options that are activated using __if conditions__ that include different pre-processing steps including Lemmatization, Stemming and stopword removal. Besides the optional pre-processing steps, the function also lower cases the text and removes ponctuation. The order of the pre-processing is the following: __LowerCase__ -> __Ponctuation and tag Removal__ -> __Stopword Removal__ (optional) -> __Lemmatization__ (optional) -> __Stemmization__ (optional). The function returns a cleaned df.\n",
    "\n"
   ]
  },
  {
   "cell_type": "code",
   "execution_count": 7,
   "id": "4db13559",
   "metadata": {},
   "outputs": [],
   "source": [
    "#this function receives a dataframe and performs basic pre-processing for text mining, \n",
    "#(lowercase, remove stopwords and punctuation performing lemmatization and stemming isbb optional) \n",
    "\n",
    "def clean(text_list, lemmatize, stemmer,stopword):\n",
    "    from tqdm import tqdm_notebook as tqdm\n",
    "\n",
    "    import re\n",
    "    from nltk.corpus import stopwords\n",
    "    from nltk.stem.wordnet import WordNetLemmatizer\n",
    "    from nltk.tokenize import word_tokenize\n",
    "    from nltk.corpus import wordnet\n",
    "    from nltk.stem import SnowballStemmer\n",
    "    from bs4 import BeautifulSoup\n",
    "    import string\n",
    "\n",
    "    stop = set(stopwords.words('english'))\n",
    "    exclude = set(string.punctuation)\n",
    "    lemma = WordNetLemmatizer()\n",
    "    snowball_stemmer = SnowballStemmer('english')\n",
    "\n",
    "    \"\"\"\n",
    "    Function that a receives a list of strings and preprocesses it.\n",
    "    \n",
    "    :param text_list: List of strings.\n",
    "    :param lemmatize: Tag to apply lemmatization if True.\n",
    "    :param stemmer: Tag to apply the stemmer if True.\n",
    "    \"\"\"\n",
    "    updates = []\n",
    "    for j in tqdm(range(len(text_list))):\n",
    "        \n",
    "        text = text_list[j]\n",
    "        \n",
    "        #LOWERCASE TEXT\n",
    "        text = text.lower()\n",
    "        \n",
    "        #REMOVE NUMERICAL DATA AND PUNCTUATION\n",
    "        text = re.sub(\"[^a-zA-Z!?]\", ' ', text)\n",
    "        \n",
    "        #REMOVE TAGS\n",
    "        text = BeautifulSoup(text).get_text()\n",
    "        \n",
    "        if stopword == True:\n",
    "            text =  \" \".join([word for word in text.split() if word not in (stop)])\n",
    "        \n",
    "        if lemmatize:\n",
    "            text = \" \".join(lemma.lemmatize(word) for word in text.split())\n",
    "        \n",
    "        if stemmer:\n",
    "            text = \" \".join(snowball_stemmer.stem(word) for word in text.split())\n",
    "        \n",
    "        updates.append(text)\n",
    "        \n",
    "    return updates\n",
    "\n",
    "def update_df(dataframe, list_updated,col):\n",
    "    dataframe.update(pd.DataFrame({f\"{col}\": list_updated}))\n",
    "    \n",
    "def clean_df(data,col, lemmatize = False, stemmer = False, stopword=False):\n",
    "    from nltk.corpus import stopwords\n",
    "    stop = set(stopwords.words('english'))\n",
    "    updates = clean(data[f\"{col}\"], lemmatize = lemmatize, stemmer = stemmer,stopword=stopword)\n",
    "    update_df(data, updates,col)\n",
    "\n",
    "    return (data)"
   ]
  },
  {
   "cell_type": "code",
   "execution_count": 8,
   "id": "13550d8a",
   "metadata": {
    "scrolled": false
   },
   "outputs": [
    {
     "data": {
      "application/vnd.jupyter.widget-view+json": {
       "model_id": "7364b7c760694739a18e2e068d96f86e",
       "version_major": 2,
       "version_minor": 0
      },
      "text/plain": [
       "  0%|          | 0/14000 [00:00<?, ?it/s]"
      ]
     },
     "metadata": {},
     "output_type": "display_data"
    },
    {
     "data": {
      "application/vnd.jupyter.widget-view+json": {
       "model_id": "45fabd2b72064df89abf12417ce5461f",
       "version_major": 2,
       "version_minor": 0
      },
      "text/plain": [
       "  0%|          | 0/1000 [00:00<?, ?it/s]"
      ]
     },
     "metadata": {},
     "output_type": "display_data"
    },
    {
     "data": {
      "application/vnd.jupyter.widget-view+json": {
       "model_id": "d783f2b7bf0046dd88cf4a50a2dba0da",
       "version_major": 2,
       "version_minor": 0
      },
      "text/plain": [
       "  0%|          | 0/2000 [00:00<?, ?it/s]"
      ]
     },
     "metadata": {},
     "output_type": "display_data"
    }
   ],
   "source": [
    "train_lem = clean_df(train.iloc[:,:1].copy(),'sentence',lemmatize=True,stopword=True )\n",
    "dev_lem = clean_df(dev.iloc[:,:1].copy(),'sentence',lemmatize=True,stopword=True )\n",
    "test_lem = clean_df(test.iloc[:,:1].copy(),'sentence',lemmatize=True,stopword=True )"
   ]
  },
  {
   "cell_type": "markdown",
   "id": "8b488db6",
   "metadata": {},
   "source": [
    "#####  Bag of words"
   ]
  },
  {
   "cell_type": "markdown",
   "id": "0fc851ca",
   "metadata": {},
   "source": [
    "- __bag_words__ - performs bag of words feature engineer to training, validation and test sets, where only the training data is fitted to avoid data leakage. The function returns 3 transformed DFs (train, val and test) and the CounterVectorizer used to fit the training data."
   ]
  },
  {
   "cell_type": "code",
   "execution_count": 9,
   "id": "d76fbb72",
   "metadata": {},
   "outputs": [],
   "source": [
    "def bag_words (train,dev,test,col, range1=1,range2=1):\n",
    "    from sklearn.feature_extraction.text import CountVectorizer\n",
    "    import numpy as np\n",
    "    cv = CountVectorizer(max_df=0.8, binary=True,token_pattern='(?u)\\\\b\\\\w\\\\w+\\\\b|!|\\?|\\\"', \\\n",
    "                         ngram_range=(range1,range2))\n",
    "    train = cv.fit_transform(train[f\"{col}\"])\n",
    "    dev = cv.transform(dev[f\"{col}\"])\n",
    "    \n",
    "    test = cv.transform(test[f\"{col}\"])\n",
    "    return(train,dev,test, cv)"
   ]
  },
  {
   "cell_type": "code",
   "execution_count": 10,
   "id": "d19386ea",
   "metadata": {},
   "outputs": [],
   "source": [
    "train_ , dev_,test_,cv = bag_words(train_lem,dev_lem,test_lem,'sentence', 1,1)"
   ]
  },
  {
   "cell_type": "markdown",
   "id": "6ca20041",
   "metadata": {},
   "source": [
    "##### TF-IDF "
   ]
  },
  {
   "cell_type": "markdown",
   "id": "f7588983",
   "metadata": {},
   "source": [
    "- - __TF_IDF_2__ - performs TF_IDF feature engineer to training, validation and test sets, where only the training data is fitted to avoid data leakage. The function returns 3 transformed DFs (train, val and test)."
   ]
  },
  {
   "cell_type": "code",
   "execution_count": 11,
   "id": "da5f1835",
   "metadata": {},
   "outputs": [],
   "source": [
    "def extract_feature_scores(feature_names, document_vector):\n",
    "    \"\"\"\n",
    "    Function that creates a dictionary with the TF-IDF score for each feature.\n",
    "    :param feature_names: list with all the feature words.\n",
    "    :param document_vector: vector containing the extracted features for a specific document\n",
    "    \n",
    "    :return: returns a sorted dictionary \"feature\":\"score\".\n",
    "    \"\"\"\n",
    "    feature2score = {}\n",
    "    for i in range(len(feature_names)):\n",
    "        feature2score[feature_names[i]] = document_vector[0][i]    \n",
    "    return sorted(feature2score.items(), key=lambda kv: kv[1], reverse=True)\n",
    "def TF_IDF_2 (train, dev,test,cv):\n",
    "    from sklearn.feature_extraction.text import TfidfTransformer\n",
    "\n",
    "    tfidf_vectorizer = TfidfTransformer()\n",
    "    tfidf_vectorizer.fit(train)\n",
    "    # get feature names\n",
    "    feature_names = cv.get_feature_names()\n",
    "\n",
    "    # fetch document for which keywords needs to be extracted\n",
    "\n",
    "    # generate tf-idf for the given document\n",
    "    tf_idf_train = tfidf_vectorizer.transform(train)\n",
    "    tf_idf_dev = tfidf_vectorizer.transform(dev)\n",
    "    tf_idf_test = tfidf_vectorizer.transform(test)\n",
    "    \n",
    "    scores = extract_feature_scores(feature_names, tf_idf_train.toarray())\n",
    "    return(tf_idf_train,tf_idf_dev,tf_idf_test)"
   ]
  },
  {
   "cell_type": "code",
   "execution_count": 12,
   "id": "d9504163",
   "metadata": {},
   "outputs": [],
   "source": [
    "train__ , dev__ ,test__  = TF_IDF_2(train_,dev_,test_,cv)"
   ]
  },
  {
   "cell_type": "markdown",
   "id": "3ef9da5e",
   "metadata": {},
   "source": [
    "##### CV Function"
   ]
  },
  {
   "cell_type": "markdown",
   "id": "e1645502",
   "metadata": {},
   "source": [
    "- __full_stratKfold_multiLabel__ - function receives a training set with x and y defined and a specified model and performs cross validation. Since it's used for multilabel classification the cv process is assessed witg __Macro F!, Recall__ and __Precision__ and __Accuracy__. After completing the CV, the function returns the trained model and the results of each validation."
   ]
  },
  {
   "cell_type": "code",
   "execution_count": 13,
   "id": "65a405b5",
   "metadata": {},
   "outputs": [],
   "source": [
    "from sklearn.metrics import f1_score, recall_score, precision_score, accuracy_score\n",
    "from sklearn.linear_model import LogisticRegression\n",
    "from sklearn.neighbors import KNeighborsClassifier\n",
    "from sklearn.svm import SVC\n",
    "\n",
    "def full_stratKfold_multiLabel (X_train,y_train, model):\n",
    "    from sklearn.metrics import f1_score, recall_score, precision_score, accuracy_score\n",
    "    from sklearn.model_selection import StratifiedKFold\n",
    "    skf = StratifiedKFold(10)\n",
    "    avg_score_train = []\n",
    "    avg_score_test = []\n",
    "    avg_precision_test = []\n",
    "    avg_precision_train = []\n",
    "    avg_recall_test = []\n",
    "    avg_recall_train = []\n",
    "    avg_acc_train = []\n",
    "    avg_acc_test = []\n",
    "    \n",
    "    \n",
    "    \n",
    "    scores = pd.DataFrame()\n",
    "    train_score = []\n",
    "    test_score = []\n",
    "    train_recall = []\n",
    "    test_recall = []\n",
    "    train_precision = []\n",
    "    test_precision = []\n",
    "#     train_acc = []\n",
    "#     test_acc = []\n",
    "    \n",
    "    for train_index, test_index in skf.split(X_train,y_train):\n",
    "        x_train, x_test = X_train[train_index], X_train[test_index]\n",
    "        Y_train, Y_test = y_train[train_index], y_train[test_index]\n",
    "        algo = model.fit(x_train, Y_train)\n",
    "        \n",
    "        f1_train = f1_score(Y_train,algo.predict(x_train),average='macro')\n",
    "        recall_train = recall_score(Y_train,algo.predict(x_train),average='macro')\n",
    "        precision_train = precision_score(Y_train,algo.predict(x_train),average='macro')\n",
    "        \n",
    "        f1_test = f1_score(Y_test,algo.predict(x_test),average='macro')\n",
    "        recall_test = recall_score(Y_test,algo.predict(x_test),average='macro')\n",
    "        precision_test = precision_score(Y_test,algo.predict(x_test),average='macro')\n",
    "        \n",
    "        acc_train = accuracy_score(Y_train,algo.predict(x_train)) \n",
    "        acc_test = accuracy_score(Y_test,algo.predict(x_test))\n",
    "\n",
    "#         avg_score_train.append(np.round(np.mean(train_score),3))\n",
    "#         avg_score_test.append(np.round(np.mean(test_score),3))\n",
    "        \n",
    "        \n",
    "        train_score.append(f1_train)\n",
    "        train_recall.append(recall_train)\n",
    "        train_precision.append(precision_train)\n",
    "#         train_acc.append(acc_train)\n",
    "        \n",
    "        test_score.append(f1_test)\n",
    "        test_recall.append(recall_test)\n",
    "        test_precision.append(precision_test)\n",
    "#         test_acc.append(acc_test)\n",
    "        \n",
    "        avg_score_train.append(np.round(np.mean(train_score),3))\n",
    "        avg_score_test.append(np.round(np.mean(test_score),3))\n",
    "        avg_recall_test.append(np.round(np.mean(test_recall),3))\n",
    "        avg_recall_train.append(np.round(np.mean(train_recall),3))\n",
    "        avg_precision_test.append(np.round(np.mean(test_precision),3))\n",
    "        avg_precision_train.append(np.round(np.mean(train_precision),3))\n",
    "        \n",
    "#         avg_acc_train.append(np.round(np.mean(train_acc),3))\n",
    "#         avg_acc_test.append(np.round(np.mean(test_acc),3))\n",
    "    \n",
    "    scores['f1_train'] = avg_score_train\n",
    "    scores['recall_train'] = avg_recall_train\n",
    "    scores['precision_train'] = avg_precision_train\n",
    "#     scores['accuracy_train'] = avg_acc_train\n",
    "    \n",
    "    scores['f1_test'] = avg_score_test\n",
    "    scores['recall_test'] = avg_recall_test\n",
    "    scores['precision_test'] = avg_precision_test\n",
    "#     scores['accuracy_test'] = avg_acc_test\n",
    "    \n",
    "    avg_prec_test = np.mean(avg_precision_test).round(2)\n",
    "    avg_prec_train = np.mean(avg_precision_train).round(2)\n",
    "    avg_rec_test = np.mean(avg_recall_test).round(2)\n",
    "    avg_rec_train = np.mean(avg_recall_train).round(2)\n",
    "    avg_f1_test = np.mean(avg_score_test).round(2)\n",
    "    avg_f1_train = np.mean(avg_score_train).round(2)\n",
    "    \n",
    "    avg_accy_train = np.mean(avg_acc_train).round(2)\n",
    "    avg_accy_test = np.mean(avg_acc_test).round(2)\n",
    "    \n",
    "    print(f'Avg F1 Train: {avg_f1_train}')\n",
    "    print(f'Avg F1 Test: {avg_f1_test}')\n",
    "    print(f'')\n",
    "    \n",
    "#     print(f'Avg Accuracy Train: {avg_accy_train}')\n",
    "#     print(f'Avg Accuracy Test: {avg_accy_test}')\n",
    "#     print(f'')\n",
    "    \n",
    "    print(f'Avg Precision Train: {avg_prec_train}')\n",
    "    print(f'Avg Precision Test: {avg_prec_test}')\n",
    "    print(f'')\n",
    "    \n",
    "    print(f'Avg Recall Train: {avg_rec_train}')\n",
    "    print(f'Avg Recall Test: {avg_rec_test}')\n",
    "    returns = {}\n",
    "    returns['scores'] = scores\n",
    "    returns['model'] = model\n",
    "    return(returns)"
   ]
  },
  {
   "cell_type": "markdown",
   "id": "bd0a2483",
   "metadata": {},
   "source": [
    "##### Create x and y"
   ]
  },
  {
   "cell_type": "code",
   "execution_count": 14,
   "id": "ca595231",
   "metadata": {},
   "outputs": [],
   "source": [
    "x_train = train__\n",
    "y_train = train['emotion']\n",
    "\n",
    "x_dev = dev__\n",
    "y_dev = dev['emotion']\n"
   ]
  },
  {
   "cell_type": "markdown",
   "id": "42cafceb",
   "metadata": {},
   "source": [
    "##### KNN (baseline)"
   ]
  },
  {
   "cell_type": "code",
   "execution_count": 12,
   "id": "545e09dc",
   "metadata": {},
   "outputs": [
    {
     "name": "stdout",
     "output_type": "stream",
     "text": [
      "Avg F1 Train: 0.46\n",
      "Avg F1 Test: 0.24\n",
      "\n",
      "Avg Precision Train: 0.53\n",
      "Avg Precision Test: 0.27\n",
      "\n",
      "Avg Recall Train: 0.44\n",
      "Avg Recall Test: 0.24\n",
      "Dev Accuracy : 0.267\n"
     ]
    }
   ],
   "source": [
    "knn_model = full_stratKfold_multiLabel(x_train,y_train,KNeighborsClassifier())\n",
    "pred = knn_model['model'].predict(x_dev)\n",
    "\n",
    "accuracy_dev = accuracy_score(y_dev,pred)\n",
    "print(f'Dev Accuracy : {accuracy_dev}')"
   ]
  },
  {
   "cell_type": "markdown",
   "id": "c8cc9273",
   "metadata": {},
   "source": [
    "##### SVM (baseline 2)"
   ]
  },
  {
   "cell_type": "code",
   "execution_count": 53,
   "id": "e4d82141",
   "metadata": {},
   "outputs": [
    {
     "name": "stdout",
     "output_type": "stream",
     "text": [
      "Avg F1 Train: 0.8\n",
      "Avg F1 Test: 0.31\n",
      "\n",
      "Avg Precision Train: 0.84\n",
      "Avg Precision Test: 0.39\n",
      "\n",
      "Avg Recall Train: 0.78\n",
      "Avg Recall Test: 0.31\n",
      "Dev Accuracy : 0.361\n"
     ]
    }
   ],
   "source": [
    "svm_model = full_stratKfold_multiLabel(x_train,y_train,SVC(random_state=0))\n",
    "pred = svm_model['model'].predict(x_dev)\n",
    "accuracy_dev = accuracy_score(y_dev,pred)\n",
    "print(f'Dev Accuracy : {accuracy_dev}')"
   ]
  },
  {
   "cell_type": "markdown",
   "id": "f6d32ac3",
   "metadata": {},
   "source": [
    "###### Logistic Regression"
   ]
  },
  {
   "cell_type": "code",
   "execution_count": 15,
   "id": "e3831dc4",
   "metadata": {
    "scrolled": true
   },
   "outputs": [
    {
     "name": "stdout",
     "output_type": "stream",
     "text": [
      "Avg F1 Train: 0.58\n",
      "Avg F1 Test: 0.33\n",
      "\n",
      "Avg Precision Train: 0.63\n",
      "Avg Precision Test: 0.38\n",
      "\n",
      "Avg Recall Train: 0.56\n",
      "Avg Recall Test: 0.32\n",
      "Dev Accuracy : 0.371\n"
     ]
    }
   ],
   "source": [
    "lr_model = full_stratKfold_multiLabel(x_train,y_train,LogisticRegression())\n",
    "pred = lr_model['model'].predict(x_dev)\n",
    "accuracy_dev = accuracy_score(y_dev,pred)\n",
    "print(f'Dev Accuracy : {accuracy_dev}')\n"
   ]
  },
  {
   "cell_type": "code",
   "execution_count": 19,
   "id": "486f3f67",
   "metadata": {},
   "outputs": [],
   "source": [
    "dev_assess = dev.copy()\n",
    "dev_assess['Predictions'] = pred\n",
    "\n",
    "assess_labels = pd.DataFrame()\n",
    "label = []\n",
    "acc = []\n",
    "f1 = []\n",
    "prec = []\n",
    "rec = []\n",
    "\n",
    "for i in dev_assess['emotion'].unique():    \n",
    "    true = dev_assess.loc[dev_assess['emotion']==i,'emotion']\n",
    "    prediction = dev_assess.loc[dev_assess['emotion']==i,'Predictions']\n",
    "    label.append(i)\n",
    "    \n",
    "    \n",
    "    accuracy = accuracy_score(true,prediction)\n",
    "    acc.append(accuracy)\n",
    "    \n",
    "    f1_macro = f1_score(true,prediction, average='macro')\n",
    "    f1.append(f1_macro)\n",
    "    \n",
    "    prec_macro = precision_score(true,prediction, average='macro')\n",
    "    prec.append(prec_macro)\n",
    "    \n",
    "    rec_macro = recall_score(true,prediction, average='macro')\n",
    "    rec.append(rec_macro)\n",
    "    \n",
    "    \n",
    "assess_labels['Label'] = label\n",
    "assess_labels['Accuracy'] = acc\n",
    "assess_labels['F1'] = f1\n",
    "assess_labels['Precision'] = prec\n",
    "assess_labels['Recall'] = rec\n",
    "\n",
    "assess_labels = assess_labels.set_index('Label').sort_values(by = 'Accuracy',ascending=False)"
   ]
  },
  {
   "cell_type": "code",
   "execution_count": 15,
   "id": "5278500f",
   "metadata": {},
   "outputs": [
    {
     "data": {
      "text/plain": [
       "Text(0.5, 1.0, 'Accuracy across the different labels')"
      ]
     },
     "execution_count": 15,
     "metadata": {},
     "output_type": "execute_result"
    },
    {
     "data": {
      "image/png": "[encoded data removed]",
      "text/plain": [
       "<Figure size 504x360 with 1 Axes>"
      ]
     },
     "metadata": {},
     "output_type": "display_data"
    }
   ],
   "source": [
    "assess_labels['Accuracy'].plot.bar(figsize=(7,5))\n",
    "plt.xticks(rotation=0)\n",
    "plt.title('Accuracy across the different labels')"
   ]
  },
  {
   "cell_type": "code",
   "execution_count": 54,
   "id": "ca920b90",
   "metadata": {},
   "outputs": [
    {
     "data": {
      "text/plain": [
       "Text(0.5, 1.0, 'F1 across the different labels')"
      ]
     },
     "execution_count": 54,
     "metadata": {},
     "output_type": "execute_result"
    },
    {
     "data": {
      "image/png": "[encoded data removed]",
      "text/plain": [
       "<Figure size 504x360 with 1 Axes>"
      ]
     },
     "metadata": {},
     "output_type": "display_data"
    }
   ],
   "source": [
    "assess_labels['F1'].plot.bar(figsize=(7,5))\n",
    "plt.xticks(rotation=0)\n",
    "plt.title('F1 across the different labels')"
   ]
  },
  {
   "cell_type": "markdown",
   "id": "7fdf4d3b",
   "metadata": {},
   "source": [
    "- In this case we are calculating the scores on a one vs all approach, meaning that for each emotion (label) we will assume 1 with it's the actual emotion and 0 otherwise"
   ]
  },
  {
   "cell_type": "code",
   "execution_count": 20,
   "id": "413bb1c1",
   "metadata": {},
   "outputs": [],
   "source": [
    "from sklearn.metrics import confusion_matrix\n",
    "\n",
    "assess_labels = pd.DataFrame()\n",
    "label = []\n",
    "acc = []\n",
    "f1 = []\n",
    "prec = []\n",
    "rec = []\n",
    "confusion_matrixes = {}\n",
    "for i in dev_assess['emotion'].unique(): \n",
    "    dev_assess = dev.copy()\n",
    "    dev_assess['Predictions'] = pred\n",
    "    dev_assess.loc[dev_assess['emotion']==i,'True_Label'] = 1\n",
    "    dev_assess['True_Label'] = dev_assess['True_Label'].fillna(0)\n",
    "    true = dev_assess['True_Label']\n",
    "    \n",
    "    dev_assess.loc[dev_assess['Predictions']==i,'Pred_Label'] = 1\n",
    "    dev_assess['Pred_Label'] = dev_assess['Pred_Label'].fillna(0)\n",
    "    prediction = dev_assess['Pred_Label']\n",
    "    label.append(i)\n",
    "    \n",
    "    \n",
    "    accuracy = accuracy_score(true,prediction)\n",
    "    acc.append(accuracy)\n",
    "    \n",
    "    f1_macro = f1_score(true,prediction)\n",
    "    f1.append(f1_macro)\n",
    "    \n",
    "    prec_macro = precision_score(true,prediction)\n",
    "    prec.append(prec_macro)\n",
    "    \n",
    "    rec_macro = recall_score(true,prediction)\n",
    "    rec.append(rec_macro)\n",
    "    \n",
    "    confusion_matrixes[i]= confusion_matrix(dev_assess['True_Label'],dev_assess['Pred_Label'])\n",
    "    \n",
    "    \n",
    "assess_labels['Label'] = label\n",
    "assess_labels['Accuracy'] = acc\n",
    "assess_labels['F1'] = f1\n",
    "assess_labels['Precision'] = prec\n",
    "assess_labels['Recall'] = rec\n",
    "\n",
    "assess_labels = assess_labels.set_index('Label').sort_values(by = 'Accuracy',ascending=False)"
   ]
  },
  {
   "cell_type": "code",
   "execution_count": 27,
   "id": "562be638",
   "metadata": {},
   "outputs": [
    {
     "data": {
      "text/plain": [
       "Accuracy     0.842750\n",
       "F1           0.333836\n",
       "Precision    0.364072\n",
       "Recall       0.326682\n",
       "dtype: float64"
      ]
     },
     "execution_count": 27,
     "metadata": {},
     "output_type": "execute_result"
    }
   ],
   "source": [
    "assess_labels.mean()"
   ]
  },
  {
   "cell_type": "code",
   "execution_count": 28,
   "id": "d276d5b0",
   "metadata": {},
   "outputs": [
    {
     "data": {
      "text/plain": [
       "Text(0.5, 1.0, 'F1 across the different labels')"
      ]
     },
     "execution_count": 28,
     "metadata": {},
     "output_type": "execute_result"
    },
    {
     "data": {
      "image/png": "[encoded data removed]",
      "text/plain": [
       "<Figure size 504x360 with 1 Axes>"
      ]
     },
     "metadata": {},
     "output_type": "display_data"
    }
   ],
   "source": [
    "assess_labels['F1'].sort_values(ascending=False).plot.bar(figsize=(7,5))\n",
    "plt.xticks(rotation=0)\n",
    "plt.title('F1 across the different labels')"
   ]
  },
  {
   "cell_type": "code",
   "execution_count": 37,
   "id": "74b4cc4c",
   "metadata": {
    "collapsed": true
   },
   "outputs": [
    {
     "data": {
      "text/plain": [
       "Text(0.5, 1.0, 'Confusion Matrix')"
      ]
     },
     "execution_count": 37,
     "metadata": {},
     "output_type": "execute_result"
    },
    {
     "data": {
      "image/png": "[encoded data removed]",
      "text/plain": [
       "<Figure size 720x504 with 2 Axes>"
      ]
     },
     "metadata": {},
     "output_type": "display_data"
    }
   ],
   "source": [
    "plt.figure(figsize=(10,7))\n",
    "sns.heatmap(confusion_matrixes[3], annot=True,vmax=1000,vmin=0)\n",
    "plt.title('Confusion Matrix')"
   ]
  },
  {
   "cell_type": "markdown",
   "id": "6784fc11",
   "metadata": {},
   "source": [
    "#### Final Predictions"
   ]
  },
  {
   "cell_type": "markdown",
   "id": "4e0b1f2e",
   "metadata": {},
   "source": [
    "#### Test Set"
   ]
  },
  {
   "cell_type": "code",
   "execution_count": 16,
   "id": "9d591501",
   "metadata": {},
   "outputs": [
    {
     "name": "stdout",
     "output_type": "stream",
     "text": [
      "Avg F1 Train: 0.58\n",
      "Avg F1 Test: 0.33\n",
      "\n",
      "Avg Precision Train: 0.63\n",
      "Avg Precision Test: 0.38\n",
      "\n",
      "Avg Recall Train: 0.56\n",
      "Avg Recall Test: 0.32\n"
     ]
    }
   ],
   "source": [
    "lr_model = full_stratKfold_multiLabel(x_train,y_train,LogisticRegression())\n",
    "test_labels = lr_model['model'].predict(test__)\n",
    "test_predict = test.copy()\n",
    "test_predict['Labels'] = test_labels\n",
    "# test_predict.set_index('sentence').to_csv('test_results.txt',sep='\t',)\n",
    "\n"
   ]
  },
  {
   "cell_type": "markdown",
   "id": "d0a59717",
   "metadata": {},
   "source": [
    "##### Dev Set"
   ]
  },
  {
   "cell_type": "code",
   "execution_count": 17,
   "id": "72c90b16",
   "metadata": {},
   "outputs": [
    {
     "name": "stdout",
     "output_type": "stream",
     "text": [
      "Dev Accuracy : 0.371\n"
     ]
    }
   ],
   "source": [
    "dev_pred = pd.DataFrame()\n",
    "dev_pred['sentence'] = dev['sentence']\n",
    "dev_pred['Pred_Label'] = lr_model['model'].predict(x_dev)\n",
    "accuracy_dev = accuracy_score(y_dev,dev_pred['Pred_Label'])\n",
    "print(f'Dev Accuracy : {accuracy_dev}')\n",
    "# dev_pred.set_index('sentence').to_csv('dev_results.txt',sep='\t')"
   ]
  },
  {
   "cell_type": "markdown",
   "id": "e5b2c2ba",
   "metadata": {},
   "source": [
    "#### Full Pipeline "
   ]
  },
  {
   "cell_type": "code",
   "execution_count": 10,
   "id": "58c31efb",
   "metadata": {},
   "outputs": [
    {
     "name": "stdout",
     "output_type": "stream",
     "text": [
      "Data has been imported!\n"
     ]
    },
    {
     "data": {
      "application/vnd.jupyter.widget-view+json": {
       "model_id": "0b4f15ca21a44c6ab38cabec32af1660",
       "version_major": 2,
       "version_minor": 0
      },
      "text/plain": [
       "  0%|          | 0/14000 [00:00<?, ?it/s]"
      ]
     },
     "metadata": {},
     "output_type": "display_data"
    },
    {
     "data": {
      "application/vnd.jupyter.widget-view+json": {
       "model_id": "b8b55c7acc9646bc8481ec653fb5bf54",
       "version_major": 2,
       "version_minor": 0
      },
      "text/plain": [
       "  0%|          | 0/1000 [00:00<?, ?it/s]"
      ]
     },
     "metadata": {},
     "output_type": "display_data"
    },
    {
     "data": {
      "application/vnd.jupyter.widget-view+json": {
       "model_id": "5b0e8da562d1422f8b8360f94b26dbd8",
       "version_major": 2,
       "version_minor": 0
      },
      "text/plain": [
       "  0%|          | 0/2000 [00:00<?, ?it/s]"
      ]
     },
     "metadata": {},
     "output_type": "display_data"
    },
    {
     "name": "stdout",
     "output_type": "stream",
     "text": [
      "Pre-Processing concluded!\n",
      "Avg F1 Train: 0.58\n",
      "Avg F1 Test: 0.33\n",
      "\n",
      "Avg Precision Train: 0.63\n",
      "Avg Precision Test: 0.38\n",
      "\n",
      "Avg Recall Train: 0.56\n",
      "Avg Recall Test: 0.32\n",
      "Dev Accuracy : 0.371\n"
     ]
    }
   ],
   "source": [
    "import pandas as pd\n",
    "import numpy as np \n",
    "import seaborn as sns\n",
    "import matplotlib.pyplot as plt\n",
    "\n",
    "\n",
    "import warnings\n",
    "warnings.filterwarnings('ignore')\n",
    "\n",
    "def clean(text_list, lemmatize, stemmer,stopword):\n",
    "    from tqdm import tqdm_notebook as tqdm\n",
    "\n",
    "    import re\n",
    "    from nltk.corpus import stopwords\n",
    "    from nltk.stem.wordnet import WordNetLemmatizer\n",
    "    from nltk.tokenize import word_tokenize\n",
    "    from nltk.corpus import wordnet\n",
    "    from nltk.stem import SnowballStemmer\n",
    "    from bs4 import BeautifulSoup\n",
    "    import string\n",
    "\n",
    "    stop = set(stopwords.words('english'))\n",
    "    exclude = set(string.punctuation)\n",
    "    lemma = WordNetLemmatizer()\n",
    "    snowball_stemmer = SnowballStemmer('english')\n",
    "\n",
    "    \"\"\"\n",
    "    Function that a receives a list of strings and preprocesses it.\n",
    "    \n",
    "    :param text_list: List of strings.\n",
    "    :param lemmatize: Tag to apply lemmatization if True.\n",
    "    :param stemmer: Tag to apply the stemmer if True.\n",
    "    \"\"\"\n",
    "    updates = []\n",
    "    for j in tqdm(range(len(text_list))):\n",
    "        \n",
    "        text = text_list[j]\n",
    "        \n",
    "        #LOWERCASE TEXT\n",
    "        text = text.lower()\n",
    "        \n",
    "        #REMOVE NUMERICAL DATA AND PUNCTUATION\n",
    "        text = re.sub(\"[^a-zA-Z!?]\", ' ', text)\n",
    "        \n",
    "        #REMOVE TAGS\n",
    "        text = BeautifulSoup(text).get_text()\n",
    "        \n",
    "        if stopword == True:\n",
    "            text =  \" \".join([word for word in text.split() if word not in (stop)])\n",
    "        \n",
    "        if lemmatize:\n",
    "            text = \" \".join(lemma.lemmatize(word) for word in text.split())\n",
    "        \n",
    "        if stemmer:\n",
    "            text = \" \".join(snowball_stemmer.stem(word) for word in text.split())\n",
    "        \n",
    "        updates.append(text)\n",
    "        \n",
    "    return updates\n",
    "\n",
    "def update_df(dataframe, list_updated,col):\n",
    "    dataframe.update(pd.DataFrame({f\"{col}\": list_updated}))\n",
    "    \n",
    "def clean_df(data,col, lemmatize = False, stemmer = False, stopword=False):\n",
    "    from nltk.corpus import stopwords\n",
    "    stop = set(stopwords.words('english'))\n",
    "    updates = clean(data[f\"{col}\"], lemmatize = lemmatize, stemmer = stemmer,stopword=stopword)\n",
    "    update_df(data, updates,col)\n",
    "\n",
    "    return (data)\n",
    "\n",
    "\n",
    "def bag_words (train,dev,test,col, range1=1,range2=1):\n",
    "    from sklearn.feature_extraction.text import CountVectorizer\n",
    "    import numpy as np\n",
    "    cv = CountVectorizer(max_df=0.8, binary=True,token_pattern='(?u)\\\\b\\\\w\\\\w+\\\\b|!|\\?|\\\"', \\\n",
    "                         ngram_range=(range1,range2))\n",
    "    train = cv.fit_transform(train[f\"{col}\"])\n",
    "    dev = cv.transform(dev[f\"{col}\"])\n",
    "    \n",
    "    test = cv.transform(test[f\"{col}\"])\n",
    "    return(train,dev,test, cv)\n",
    "\n",
    "def extract_feature_scores(feature_names, document_vector):\n",
    "    \"\"\"\n",
    "    Function that creates a dictionary with the TF-IDF score for each feature.\n",
    "    :param feature_names: list with all the feature words.\n",
    "    :param document_vector: vector containing the extracted features for a specific document\n",
    "    \n",
    "    :return: returns a sorted dictionary \"feature\":\"score\".\n",
    "    \"\"\"\n",
    "    feature2score = {}\n",
    "    for i in range(len(feature_names)):\n",
    "        feature2score[feature_names[i]] = document_vector[0][i]    \n",
    "    return (sorted(feature2score.items(), key=lambda kv: kv[1], reverse=True))\n",
    "\n",
    "def TF_IDF_2 (train, dev,test,cv):\n",
    "    from sklearn.feature_extraction.text import TfidfTransformer\n",
    "\n",
    "    tfidf_vectorizer = TfidfTransformer()\n",
    "    tfidf_vectorizer.fit(train)\n",
    "    # get feature names\n",
    "    feature_names = cv.get_feature_names()\n",
    "\n",
    "    # fetch document for which keywords needs to be extracted\n",
    "\n",
    "    # generate tf-idf for the given document\n",
    "    tf_idf_train = tfidf_vectorizer.transform(train)\n",
    "    tf_idf_dev = tfidf_vectorizer.transform(dev)\n",
    "    tf_idf_test = tfidf_vectorizer.transform(test)\n",
    "    \n",
    "    scores = extract_feature_scores(feature_names, tf_idf_train.toarray())\n",
    "    return(tf_idf_train,tf_idf_dev,tf_idf_test)\n",
    "\n",
    "from sklearn.metrics import f1_score, recall_score, precision_score, accuracy_score\n",
    "from sklearn.linear_model import LogisticRegression\n",
    "from sklearn.neighbors import KNeighborsClassifier\n",
    "from sklearn.svm import SVC\n",
    "\n",
    "def full_stratKfold_multiLabel (X_train,y_train, model):\n",
    "    from sklearn.metrics import f1_score, recall_score, precision_score, accuracy_score\n",
    "    from sklearn.model_selection import StratifiedKFold\n",
    "    skf = StratifiedKFold(10)\n",
    "    avg_score_train = []\n",
    "    avg_score_test = []\n",
    "    avg_precision_test = []\n",
    "    avg_precision_train = []\n",
    "    avg_recall_test = []\n",
    "    avg_recall_train = []\n",
    "    avg_acc_train = []\n",
    "    avg_acc_test = []\n",
    "    \n",
    "    \n",
    "    \n",
    "    scores = pd.DataFrame()\n",
    "    train_score = []\n",
    "    test_score = []\n",
    "    train_recall = []\n",
    "    test_recall = []\n",
    "    train_precision = []\n",
    "    test_precision = []\n",
    "#     train_acc = []\n",
    "#     test_acc = []\n",
    "    \n",
    "    for train_index, test_index in skf.split(X_train,y_train):\n",
    "        x_train, x_test = X_train[train_index], X_train[test_index]\n",
    "        Y_train, Y_test = y_train[train_index], y_train[test_index]\n",
    "        algo = model.fit(x_train, Y_train)\n",
    "        \n",
    "        f1_train = f1_score(Y_train,algo.predict(x_train),average='macro')\n",
    "        recall_train = recall_score(Y_train,algo.predict(x_train),average='macro')\n",
    "        precision_train = precision_score(Y_train,algo.predict(x_train),average='macro')\n",
    "        \n",
    "        f1_test = f1_score(Y_test,algo.predict(x_test),average='macro')\n",
    "        recall_test = recall_score(Y_test,algo.predict(x_test),average='macro')\n",
    "        precision_test = precision_score(Y_test,algo.predict(x_test),average='macro')\n",
    "        \n",
    "        acc_train = accuracy_score(Y_train,algo.predict(x_train)) \n",
    "        acc_test = accuracy_score(Y_test,algo.predict(x_test))\n",
    "\n",
    "#         avg_score_train.append(np.round(np.mean(train_score),3))\n",
    "#         avg_score_test.append(np.round(np.mean(test_score),3))\n",
    "        \n",
    "        \n",
    "        train_score.append(f1_train)\n",
    "        train_recall.append(recall_train)\n",
    "        train_precision.append(precision_train)\n",
    "#         train_acc.append(acc_train)\n",
    "        \n",
    "        test_score.append(f1_test)\n",
    "        test_recall.append(recall_test)\n",
    "        test_precision.append(precision_test)\n",
    "#         test_acc.append(acc_test)\n",
    "        \n",
    "        avg_score_train.append(np.round(np.mean(train_score),3))\n",
    "        avg_score_test.append(np.round(np.mean(test_score),3))\n",
    "        avg_recall_test.append(np.round(np.mean(test_recall),3))\n",
    "        avg_recall_train.append(np.round(np.mean(train_recall),3))\n",
    "        avg_precision_test.append(np.round(np.mean(test_precision),3))\n",
    "        avg_precision_train.append(np.round(np.mean(train_precision),3))\n",
    "        \n",
    "#         avg_acc_train.append(np.round(np.mean(train_acc),3))\n",
    "#         avg_acc_test.append(np.round(np.mean(test_acc),3))\n",
    "    \n",
    "    scores['f1_train'] = avg_score_train\n",
    "    scores['recall_train'] = avg_recall_train\n",
    "    scores['precision_train'] = avg_precision_train\n",
    "#     scores['accuracy_train'] = avg_acc_train\n",
    "    \n",
    "    scores['f1_test'] = avg_score_test\n",
    "    scores['recall_test'] = avg_recall_test\n",
    "    scores['precision_test'] = avg_precision_test\n",
    "#     scores['accuracy_test'] = avg_acc_test\n",
    "    \n",
    "    avg_prec_test = np.mean(avg_precision_test).round(2)\n",
    "    avg_prec_train = np.mean(avg_precision_train).round(2)\n",
    "    avg_rec_test = np.mean(avg_recall_test).round(2)\n",
    "    avg_rec_train = np.mean(avg_recall_train).round(2)\n",
    "    avg_f1_test = np.mean(avg_score_test).round(2)\n",
    "    avg_f1_train = np.mean(avg_score_train).round(2)\n",
    "    \n",
    "    avg_accy_train = np.mean(avg_acc_train).round(2)\n",
    "    avg_accy_test = np.mean(avg_acc_test).round(2)\n",
    "    \n",
    "    print(f'Avg F1 Train: {avg_f1_train}')\n",
    "    print(f'Avg F1 Test: {avg_f1_test}')\n",
    "    print(f'')\n",
    "    \n",
    "#     print(f'Avg Accuracy Train: {avg_accy_train}')\n",
    "#     print(f'Avg Accuracy Test: {avg_accy_test}')\n",
    "#     print(f'')\n",
    "    \n",
    "    print(f'Avg Precision Train: {avg_prec_train}')\n",
    "    print(f'Avg Precision Test: {avg_prec_test}')\n",
    "    print(f'')\n",
    "    \n",
    "    print(f'Avg Recall Train: {avg_rec_train}')\n",
    "    print(f'Avg Recall Test: {avg_rec_test}')\n",
    "    returns = {}\n",
    "    returns['scores'] = scores\n",
    "    returns['model'] = model\n",
    "    return(returns)\n",
    "\n",
    "def full_pipeline ():\n",
    "    import pandas as pd\n",
    "    import numpy as np \n",
    "    import seaborn as sns\n",
    "    import matplotlib.pyplot as plt\n",
    "\n",
    "\n",
    "    import warnings\n",
    "    warnings.filterwarnings('ignore')\n",
    "    train = pd.read_csv('training_set.txt',sep='\t')\n",
    "    dev = pd.read_csv('dev_set.txt',sep='\t')\n",
    "    test = pd.read_csv('test_set.txt',sep='\t')\n",
    "    \n",
    "    print('Data has been imported!')\n",
    "    \n",
    "    train_lem = clean_df(train.iloc[:,:1].copy(),'sentence',lemmatize=True,stopword=True )\n",
    "    dev_lem = clean_df(dev.iloc[:,:1].copy(),'sentence',lemmatize=True,stopword=True )\n",
    "    test_lem = clean_df(test.iloc[:,:1].copy(),'sentence',lemmatize=True,stopword=True )\n",
    "\n",
    "    \n",
    "    train_ , dev_,test_,cv = bag_words(train_lem,dev_lem,test_lem,'sentence', 1,1)\n",
    "    \n",
    "    train__ , dev__ ,test__  = TF_IDF_2(train_,dev_,test_,cv)\n",
    "    \n",
    "    print('Pre-Processing concluded!')\n",
    "    \n",
    "    x_train = train__\n",
    "    y_train = train['emotion']\n",
    "\n",
    "    x_dev = dev__\n",
    "    y_dev = dev['emotion']\n",
    "    \n",
    "    lr_model = full_stratKfold_multiLabel(x_train,y_train,LogisticRegression())\n",
    "    pred = lr_model['model'].predict(x_dev)\n",
    "    accuracy_dev = accuracy_score(y_dev,pred)\n",
    "    print(f'Dev Accuracy : {accuracy_dev}')\n",
    "    return(lr_model)\n",
    "\n",
    "\n",
    "final_model = full_pipeline()\n"
   ]
  }
 ],
 "metadata": {
  "kernelspec": {
   "display_name": "Python 3 (ipykernel)",
   "language": "python",
   "name": "python3"
  },
  "language_info": {
   "codemirror_mode": {
    "name": "ipython",
    "version": 3
   },
   "file_extension": ".py",
   "mimetype": "text/x-python",
   "name": "python",
   "nbconvert_exporter": "python",
   "pygments_lexer": "ipython3",
   "version": "3.8.11"
  }
 },
 "nbformat": 4,
 "nbformat_minor": 5
}
